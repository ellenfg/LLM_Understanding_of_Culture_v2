{
  "cells": [
    {
      "cell_type": "markdown",
      "metadata": {
        "id": "CCXuVu_SML-t"
      },
      "source": [
        "# Embeddings per word"
      ]
    },
    {
      "cell_type": "markdown",
      "metadata": {},
      "source": [
        "## Setting up variables"
      ]
    },
    {
      "cell_type": "code",
      "execution_count": 1,
      "metadata": {
        "colab": {
          "base_uri": "https://localhost:8080/"
        },
        "id": "-MX22Ov2MRcL",
        "outputId": "234d2cf9-2cc7-4d28-feb7-eb9d9eb5a29f"
      },
      "outputs": [],
      "source": [
        "# N.B. implemented in google colab originally, file paths should be updated to reflect this if running in drive \n",
        "# from google.colab import drive\n",
        "# drive.mount('/drive')"
      ]
    },
    {
      "cell_type": "code",
      "execution_count": 5,
      "metadata": {
        "id": "qXfu0ALIML-v"
      },
      "outputs": [],
      "source": [
        "# change the variables in this cell according to the model and words you are analysing \n",
        "data_length = 500\n",
        "language = 'en'\n",
        "model_name = 'bert-base-uncased' #enter 'camembert' if using 'camembert-base-ccnet'\n",
        "model_size = 512\n",
        "words = ['auteur','author'] "
      ]
    },
    {
      "cell_type": "code",
      "execution_count": 3,
      "metadata": {
        "id": "kUXpddkD3VZT"
      },
      "outputs": [],
      "source": [
        "# dictionary of alternative spellings to account for variation in diacritics \n",
        "alternate_spellings = {'a la mode':'à la mode','académie':'academie','après':'apres','depanneur':'dépanneur','detente':'détente','faux pas':'faux-pas','fete':'fête','fin de siecle':'findesiecle','gite':'gîte','lycee':'lycée','rendezvous':'rendez vous','cafe':'café','cliche':'cliché','elite':'élite','etiquette':'étiquette','facade':'façade','naive':'naïve','end of century':'end-of-century','middle class':'middleclass','working class':'workingclass'}"
      ]
    },
    {
      "cell_type": "markdown",
      "metadata": {
        "id": "J3eBTGbRML-v"
      },
      "source": [
        "## Word Embeddings"
      ]
    },
    {
      "cell_type": "code",
      "execution_count": 4,
      "metadata": {
        "id": "pjeXZ175ML-v"
      },
      "outputs": [
        {
          "name": "stdout",
          "output_type": "stream",
          "text": [
            "Intel MKL WARNING: Support of Intel(R) Streaming SIMD Extensions 4.2 (Intel(R) SSE4.2) enabled only processors has been deprecated. Intel oneAPI Math Kernel Library 2025.0 will require Intel(R) Advanced Vector Extensions (Intel(R) AVX) instructions.\n",
            "Intel MKL WARNING: Support of Intel(R) Streaming SIMD Extensions 4.2 (Intel(R) SSE4.2) enabled only processors has been deprecated. Intel oneAPI Math Kernel Library 2025.0 will require Intel(R) Advanced Vector Extensions (Intel(R) AVX) instructions.\n"
          ]
        }
      ],
      "source": [
        "import pandas as pd\n",
        "import numpy as np\n",
        "import torch"
      ]
    },
    {
      "cell_type": "code",
      "execution_count": 5,
      "metadata": {
        "colab": {
          "base_uri": "https://localhost:8080/"
        },
        "id": "uSOg10h3NGpI",
        "outputId": "3a1ac94a-9a81-48cd-bca2-364a14caa09b"
      },
      "outputs": [],
      "source": [
        "# uncomment the following if running in colab\n",
        "# !pip install transformers\n",
        "# !pip install sentencepiece"
      ]
    },
    {
      "cell_type": "code",
      "execution_count": 10,
      "metadata": {
        "colab": {
          "base_uri": "https://localhost:8080/",
          "height": 145,
          "referenced_widgets": [
            "b1802dd74210449f831c4840bb82de01",
            "61b94dfe49314f598f3563f9d9548af7",
            "e48cb8915c2e4d09bf1936891bd290d7",
            "afd12bd05d284c34970e1ad2da964c2e",
            "bbb64a06df97422fbdf7ef95d368727d",
            "e41f7984378b42b09a8707ce3c50e152",
            "97903cf0d35b4d2eba463dc42650be46",
            "d1676345df794ec1860d22cfa09a9520",
            "39878ddacae64b99a62a13978300d9cc",
            "bc7543fcf8cd49aeb632f868d09809ae",
            "70470d7015c44732828103f876f0c29b",
            "95ec90577eca4f6b8146eed1201952df",
            "46cfbb6b0fbd46d8b015124d7171104e",
            "7e8d7f3301e04d2eb46adc44947cd955",
            "c0c6ded698d04d978d966cfe7ccd0081",
            "6138de7bfc994d2c978d783371a7c710",
            "7c0bf10984114a748231e643814fec44",
            "2b01309c717d4dbab8bb8844fa9fb55c",
            "c0f49003ac114d66962c8955f29b1c0c",
            "12cec832b86349f482bdf56b90d74dfd",
            "8a09c404074f4daabe22f8c663a5afbc",
            "9f9578311a0548b2a0d588bf104c6f23",
            "9e6440cf4348402084a51a9bd6de71f8",
            "ccd2d8b380994230bbf18a49de3203e5",
            "406fb4fbe9224e1a84fce348906be6e9",
            "861dca6ec6b74017bad2d12b5ea3efad",
            "2f9b3f3d0b864427b43e9ff9252368e2",
            "2d829ff998e9421d951b13fc6b56d19b",
            "197cdaad0d7c42eb831cd363165994bc",
            "20b25005eceb4e619dd68e56ac4c7df5",
            "dc8edfd08bc54c43b0651de2d8621bc2",
            "4d0540f632ed4463bef23469b7c48fc5",
            "3b41336a85654c49a5912a78d3150a0f",
            "086148dc14574ee79fb616f64cf39c8e",
            "84e1c409294048d7ba8a8aad6634c41b",
            "860d2bb297aa484b9a41a888274c10ca",
            "9873fc1406d64227bebe9d5d9e39629a",
            "eec1ddead6a74bf8b78f2e525727b27f",
            "5d2041638a7243c29d71464fbd3f96cf",
            "cb068f9f316f446ab89a14821c42b006",
            "a8edb8b8fd0e4117943801c5c6fb9343",
            "5a00d0e9534c4b3caaa8ebd4e25be0f0",
            "39cdf9b2bf6849eca2e8a4e9716f7003",
            "8fd92311c3604e1387ad24b31b606a21"
          ]
        },
        "id": "zxAW_ADNML-v",
        "outputId": "1d022d7d-a0a9-4a14-8fc4-e8f9c52a9c6b"
      },
      "outputs": [
        {
          "name": "stderr",
          "output_type": "stream",
          "text": [
            "Some weights of the model checkpoint at bert-base-multilingual-uncased were not used when initializing BertForMaskedLM: ['cls.seq_relationship.weight', 'cls.seq_relationship.bias']\n",
            "- This IS expected if you are initializing BertForMaskedLM from the checkpoint of a model trained on another task or with another architecture (e.g. initializing a BertForSequenceClassification model from a BertForPreTraining model).\n",
            "- This IS NOT expected if you are initializing BertForMaskedLM from the checkpoint of a model that you expect to be exactly identical (initializing a BertForSequenceClassification model from a BertForSequenceClassification model).\n"
          ]
        }
      ],
      "source": [
        "from transformers import BertTokenizer, BertForMaskedLM,CamembertForMaskedLM, CamembertTokenizer\n",
        "\n",
        "\n",
        "if model_name == \"camembert\":\n",
        "  model = CamembertForMaskedLM.from_pretrained(\"camembert/camembert-base-ccnet\",output_hidden_states = True)\n",
        "  tokenizer = CamembertTokenizer.from_pretrained(\"camembert/camembert-base-ccnet\")\n",
        "\n",
        "else:\n",
        "  tokenizer = BertTokenizer.from_pretrained(model_name)\n",
        "  model = BertForMaskedLM.from_pretrained(model_name,output_hidden_states = True)"
      ]
    },
    {
      "cell_type": "markdown",
      "metadata": {
        "id": "m4SgHFkrML-v"
      },
      "source": [
        "## Functions"
      ]
    },
    {
      "cell_type": "code",
      "execution_count": 12,
      "metadata": {
        "id": "mDxJgIwgML-w"
      },
      "outputs": [],
      "source": [
        "def bert_text_preparation(text, tokenizer):\n",
        "  \"\"\"\n",
        "  Preprocesses the sentence input for BERT to process\n",
        "  \"\"\"\n",
        "\n",
        "  marked_text = \"[CLS] \" + text + \" [SEP]\"\n",
        "  tokenized_text = tokenizer.tokenize(marked_text)\n",
        "  token_ids = tokenizer.convert_tokens_to_ids(tokenized_text)\n",
        "  segment_ids = [1]*len(token_ids)\n",
        "\n",
        "  # Pad token IDs and attention mask\n",
        "  max_length = model_size  # Maximum sequence length for model\n",
        "  padding_length = max_length - len(token_ids)\n",
        "\n",
        "  padded_token_ids = token_ids + [0] * padding_length\n",
        "  padded_segment_ids = segment_ids + [0] * padding_length\n",
        "\n",
        "  # convert inputs to tensors\n",
        "  tokens_tensor = torch.tensor([padded_token_ids])\n",
        "  segments_tensor = torch.tensor([padded_segment_ids])\n",
        "\n",
        "  return tokenized_text, tokens_tensor, segments_tensor"
      ]
    },
    {
      "cell_type": "code",
      "execution_count": 17,
      "metadata": {
        "id": "df3S4UDCML-w"
      },
      "outputs": [],
      "source": [
        "def get_bert_embeddings(tokens_tensor, segments_tensor, model):\n",
        "    \"\"\"\n",
        "    Obtains contextual BERT embeddings for tokens.\n",
        "    \"\"\"\n",
        "    # gradient calculation id disabled\n",
        "    with torch.no_grad():\n",
        "      # obtain hidden states\n",
        "      outputs = model(tokens_tensor, segments_tensor)\n",
        "      layers = outputs.hidden_states[-3:]\n",
        "\n",
        "    # remove dimension 1, the \"batches\"\n",
        "    squeezed_layers = [torch.squeeze(layer,dim=1) for layer in layers]\n",
        "\n",
        "    # swap dimensions 0 and 1 so we can loop over tokens\n",
        "    processed_layers = [layer.permute(1,0,2) for layer in squeezed_layers]\n",
        "\n",
        "    return processed_layers[0],processed_layers[1],processed_layers[2]"
      ]
    },
    {
      "cell_type": "code",
      "execution_count": 14,
      "metadata": {
        "id": "Jz2ewr273VZV"
      },
      "outputs": [],
      "source": [
        "def make_dataframe_all(context_tokens,context_embeddings_dict,token_sent_index):\n",
        "  \"\"\"\n",
        "  Process the embeddings into a dataframe  \n",
        "  \"\"\"\n",
        "  context_data = pd.DataFrame(columns = ['text','embeddings_layer_12','embeddings_layer_11','embeddings_layer_10','sentence_no'])\n",
        "\n",
        "  for key in context_embeddings_dict.keys():\n",
        "    context_embeddings_dict[key] = [element.detach().numpy() for element in context_embeddings_dict[key]]\n",
        "    context_embeddings_dict[key] = [element.flatten() for element in context_embeddings_dict[key]]\n",
        "\n",
        "  context_data['text']= context_tokens\n",
        "  context_data['embeddings_layer_12']= context_embeddings_dict['layer_12']\n",
        "  context_data['embeddings_layer_11']=context_embeddings_dict['layer_11']\n",
        "  context_data['embeddings_layer_10']=context_embeddings_dict['layer_10']\n",
        "  context_data['sentence_no']= token_sent_index\n",
        "\n",
        "  return context_data"
      ]
    },
    {
      "cell_type": "code",
      "execution_count": 15,
      "metadata": {
        "id": "Q-t4jjkl3VZV"
      },
      "outputs": [],
      "source": [
        "def get_target_embeddings(word,context_data,tokenized_word,sentences,alternate_spellings): # word e.g. [chanson], tokenized_word = ['chan','##son']\n",
        "    \"\"\"\n",
        "    Select only the embeddings for the target word for clustering   \n",
        "    \"\"\"\n",
        "    \n",
        "    if word in alternate_spellings.keys(): # if there is an alternative way to spell the word\n",
        "      main_df = context_data[(context_data['text']==word)|(context_data['text']==word+'</w>')|(context_data['text']==word+'s')|(context_data['text']==word+'s'+'</w>')|(context_data['text']==alternate_spellings[word])|(context_data['text']==alternate_spellings[word]+'</w>')|(context_data['text']==alternate_spellings[word]+'s')|(context_data['text']==alternate_spellings[word]+'s'+'</w>')]\n",
        "    else:\n",
        "      main_df = context_data[(context_data['text']==word)|(context_data['text']==word+'</w>')|(context_data['text']==word+'s')|(context_data['text']==word+'s'+'</w>')]\n",
        "\n",
        "    if len(tokenized_word)>1: # if the word has been split to be tokenized\n",
        "        indices = list(context_data[context_data[\"text\"] == tokenized_word[0]].index.values)\n",
        "        new_ind = []\n",
        "        av_emb = {'embeddings_layer_12':[], # obtaining different layers' embeddings \n",
        "                  'embeddings_layer_11':[],\n",
        "                  'embeddings_layer_10':[]\n",
        "                  }\n",
        "        for i in indices:\n",
        "            embedding_length = 1\n",
        "            for j in range(1,len(tokenized_word)): # checking all the tokens match the tokenised target word \n",
        "                if context_data.iloc[i+j, context_data.columns.get_loc('text')] == tokenized_word[j] or context_data.iloc[i+j, context_data.columns.get_loc('text')] == tokenized_word[j]+'s':\n",
        "                    embedding_length += 1\n",
        "            if embedding_length == len(tokenized_word):\n",
        "                new_ind+=[i]\n",
        "                for layer in ['embeddings_layer_12','embeddings_layer_11','embeddings_layer_10']:\n",
        "                    av = context_data.iloc[i, context_data.columns.get_loc(layer)] # averaging the tokens' embeddings to get a contextualised word embedding\n",
        "                    for k in range(len(tokenized_word)-1):\n",
        "                        av += context_data.iloc[i+k, context_data.columns.get_loc(layer)]\n",
        "                    av = av/len(tokenized_word)\n",
        "                    av_emb[layer] +=  [av]\n",
        "        split_tokens = context_data.iloc[new_ind]\n",
        "        for layer in ['embeddings_layer_12','embeddings_layer_11','embeddings_layer_10']:\n",
        "            split_tokens[layer] = av_emb[layer]\n",
        "        w_df = pd.concat([main_df,split_tokens])\n",
        "    else:\n",
        "        w_df = main_df\n",
        "\n",
        "    indexed = [(sentences.index(sentence),sentence) for sentence in sentences] # getting the index for each sentence\n",
        "    sentence_dict = {}\n",
        "    for index,sentence in indexed:\n",
        "        sentence_dict[index] = sentence\n",
        "\n",
        "    # adding original sentence to df\n",
        "    sent_numbers = w_df['sentence_no'].tolist()\n",
        "    original = [sentence_dict[number] for number in sent_numbers]\n",
        "    w_df['original'] = original\n",
        "\n",
        "    # trimming the dataframe\n",
        "    w_df = w_df.iloc[:500,:]\n",
        "\n",
        "    return w_df\n"
      ]
    },
    {
      "cell_type": "markdown",
      "metadata": {
        "id": "XrpqoDEN3VZV"
      },
      "source": [
        "## For loop for each word"
      ]
    },
    {
      "cell_type": "code",
      "execution_count": 18,
      "metadata": {
        "colab": {
          "base_uri": "https://localhost:8080/",
          "height": 407
        },
        "id": "bU78pCmwML-w",
        "outputId": "af18401e-6245-415a-c401-2d50f597f2ca"
      },
      "outputs": [
        {
          "name": "stdout",
          "output_type": "stream",
          "text": [
            "Tokenized_word:  ['auteur']\n"
          ]
        },
        {
          "ename": "KeyboardInterrupt",
          "evalue": "",
          "output_type": "error",
          "traceback": [
            "\u001b[0;31m---------------------------------------------------------------------------\u001b[0m",
            "\u001b[0;31mKeyboardInterrupt\u001b[0m                         Traceback (most recent call last)",
            "Cell \u001b[0;32mIn[18], line 23\u001b[0m\n\u001b[1;32m     21\u001b[0m tokenized_text, tokens_tensor, segments_tensors \u001b[39m=\u001b[39m bert_text_preparation(sentence, tokenizer)\n\u001b[1;32m     22\u001b[0m \u001b[39mtry\u001b[39;00m:\n\u001b[0;32m---> 23\u001b[0m   layer_10, layer_11, layer_12 \u001b[39m=\u001b[39m get_bert_embeddings(tokens_tensor, segments_tensors, model)\n\u001b[1;32m     24\u001b[0m \u001b[39mexcept\u001b[39;00m \u001b[39mRuntimeError\u001b[39;00m:\n\u001b[1;32m     25\u001b[0m   \u001b[39mcontinue\u001b[39;00m\n",
            "Cell \u001b[0;32mIn[17], line 8\u001b[0m, in \u001b[0;36mget_bert_embeddings\u001b[0;34m(tokens_tensor, segments_tensor, model)\u001b[0m\n\u001b[1;32m      5\u001b[0m \u001b[39m# gradient calculation id disabled\u001b[39;00m\n\u001b[1;32m      6\u001b[0m \u001b[39mwith\u001b[39;00m torch\u001b[39m.\u001b[39mno_grad():\n\u001b[1;32m      7\u001b[0m   \u001b[39m# obtain hidden states\u001b[39;00m\n\u001b[0;32m----> 8\u001b[0m   outputs \u001b[39m=\u001b[39m model(tokens_tensor, segments_tensor)\n\u001b[1;32m      9\u001b[0m   layers \u001b[39m=\u001b[39m outputs\u001b[39m.\u001b[39mhidden_states[\u001b[39m-\u001b[39m\u001b[39m3\u001b[39m:]\n\u001b[1;32m     11\u001b[0m \u001b[39m# remove dimension 1, the \"batches\"\u001b[39;00m\n",
            "File \u001b[0;32m~/opt/anaconda3/envs/tensorflow/lib/python3.9/site-packages/torch/nn/modules/module.py:1194\u001b[0m, in \u001b[0;36mModule._call_impl\u001b[0;34m(self, *input, **kwargs)\u001b[0m\n\u001b[1;32m   1190\u001b[0m \u001b[39m# If we don't have any hooks, we want to skip the rest of the logic in\u001b[39;00m\n\u001b[1;32m   1191\u001b[0m \u001b[39m# this function, and just call forward.\u001b[39;00m\n\u001b[1;32m   1192\u001b[0m \u001b[39mif\u001b[39;00m \u001b[39mnot\u001b[39;00m (\u001b[39mself\u001b[39m\u001b[39m.\u001b[39m_backward_hooks \u001b[39mor\u001b[39;00m \u001b[39mself\u001b[39m\u001b[39m.\u001b[39m_forward_hooks \u001b[39mor\u001b[39;00m \u001b[39mself\u001b[39m\u001b[39m.\u001b[39m_forward_pre_hooks \u001b[39mor\u001b[39;00m _global_backward_hooks\n\u001b[1;32m   1193\u001b[0m         \u001b[39mor\u001b[39;00m _global_forward_hooks \u001b[39mor\u001b[39;00m _global_forward_pre_hooks):\n\u001b[0;32m-> 1194\u001b[0m     \u001b[39mreturn\u001b[39;00m forward_call(\u001b[39m*\u001b[39;49m\u001b[39minput\u001b[39;49m, \u001b[39m*\u001b[39;49m\u001b[39m*\u001b[39;49mkwargs)\n\u001b[1;32m   1195\u001b[0m \u001b[39m# Do not call functions when jit is used\u001b[39;00m\n\u001b[1;32m   1196\u001b[0m full_backward_hooks, non_full_backward_hooks \u001b[39m=\u001b[39m [], []\n",
            "File \u001b[0;32m~/opt/anaconda3/envs/tensorflow/lib/python3.9/site-packages/transformers/models/bert/modeling_bert.py:1359\u001b[0m, in \u001b[0;36mBertForMaskedLM.forward\u001b[0;34m(self, input_ids, attention_mask, token_type_ids, position_ids, head_mask, inputs_embeds, encoder_hidden_states, encoder_attention_mask, labels, output_attentions, output_hidden_states, return_dict)\u001b[0m\n\u001b[1;32m   1350\u001b[0m \u001b[39m\u001b[39m\u001b[39mr\u001b[39m\u001b[39m\"\"\"\u001b[39;00m\n\u001b[1;32m   1351\u001b[0m \u001b[39mlabels (`torch.LongTensor` of shape `(batch_size, sequence_length)`, *optional*):\u001b[39;00m\n\u001b[1;32m   1352\u001b[0m \u001b[39m    Labels for computing the masked language modeling loss. Indices should be in `[-100, 0, ...,\u001b[39;00m\n\u001b[1;32m   1353\u001b[0m \u001b[39m    config.vocab_size]` (see `input_ids` docstring) Tokens with indices set to `-100` are ignored (masked), the\u001b[39;00m\n\u001b[1;32m   1354\u001b[0m \u001b[39m    loss is only computed for the tokens with labels in `[0, ..., config.vocab_size]`\u001b[39;00m\n\u001b[1;32m   1355\u001b[0m \u001b[39m\"\"\"\u001b[39;00m\n\u001b[1;32m   1357\u001b[0m return_dict \u001b[39m=\u001b[39m return_dict \u001b[39mif\u001b[39;00m return_dict \u001b[39mis\u001b[39;00m \u001b[39mnot\u001b[39;00m \u001b[39mNone\u001b[39;00m \u001b[39melse\u001b[39;00m \u001b[39mself\u001b[39m\u001b[39m.\u001b[39mconfig\u001b[39m.\u001b[39muse_return_dict\n\u001b[0;32m-> 1359\u001b[0m outputs \u001b[39m=\u001b[39m \u001b[39mself\u001b[39;49m\u001b[39m.\u001b[39;49mbert(\n\u001b[1;32m   1360\u001b[0m     input_ids,\n\u001b[1;32m   1361\u001b[0m     attention_mask\u001b[39m=\u001b[39;49mattention_mask,\n\u001b[1;32m   1362\u001b[0m     token_type_ids\u001b[39m=\u001b[39;49mtoken_type_ids,\n\u001b[1;32m   1363\u001b[0m     position_ids\u001b[39m=\u001b[39;49mposition_ids,\n\u001b[1;32m   1364\u001b[0m     head_mask\u001b[39m=\u001b[39;49mhead_mask,\n\u001b[1;32m   1365\u001b[0m     inputs_embeds\u001b[39m=\u001b[39;49minputs_embeds,\n\u001b[1;32m   1366\u001b[0m     encoder_hidden_states\u001b[39m=\u001b[39;49mencoder_hidden_states,\n\u001b[1;32m   1367\u001b[0m     encoder_attention_mask\u001b[39m=\u001b[39;49mencoder_attention_mask,\n\u001b[1;32m   1368\u001b[0m     output_attentions\u001b[39m=\u001b[39;49moutput_attentions,\n\u001b[1;32m   1369\u001b[0m     output_hidden_states\u001b[39m=\u001b[39;49moutput_hidden_states,\n\u001b[1;32m   1370\u001b[0m     return_dict\u001b[39m=\u001b[39;49mreturn_dict,\n\u001b[1;32m   1371\u001b[0m )\n\u001b[1;32m   1373\u001b[0m sequence_output \u001b[39m=\u001b[39m outputs[\u001b[39m0\u001b[39m]\n\u001b[1;32m   1374\u001b[0m prediction_scores \u001b[39m=\u001b[39m \u001b[39mself\u001b[39m\u001b[39m.\u001b[39mcls(sequence_output)\n",
            "File \u001b[0;32m~/opt/anaconda3/envs/tensorflow/lib/python3.9/site-packages/torch/nn/modules/module.py:1194\u001b[0m, in \u001b[0;36mModule._call_impl\u001b[0;34m(self, *input, **kwargs)\u001b[0m\n\u001b[1;32m   1190\u001b[0m \u001b[39m# If we don't have any hooks, we want to skip the rest of the logic in\u001b[39;00m\n\u001b[1;32m   1191\u001b[0m \u001b[39m# this function, and just call forward.\u001b[39;00m\n\u001b[1;32m   1192\u001b[0m \u001b[39mif\u001b[39;00m \u001b[39mnot\u001b[39;00m (\u001b[39mself\u001b[39m\u001b[39m.\u001b[39m_backward_hooks \u001b[39mor\u001b[39;00m \u001b[39mself\u001b[39m\u001b[39m.\u001b[39m_forward_hooks \u001b[39mor\u001b[39;00m \u001b[39mself\u001b[39m\u001b[39m.\u001b[39m_forward_pre_hooks \u001b[39mor\u001b[39;00m _global_backward_hooks\n\u001b[1;32m   1193\u001b[0m         \u001b[39mor\u001b[39;00m _global_forward_hooks \u001b[39mor\u001b[39;00m _global_forward_pre_hooks):\n\u001b[0;32m-> 1194\u001b[0m     \u001b[39mreturn\u001b[39;00m forward_call(\u001b[39m*\u001b[39;49m\u001b[39minput\u001b[39;49m, \u001b[39m*\u001b[39;49m\u001b[39m*\u001b[39;49mkwargs)\n\u001b[1;32m   1195\u001b[0m \u001b[39m# Do not call functions when jit is used\u001b[39;00m\n\u001b[1;32m   1196\u001b[0m full_backward_hooks, non_full_backward_hooks \u001b[39m=\u001b[39m [], []\n",
            "File \u001b[0;32m~/opt/anaconda3/envs/tensorflow/lib/python3.9/site-packages/transformers/models/bert/modeling_bert.py:1019\u001b[0m, in \u001b[0;36mBertModel.forward\u001b[0;34m(self, input_ids, attention_mask, token_type_ids, position_ids, head_mask, inputs_embeds, encoder_hidden_states, encoder_attention_mask, past_key_values, use_cache, output_attentions, output_hidden_states, return_dict)\u001b[0m\n\u001b[1;32m   1010\u001b[0m head_mask \u001b[39m=\u001b[39m \u001b[39mself\u001b[39m\u001b[39m.\u001b[39mget_head_mask(head_mask, \u001b[39mself\u001b[39m\u001b[39m.\u001b[39mconfig\u001b[39m.\u001b[39mnum_hidden_layers)\n\u001b[1;32m   1012\u001b[0m embedding_output \u001b[39m=\u001b[39m \u001b[39mself\u001b[39m\u001b[39m.\u001b[39membeddings(\n\u001b[1;32m   1013\u001b[0m     input_ids\u001b[39m=\u001b[39minput_ids,\n\u001b[1;32m   1014\u001b[0m     position_ids\u001b[39m=\u001b[39mposition_ids,\n\u001b[0;32m   (...)\u001b[0m\n\u001b[1;32m   1017\u001b[0m     past_key_values_length\u001b[39m=\u001b[39mpast_key_values_length,\n\u001b[1;32m   1018\u001b[0m )\n\u001b[0;32m-> 1019\u001b[0m encoder_outputs \u001b[39m=\u001b[39m \u001b[39mself\u001b[39;49m\u001b[39m.\u001b[39;49mencoder(\n\u001b[1;32m   1020\u001b[0m     embedding_output,\n\u001b[1;32m   1021\u001b[0m     attention_mask\u001b[39m=\u001b[39;49mextended_attention_mask,\n\u001b[1;32m   1022\u001b[0m     head_mask\u001b[39m=\u001b[39;49mhead_mask,\n\u001b[1;32m   1023\u001b[0m     encoder_hidden_states\u001b[39m=\u001b[39;49mencoder_hidden_states,\n\u001b[1;32m   1024\u001b[0m     encoder_attention_mask\u001b[39m=\u001b[39;49mencoder_extended_attention_mask,\n\u001b[1;32m   1025\u001b[0m     past_key_values\u001b[39m=\u001b[39;49mpast_key_values,\n\u001b[1;32m   1026\u001b[0m     use_cache\u001b[39m=\u001b[39;49muse_cache,\n\u001b[1;32m   1027\u001b[0m     output_attentions\u001b[39m=\u001b[39;49moutput_attentions,\n\u001b[1;32m   1028\u001b[0m     output_hidden_states\u001b[39m=\u001b[39;49moutput_hidden_states,\n\u001b[1;32m   1029\u001b[0m     return_dict\u001b[39m=\u001b[39;49mreturn_dict,\n\u001b[1;32m   1030\u001b[0m )\n\u001b[1;32m   1031\u001b[0m sequence_output \u001b[39m=\u001b[39m encoder_outputs[\u001b[39m0\u001b[39m]\n\u001b[1;32m   1032\u001b[0m pooled_output \u001b[39m=\u001b[39m \u001b[39mself\u001b[39m\u001b[39m.\u001b[39mpooler(sequence_output) \u001b[39mif\u001b[39;00m \u001b[39mself\u001b[39m\u001b[39m.\u001b[39mpooler \u001b[39mis\u001b[39;00m \u001b[39mnot\u001b[39;00m \u001b[39mNone\u001b[39;00m \u001b[39melse\u001b[39;00m \u001b[39mNone\u001b[39;00m\n",
            "File \u001b[0;32m~/opt/anaconda3/envs/tensorflow/lib/python3.9/site-packages/torch/nn/modules/module.py:1194\u001b[0m, in \u001b[0;36mModule._call_impl\u001b[0;34m(self, *input, **kwargs)\u001b[0m\n\u001b[1;32m   1190\u001b[0m \u001b[39m# If we don't have any hooks, we want to skip the rest of the logic in\u001b[39;00m\n\u001b[1;32m   1191\u001b[0m \u001b[39m# this function, and just call forward.\u001b[39;00m\n\u001b[1;32m   1192\u001b[0m \u001b[39mif\u001b[39;00m \u001b[39mnot\u001b[39;00m (\u001b[39mself\u001b[39m\u001b[39m.\u001b[39m_backward_hooks \u001b[39mor\u001b[39;00m \u001b[39mself\u001b[39m\u001b[39m.\u001b[39m_forward_hooks \u001b[39mor\u001b[39;00m \u001b[39mself\u001b[39m\u001b[39m.\u001b[39m_forward_pre_hooks \u001b[39mor\u001b[39;00m _global_backward_hooks\n\u001b[1;32m   1193\u001b[0m         \u001b[39mor\u001b[39;00m _global_forward_hooks \u001b[39mor\u001b[39;00m _global_forward_pre_hooks):\n\u001b[0;32m-> 1194\u001b[0m     \u001b[39mreturn\u001b[39;00m forward_call(\u001b[39m*\u001b[39;49m\u001b[39minput\u001b[39;49m, \u001b[39m*\u001b[39;49m\u001b[39m*\u001b[39;49mkwargs)\n\u001b[1;32m   1195\u001b[0m \u001b[39m# Do not call functions when jit is used\u001b[39;00m\n\u001b[1;32m   1196\u001b[0m full_backward_hooks, non_full_backward_hooks \u001b[39m=\u001b[39m [], []\n",
            "File \u001b[0;32m~/opt/anaconda3/envs/tensorflow/lib/python3.9/site-packages/transformers/models/bert/modeling_bert.py:609\u001b[0m, in \u001b[0;36mBertEncoder.forward\u001b[0;34m(self, hidden_states, attention_mask, head_mask, encoder_hidden_states, encoder_attention_mask, past_key_values, use_cache, output_attentions, output_hidden_states, return_dict)\u001b[0m\n\u001b[1;32m    600\u001b[0m     layer_outputs \u001b[39m=\u001b[39m torch\u001b[39m.\u001b[39mutils\u001b[39m.\u001b[39mcheckpoint\u001b[39m.\u001b[39mcheckpoint(\n\u001b[1;32m    601\u001b[0m         create_custom_forward(layer_module),\n\u001b[1;32m    602\u001b[0m         hidden_states,\n\u001b[0;32m   (...)\u001b[0m\n\u001b[1;32m    606\u001b[0m         encoder_attention_mask,\n\u001b[1;32m    607\u001b[0m     )\n\u001b[1;32m    608\u001b[0m \u001b[39melse\u001b[39;00m:\n\u001b[0;32m--> 609\u001b[0m     layer_outputs \u001b[39m=\u001b[39m layer_module(\n\u001b[1;32m    610\u001b[0m         hidden_states,\n\u001b[1;32m    611\u001b[0m         attention_mask,\n\u001b[1;32m    612\u001b[0m         layer_head_mask,\n\u001b[1;32m    613\u001b[0m         encoder_hidden_states,\n\u001b[1;32m    614\u001b[0m         encoder_attention_mask,\n\u001b[1;32m    615\u001b[0m         past_key_value,\n\u001b[1;32m    616\u001b[0m         output_attentions,\n\u001b[1;32m    617\u001b[0m     )\n\u001b[1;32m    619\u001b[0m hidden_states \u001b[39m=\u001b[39m layer_outputs[\u001b[39m0\u001b[39m]\n\u001b[1;32m    620\u001b[0m \u001b[39mif\u001b[39;00m use_cache:\n",
            "File \u001b[0;32m~/opt/anaconda3/envs/tensorflow/lib/python3.9/site-packages/torch/nn/modules/module.py:1194\u001b[0m, in \u001b[0;36mModule._call_impl\u001b[0;34m(self, *input, **kwargs)\u001b[0m\n\u001b[1;32m   1190\u001b[0m \u001b[39m# If we don't have any hooks, we want to skip the rest of the logic in\u001b[39;00m\n\u001b[1;32m   1191\u001b[0m \u001b[39m# this function, and just call forward.\u001b[39;00m\n\u001b[1;32m   1192\u001b[0m \u001b[39mif\u001b[39;00m \u001b[39mnot\u001b[39;00m (\u001b[39mself\u001b[39m\u001b[39m.\u001b[39m_backward_hooks \u001b[39mor\u001b[39;00m \u001b[39mself\u001b[39m\u001b[39m.\u001b[39m_forward_hooks \u001b[39mor\u001b[39;00m \u001b[39mself\u001b[39m\u001b[39m.\u001b[39m_forward_pre_hooks \u001b[39mor\u001b[39;00m _global_backward_hooks\n\u001b[1;32m   1193\u001b[0m         \u001b[39mor\u001b[39;00m _global_forward_hooks \u001b[39mor\u001b[39;00m _global_forward_pre_hooks):\n\u001b[0;32m-> 1194\u001b[0m     \u001b[39mreturn\u001b[39;00m forward_call(\u001b[39m*\u001b[39;49m\u001b[39minput\u001b[39;49m, \u001b[39m*\u001b[39;49m\u001b[39m*\u001b[39;49mkwargs)\n\u001b[1;32m   1195\u001b[0m \u001b[39m# Do not call functions when jit is used\u001b[39;00m\n\u001b[1;32m   1196\u001b[0m full_backward_hooks, non_full_backward_hooks \u001b[39m=\u001b[39m [], []\n",
            "File \u001b[0;32m~/opt/anaconda3/envs/tensorflow/lib/python3.9/site-packages/transformers/models/bert/modeling_bert.py:495\u001b[0m, in \u001b[0;36mBertLayer.forward\u001b[0;34m(self, hidden_states, attention_mask, head_mask, encoder_hidden_states, encoder_attention_mask, past_key_value, output_attentions)\u001b[0m\n\u001b[1;32m    483\u001b[0m \u001b[39mdef\u001b[39;00m \u001b[39mforward\u001b[39m(\n\u001b[1;32m    484\u001b[0m     \u001b[39mself\u001b[39m,\n\u001b[1;32m    485\u001b[0m     hidden_states: torch\u001b[39m.\u001b[39mTensor,\n\u001b[0;32m   (...)\u001b[0m\n\u001b[1;32m    492\u001b[0m ) \u001b[39m-\u001b[39m\u001b[39m>\u001b[39m Tuple[torch\u001b[39m.\u001b[39mTensor]:\n\u001b[1;32m    493\u001b[0m     \u001b[39m# decoder uni-directional self-attention cached key/values tuple is at positions 1,2\u001b[39;00m\n\u001b[1;32m    494\u001b[0m     self_attn_past_key_value \u001b[39m=\u001b[39m past_key_value[:\u001b[39m2\u001b[39m] \u001b[39mif\u001b[39;00m past_key_value \u001b[39mis\u001b[39;00m \u001b[39mnot\u001b[39;00m \u001b[39mNone\u001b[39;00m \u001b[39melse\u001b[39;00m \u001b[39mNone\u001b[39;00m\n\u001b[0;32m--> 495\u001b[0m     self_attention_outputs \u001b[39m=\u001b[39m \u001b[39mself\u001b[39;49m\u001b[39m.\u001b[39;49mattention(\n\u001b[1;32m    496\u001b[0m         hidden_states,\n\u001b[1;32m    497\u001b[0m         attention_mask,\n\u001b[1;32m    498\u001b[0m         head_mask,\n\u001b[1;32m    499\u001b[0m         output_attentions\u001b[39m=\u001b[39;49moutput_attentions,\n\u001b[1;32m    500\u001b[0m         past_key_value\u001b[39m=\u001b[39;49mself_attn_past_key_value,\n\u001b[1;32m    501\u001b[0m     )\n\u001b[1;32m    502\u001b[0m     attention_output \u001b[39m=\u001b[39m self_attention_outputs[\u001b[39m0\u001b[39m]\n\u001b[1;32m    504\u001b[0m     \u001b[39m# if decoder, the last output is tuple of self-attn cache\u001b[39;00m\n",
            "File \u001b[0;32m~/opt/anaconda3/envs/tensorflow/lib/python3.9/site-packages/torch/nn/modules/module.py:1194\u001b[0m, in \u001b[0;36mModule._call_impl\u001b[0;34m(self, *input, **kwargs)\u001b[0m\n\u001b[1;32m   1190\u001b[0m \u001b[39m# If we don't have any hooks, we want to skip the rest of the logic in\u001b[39;00m\n\u001b[1;32m   1191\u001b[0m \u001b[39m# this function, and just call forward.\u001b[39;00m\n\u001b[1;32m   1192\u001b[0m \u001b[39mif\u001b[39;00m \u001b[39mnot\u001b[39;00m (\u001b[39mself\u001b[39m\u001b[39m.\u001b[39m_backward_hooks \u001b[39mor\u001b[39;00m \u001b[39mself\u001b[39m\u001b[39m.\u001b[39m_forward_hooks \u001b[39mor\u001b[39;00m \u001b[39mself\u001b[39m\u001b[39m.\u001b[39m_forward_pre_hooks \u001b[39mor\u001b[39;00m _global_backward_hooks\n\u001b[1;32m   1193\u001b[0m         \u001b[39mor\u001b[39;00m _global_forward_hooks \u001b[39mor\u001b[39;00m _global_forward_pre_hooks):\n\u001b[0;32m-> 1194\u001b[0m     \u001b[39mreturn\u001b[39;00m forward_call(\u001b[39m*\u001b[39;49m\u001b[39minput\u001b[39;49m, \u001b[39m*\u001b[39;49m\u001b[39m*\u001b[39;49mkwargs)\n\u001b[1;32m   1195\u001b[0m \u001b[39m# Do not call functions when jit is used\u001b[39;00m\n\u001b[1;32m   1196\u001b[0m full_backward_hooks, non_full_backward_hooks \u001b[39m=\u001b[39m [], []\n",
            "File \u001b[0;32m~/opt/anaconda3/envs/tensorflow/lib/python3.9/site-packages/transformers/models/bert/modeling_bert.py:425\u001b[0m, in \u001b[0;36mBertAttention.forward\u001b[0;34m(self, hidden_states, attention_mask, head_mask, encoder_hidden_states, encoder_attention_mask, past_key_value, output_attentions)\u001b[0m\n\u001b[1;32m    415\u001b[0m \u001b[39mdef\u001b[39;00m \u001b[39mforward\u001b[39m(\n\u001b[1;32m    416\u001b[0m     \u001b[39mself\u001b[39m,\n\u001b[1;32m    417\u001b[0m     hidden_states: torch\u001b[39m.\u001b[39mTensor,\n\u001b[0;32m   (...)\u001b[0m\n\u001b[1;32m    423\u001b[0m     output_attentions: Optional[\u001b[39mbool\u001b[39m] \u001b[39m=\u001b[39m \u001b[39mFalse\u001b[39;00m,\n\u001b[1;32m    424\u001b[0m ) \u001b[39m-\u001b[39m\u001b[39m>\u001b[39m Tuple[torch\u001b[39m.\u001b[39mTensor]:\n\u001b[0;32m--> 425\u001b[0m     self_outputs \u001b[39m=\u001b[39m \u001b[39mself\u001b[39;49m\u001b[39m.\u001b[39;49mself(\n\u001b[1;32m    426\u001b[0m         hidden_states,\n\u001b[1;32m    427\u001b[0m         attention_mask,\n\u001b[1;32m    428\u001b[0m         head_mask,\n\u001b[1;32m    429\u001b[0m         encoder_hidden_states,\n\u001b[1;32m    430\u001b[0m         encoder_attention_mask,\n\u001b[1;32m    431\u001b[0m         past_key_value,\n\u001b[1;32m    432\u001b[0m         output_attentions,\n\u001b[1;32m    433\u001b[0m     )\n\u001b[1;32m    434\u001b[0m     attention_output \u001b[39m=\u001b[39m \u001b[39mself\u001b[39m\u001b[39m.\u001b[39moutput(self_outputs[\u001b[39m0\u001b[39m], hidden_states)\n\u001b[1;32m    435\u001b[0m     outputs \u001b[39m=\u001b[39m (attention_output,) \u001b[39m+\u001b[39m self_outputs[\u001b[39m1\u001b[39m:]  \u001b[39m# add attentions if we output them\u001b[39;00m\n",
            "File \u001b[0;32m~/opt/anaconda3/envs/tensorflow/lib/python3.9/site-packages/torch/nn/modules/module.py:1194\u001b[0m, in \u001b[0;36mModule._call_impl\u001b[0;34m(self, *input, **kwargs)\u001b[0m\n\u001b[1;32m   1190\u001b[0m \u001b[39m# If we don't have any hooks, we want to skip the rest of the logic in\u001b[39;00m\n\u001b[1;32m   1191\u001b[0m \u001b[39m# this function, and just call forward.\u001b[39;00m\n\u001b[1;32m   1192\u001b[0m \u001b[39mif\u001b[39;00m \u001b[39mnot\u001b[39;00m (\u001b[39mself\u001b[39m\u001b[39m.\u001b[39m_backward_hooks \u001b[39mor\u001b[39;00m \u001b[39mself\u001b[39m\u001b[39m.\u001b[39m_forward_hooks \u001b[39mor\u001b[39;00m \u001b[39mself\u001b[39m\u001b[39m.\u001b[39m_forward_pre_hooks \u001b[39mor\u001b[39;00m _global_backward_hooks\n\u001b[1;32m   1193\u001b[0m         \u001b[39mor\u001b[39;00m _global_forward_hooks \u001b[39mor\u001b[39;00m _global_forward_pre_hooks):\n\u001b[0;32m-> 1194\u001b[0m     \u001b[39mreturn\u001b[39;00m forward_call(\u001b[39m*\u001b[39;49m\u001b[39minput\u001b[39;49m, \u001b[39m*\u001b[39;49m\u001b[39m*\u001b[39;49mkwargs)\n\u001b[1;32m   1195\u001b[0m \u001b[39m# Do not call functions when jit is used\u001b[39;00m\n\u001b[1;32m   1196\u001b[0m full_backward_hooks, non_full_backward_hooks \u001b[39m=\u001b[39m [], []\n",
            "File \u001b[0;32m~/opt/anaconda3/envs/tensorflow/lib/python3.9/site-packages/transformers/models/bert/modeling_bert.py:306\u001b[0m, in \u001b[0;36mBertSelfAttention.forward\u001b[0;34m(self, hidden_states, attention_mask, head_mask, encoder_hidden_states, encoder_attention_mask, past_key_value, output_attentions)\u001b[0m\n\u001b[1;32m    304\u001b[0m     value_layer \u001b[39m=\u001b[39m torch\u001b[39m.\u001b[39mcat([past_key_value[\u001b[39m1\u001b[39m], value_layer], dim\u001b[39m=\u001b[39m\u001b[39m2\u001b[39m)\n\u001b[1;32m    305\u001b[0m \u001b[39melse\u001b[39;00m:\n\u001b[0;32m--> 306\u001b[0m     key_layer \u001b[39m=\u001b[39m \u001b[39mself\u001b[39m\u001b[39m.\u001b[39mtranspose_for_scores(\u001b[39mself\u001b[39;49m\u001b[39m.\u001b[39;49mkey(hidden_states))\n\u001b[1;32m    307\u001b[0m     value_layer \u001b[39m=\u001b[39m \u001b[39mself\u001b[39m\u001b[39m.\u001b[39mtranspose_for_scores(\u001b[39mself\u001b[39m\u001b[39m.\u001b[39mvalue(hidden_states))\n\u001b[1;32m    309\u001b[0m query_layer \u001b[39m=\u001b[39m \u001b[39mself\u001b[39m\u001b[39m.\u001b[39mtranspose_for_scores(mixed_query_layer)\n",
            "File \u001b[0;32m~/opt/anaconda3/envs/tensorflow/lib/python3.9/site-packages/torch/nn/modules/module.py:1194\u001b[0m, in \u001b[0;36mModule._call_impl\u001b[0;34m(self, *input, **kwargs)\u001b[0m\n\u001b[1;32m   1190\u001b[0m \u001b[39m# If we don't have any hooks, we want to skip the rest of the logic in\u001b[39;00m\n\u001b[1;32m   1191\u001b[0m \u001b[39m# this function, and just call forward.\u001b[39;00m\n\u001b[1;32m   1192\u001b[0m \u001b[39mif\u001b[39;00m \u001b[39mnot\u001b[39;00m (\u001b[39mself\u001b[39m\u001b[39m.\u001b[39m_backward_hooks \u001b[39mor\u001b[39;00m \u001b[39mself\u001b[39m\u001b[39m.\u001b[39m_forward_hooks \u001b[39mor\u001b[39;00m \u001b[39mself\u001b[39m\u001b[39m.\u001b[39m_forward_pre_hooks \u001b[39mor\u001b[39;00m _global_backward_hooks\n\u001b[1;32m   1193\u001b[0m         \u001b[39mor\u001b[39;00m _global_forward_hooks \u001b[39mor\u001b[39;00m _global_forward_pre_hooks):\n\u001b[0;32m-> 1194\u001b[0m     \u001b[39mreturn\u001b[39;00m forward_call(\u001b[39m*\u001b[39;49m\u001b[39minput\u001b[39;49m, \u001b[39m*\u001b[39;49m\u001b[39m*\u001b[39;49mkwargs)\n\u001b[1;32m   1195\u001b[0m \u001b[39m# Do not call functions when jit is used\u001b[39;00m\n\u001b[1;32m   1196\u001b[0m full_backward_hooks, non_full_backward_hooks \u001b[39m=\u001b[39m [], []\n",
            "File \u001b[0;32m~/opt/anaconda3/envs/tensorflow/lib/python3.9/site-packages/torch/nn/modules/linear.py:114\u001b[0m, in \u001b[0;36mLinear.forward\u001b[0;34m(self, input)\u001b[0m\n\u001b[1;32m    113\u001b[0m \u001b[39mdef\u001b[39;00m \u001b[39mforward\u001b[39m(\u001b[39mself\u001b[39m, \u001b[39minput\u001b[39m: Tensor) \u001b[39m-\u001b[39m\u001b[39m>\u001b[39m Tensor:\n\u001b[0;32m--> 114\u001b[0m     \u001b[39mreturn\u001b[39;00m F\u001b[39m.\u001b[39;49mlinear(\u001b[39minput\u001b[39;49m, \u001b[39mself\u001b[39;49m\u001b[39m.\u001b[39;49mweight, \u001b[39mself\u001b[39;49m\u001b[39m.\u001b[39;49mbias)\n",
            "\u001b[0;31mKeyboardInterrupt\u001b[0m: "
          ]
        }
      ],
      "source": [
        "from collections import OrderedDict\n",
        "\n",
        "for word in words:\n",
        "\n",
        "  # checking length and initiating variable of sentences\n",
        "  with open('Sentence_Datasets/'+word+'_'+language+'_unique.txt','r') as final_list:\n",
        "      sentences = final_list.readlines()\n",
        "      sentences = sentences[:1000]\n",
        "\n",
        "  tokenized_word = tokenizer.tokenize(word)\n",
        "  print('Tokenized_word: ',tokenized_word)\n",
        "\n",
        "  context_embeddings_dict = {'layer_10':[],\n",
        "                            'layer_11':[],\n",
        "                            'layer_12':[]}\n",
        "\n",
        "  context_tokens = []\n",
        "  token_sent_index = []\n",
        "\n",
        "  for sentence in sentences:\n",
        "    tokenized_text, tokens_tensor, segments_tensors = bert_text_preparation(sentence, tokenizer)\n",
        "    try:\n",
        "      layer_10, layer_11, layer_12 = get_bert_embeddings(tokens_tensor, segments_tensors, model)\n",
        "    except RuntimeError:\n",
        "      continue\n",
        "\n",
        "    # make ordered dictionary to keep track of the position of each word\n",
        "    tokens = OrderedDict()\n",
        "    sentence_index = sentences.index(sentence)\n",
        "\n",
        "    # loop over tokens in sensitive sentence\n",
        "    for token in tokenized_text[1:-1]:\n",
        "      # keep track of position of word and whether it occurs multiple times\n",
        "      if token in tokens:\n",
        "        tokens[token] += 1\n",
        "      else:\n",
        "        tokens[token] = 1\n",
        "\n",
        "      # compute the position of the current token\n",
        "      token_indices = [i for i, t in enumerate(tokenized_text) if t == token]\n",
        "      current_index = token_indices[tokens[token]-1]\n",
        "\n",
        "      # get the corresponding embedding\n",
        "      vec_layer10 = layer_10[current_index]\n",
        "      vec_layer11 = layer_11[current_index]\n",
        "      vec_layer12  = layer_12[current_index]\n",
        "\n",
        "      # save values\n",
        "      token_sent_index += [sentence_index]\n",
        "      context_tokens.append(token)\n",
        "      context_embeddings_dict['layer_10'].append(vec_layer10)\n",
        "      context_embeddings_dict['layer_11'].append(vec_layer11)\n",
        "      context_embeddings_dict['layer_12'].append(vec_layer12)\n",
        "\n",
        "  context_data = make_dataframe_all(context_tokens,context_embeddings_dict,token_sent_index)\n",
        "\n",
        "  w_df = get_target_embeddings(word,context_data,tokenized_word,sentences,alternate_spellings)\n",
        "\n",
        "  print('Filtered data frame length: ',len(w_df)) #checking enough samples\n",
        "\n",
        "  w_df.to_pickle('Results/Results_Pickles/'+word+'_'+language+'_'+model_name+'.pkl') # save results to pickle \n"
      ]
    },
    {
      "cell_type": "markdown",
      "metadata": {
        "id": "o4OZ6-EDML-x"
      },
      "source": [
        "## Clustering"
      ]
    },
    {
      "cell_type": "code",
      "execution_count": 6,
      "metadata": {
        "colab": {
          "base_uri": "https://localhost:8080/",
          "height": 1000
        },
        "id": "54teiPkom6YO",
        "outputId": "c0a633d4-981a-4db5-e7e4-5ede053e29e1"
      },
      "outputs": [
        {
          "name": "stdout",
          "output_type": "stream",
          "text": [
            "Intel MKL WARNING: Support of Intel(R) Streaming SIMD Extensions 4.2 (Intel(R) SSE4.2) enabled only processors has been deprecated. Intel oneAPI Math Kernel Library 2025.0 will require Intel(R) Advanced Vector Extensions (Intel(R) AVX) instructions.\n",
            "Intel MKL WARNING: Support of Intel(R) Streaming SIMD Extensions 4.2 (Intel(R) SSE4.2) enabled only processors has been deprecated. Intel oneAPI Math Kernel Library 2025.0 will require Intel(R) Advanced Vector Extensions (Intel(R) AVX) instructions.\n",
            "Intel MKL WARNING: Support of Intel(R) Streaming SIMD Extensions 4.2 (Intel(R) SSE4.2) enabled only processors has been deprecated. Intel oneAPI Math Kernel Library 2025.0 will require Intel(R) Advanced Vector Extensions (Intel(R) AVX) instructions.\n",
            "Intel MKL WARNING: Support of Intel(R) Streaming SIMD Extensions 4.2 (Intel(R) SSE4.2) enabled only processors has been deprecated. Intel oneAPI Math Kernel Library 2025.0 will require Intel(R) Advanced Vector Extensions (Intel(R) AVX) instructions.\n",
            "Intel MKL WARNING: Support of Intel(R) Streaming SIMD Extensions 4.2 (Intel(R) SSE4.2) enabled only processors has been deprecated. Intel oneAPI Math Kernel Library 2025.0 will require Intel(R) Advanced Vector Extensions (Intel(R) AVX) instructions.\n",
            "Intel MKL WARNING: Support of Intel(R) Streaming SIMD Extensions 4.2 (Intel(R) SSE4.2) enabled only processors has been deprecated. Intel oneAPI Math Kernel Library 2025.0 will require Intel(R) Advanced Vector Extensions (Intel(R) AVX) instructions.\n",
            "Intel MKL WARNING: Support of Intel(R) Streaming SIMD Extensions 4.2 (Intel(R) SSE4.2) enabled only processors has been deprecated. Intel oneAPI Math Kernel Library 2025.0 will require Intel(R) Advanced Vector Extensions (Intel(R) AVX) instructions.\n",
            "Intel MKL WARNING: Support of Intel(R) Streaming SIMD Extensions 4.2 (Intel(R) SSE4.2) enabled only processors has been deprecated. Intel oneAPI Math Kernel Library 2025.0 will require Intel(R) Advanced Vector Extensions (Intel(R) AVX) instructions.\n",
            "Intel MKL WARNING: Support of Intel(R) Streaming SIMD Extensions 4.2 (Intel(R) SSE4.2) enabled only processors has been deprecated. Intel oneAPI Math Kernel Library 2025.0 will require Intel(R) Advanced Vector Extensions (Intel(R) AVX) instructions.\n",
            "Intel MKL WARNING: Support of Intel(R) Streaming SIMD Extensions 4.2 (Intel(R) SSE4.2) enabled only processors has been deprecated. Intel oneAPI Math Kernel Library 2025.0 will require Intel(R) Advanced Vector Extensions (Intel(R) AVX) instructions.\n",
            "Intel MKL WARNING: Support of Intel(R) Streaming SIMD Extensions 4.2 (Intel(R) SSE4.2) enabled only processors has been deprecated. Intel oneAPI Math Kernel Library 2025.0 will require Intel(R) Advanced Vector Extensions (Intel(R) AVX) instructions.\n",
            "Intel MKL WARNING: Support of Intel(R) Streaming SIMD Extensions 4.2 (Intel(R) SSE4.2) enabled only processors has been deprecated. Intel oneAPI Math Kernel Library 2025.0 will require Intel(R) Advanced Vector Extensions (Intel(R) AVX) instructions.\n",
            "Intel MKL WARNING: Support of Intel(R) Streaming SIMD Extensions 4.2 (Intel(R) SSE4.2) enabled only processors has been deprecated. Intel oneAPI Math Kernel Library 2025.0 will require Intel(R) Advanced Vector Extensions (Intel(R) AVX) instructions.\n",
            "Intel MKL WARNING: Support of Intel(R) Streaming SIMD Extensions 4.2 (Intel(R) SSE4.2) enabled only processors has been deprecated. Intel oneAPI Math Kernel Library 2025.0 will require Intel(R) Advanced Vector Extensions (Intel(R) AVX) instructions.\n",
            "Intel MKL WARNING: Support of Intel(R) Streaming SIMD Extensions 4.2 (Intel(R) SSE4.2) enabled only processors has been deprecated. Intel oneAPI Math Kernel Library 2025.0 will require Intel(R) Advanced Vector Extensions (Intel(R) AVX) instructions.\n",
            "Intel MKL WARNING: Support of Intel(R) Streaming SIMD Extensions 4.2 (Intel(R) SSE4.2) enabled only processors has been deprecated. Intel oneAPI Math Kernel Library 2025.0 will require Intel(R) Advanced Vector Extensions (Intel(R) AVX) instructions.\n",
            "Intel MKL WARNING: Support of Intel(R) Streaming SIMD Extensions 4.2 (Intel(R) SSE4.2) enabled only processors has been deprecated. Intel oneAPI Math Kernel Library 2025.0 will require Intel(R) Advanced Vector Extensions (Intel(R) AVX) instructions.\n",
            "Intel MKL WARNING: Support of Intel(R) Streaming SIMD Extensions 4.2 (Intel(R) SSE4.2) enabled only processors has been deprecated. Intel oneAPI Math Kernel Library 2025.0 will require Intel(R) Advanced Vector Extensions (Intel(R) AVX) instructions.\n",
            "Intel MKL WARNING: Support of Intel(R) Streaming SIMD Extensions 4.2 (Intel(R) SSE4.2) enabled only processors has been deprecated. Intel oneAPI Math Kernel Library 2025.0 will require Intel(R) Advanced Vector Extensions (Intel(R) AVX) instructions.\n",
            "Intel MKL WARNING: Support of Intel(R) Streaming SIMD Extensions 4.2 (Intel(R) SSE4.2) enabled only processors has been deprecated. Intel oneAPI Math Kernel Library 2025.0 will require Intel(R) Advanced Vector Extensions (Intel(R) AVX) instructions.\n",
            "Intel MKL WARNING: Support of Intel(R) Streaming SIMD Extensions 4.2 (Intel(R) SSE4.2) enabled only processors has been deprecated. Intel oneAPI Math Kernel Library 2025.0 will require Intel(R) Advanced Vector Extensions (Intel(R) AVX) instructions.\n",
            "Intel MKL WARNING: Support of Intel(R) Streaming SIMD Extensions 4.2 (Intel(R) SSE4.2) enabled only processors has been deprecated. Intel oneAPI Math Kernel Library 2025.0 will require Intel(R) Advanced Vector Extensions (Intel(R) AVX) instructions.\n"
          ]
        },
        {
          "data": {
            "application/vnd.plotly.v1+json": {
              "config": {
                "plotlyServerURL": "https://plot.ly"
              },
              "data": [
                {
                  "customdata": [
                    [
                      "gehele tekst titel auteur\n"
                    ],
                    [
                      "auteurs uyanga berkel dorlig  xthis contribution to era000089\n"
                    ],
                    [
                      "auteursinformatie statistiek citeerwijze\n"
                    ],
                    [
                      "auteur\n"
                    ],
                    [
                      "statut des droits dauteur domaine public inconnu utilisation soumise à copy télécharger faire don à lauteur  ce tome fait suite à divinity ii des mêmes auteurs quil faut avoir lu avant pour comprendre qui soapproach of subject matter by the studios allowed auteurs to really express themselves les marques de commerce et droits dauteur de u haul international incee all\n"
                    ],
                    [
                      "statut des droits dauteur domaine public inconnu utilisation soumise à copy télécharger faire don à lauteur  ce tome fait suite à divinity ii des mêmes auteurs quil faut avoir lu avant pour comprendre qui soapproach of subject matter by the studios allowed auteurs to really express themselves les marques de commerce et droits dauteur de u haul international incee all\n"
                    ],
                    [
                      "abel ferrara on how the pandemic led to zeros than fluid canvas an ongoing work subject to the auteur’s evolving whims and the advancing technological imi eyes bermuda triangle picture\n"
                    ],
                    [
                      "continuing his auteurist tv here prestige picture there pattern caryeing touted as a coming out party for his serious auteur status and he brings a wealth of raw vulnerabili\n"
                    ],
                    [
                      "meer van deze auteur\n"
                    ],
                    [
                      "gerelateerde es interactive works social issue documentaries auteur animation and alternative dramas that provide thes garnier 1926 \n"
                    ],
                    [
                      "pour en savoir plus sur l’auteur cliquez ici\n"
                    ],
                    [
                      "caight suspect that this could be an aspect of the “auteur’s” personality that got david chase et al interes\n"
                    ],
                    [
                      "not as popular as the others but just as g this location was named “le morne des sauteurs” by the french which translates to leaper’s hil there’s a certain artistic quality a mark of an auteur that you wouldn’t always get from other similar fent un approfondissement avec littré et plusieurs auteurs techniques spécialisésuser login  auteur inconnu\n"
                    ],
                    [
                      "not as popular as the others but just as g this location was named “le morne des sauteurs” by the french which translates to leaper’s hil there’s a certain artistic quality a mark of an auteur that you wouldn’t always get from other similar fent un approfondissement avec littré et plusieurs auteurs techniques spécialisésuser login  auteur inconnu\n"
                    ],
                    [
                      "not as popular as the others but just as g this location was named “le morne des sauteurs” by the french which translates to leaper’s hil there’s a certain artistic quality a mark of an auteur that you wouldn’t always get from other similar fent un approfondissement avec littré et plusieurs auteurs techniques spécialisésuser login  auteur inconnu\n"
                    ],
                    [
                      "cette photo a été supuser login  auteur inconnu\n"
                    ],
                    [
                      "oooooooh…thproducer of award winning creative documentaries auteur animation interactive stories and participatory appelé samedi 29 mai les victimes à dénoncer les auteurs de ces actes aux numéros verts mis en place pour auteur de fusillade au quartier pk5 entre les miliciens esent canadian film history regional cinema and auteurs 1980 to present\n"
                    ],
                    [
                      "oooooooh…thproducer of award winning creative documentaries auteur animation interactive stories and participatory appelé samedi 29 mai les victimes à dénoncer les auteurs de ces actes aux numéros verts mis en place pour auteur de fusillade au quartier pk5 entre les miliciens esent canadian film history regional cinema and auteurs 1980 to present\n"
                    ],
                    [
                      "oooooooh…thproducer of award winning creative documentaries auteur animation interactive stories and participatory appelé samedi 29 mai les victimes à dénoncer les auteurs de ces actes aux numéros verts mis en place pour auteur de fusillade au quartier pk5 entre les miliciens esent canadian film history regional cinema and auteurs 1980 to present\n"
                    ],
                    [
                      "oooooooh…thproducer of award winning creative documentaries auteur animation interactive stories and participatory appelé samedi 29 mai les victimes à dénoncer les auteurs de ces actes aux numéros verts mis en place pour auteur de fusillade au quartier pk5 entre les miliciens esent canadian film history regional cinema and auteurs 1980 to present\n"
                    ],
                    [
                      "par l’auteur\n"
                    ],
                    [
                      "abonnestorytelling are believing they are shakespearean auteursruck by the repeated reference in the readings on auteur theory to howard hawks and his frequent use of fe\n"
                    ],
                    [
                      "abonnestorytelling are believing they are shakespearean auteursruck by the repeated reference in the readings on auteur theory to howard hawks and his frequent use of fe\n"
                    ],
                    [
                      "auteur theory\n"
                    ],
                    [
                      "2here doesn’t seem to be much consensus about what auteur theory is among critics whether they support the  auteur critics thus base their evaluation of a film soleties of what they considered great filmmakers or auteurs\n"
                    ],
                    [
                      "2here doesn’t seem to be much consensus about what auteur theory is among critics whether they support the  auteur critics thus base their evaluation of a film soleties of what they considered great filmmakers or auteurs\n"
                    ],
                    [
                      "2here doesn’t seem to be much consensus about what auteur theory is among critics whether they support the  auteur critics thus base their evaluation of a film soleties of what they considered great filmmakers or auteurs\n"
                    ],
                    [
                      "one american critic who adopted auteur theory as the most efficient form of film criticirew sarris who endeavored to define what makes an auteur in very simple termse is a certain degree of flexibility and that the auteur theory does not apply in every case but he seems\n"
                    ],
                    [
                      "one american critic who adopted auteur theory as the most efficient form of film criticirew sarris who endeavored to define what makes an auteur in very simple termse is a certain degree of flexibility and that the auteur theory does not apply in every case but he seems\n"
                    ],
                    [
                      "one american critic who adopted auteur theory as the most efficient form of film criticirew sarris who endeavored to define what makes an auteur in very simple termse is a certain degree of flexibility and that the auteur theory does not apply in every case but he seems\n"
                    ],
                    [
                      "pauline kael takes great umbrage to the auteur theory sarris’ in particular dismissing it as ays criticism is an art not a science and claims auteur theory is nothing more than a sort of brand loyal\n"
                    ],
                    [
                      "pauline kael takes great umbrage to the auteur theory sarris’ in particular dismissing it as ays criticism is an art not a science and claims auteur theory is nothing more than a sort of brand loyal\n"
                    ],
                    [
                      "bazin has reservations about auteur theory mostly in terms of its applicationranscend the director and that it is wrong to use auteur theory to read a deeper meaning into what are in  he believes auteurs do exist but that their work is not automatical that these critics determine who is and isn’t an auteurd if the material is bad \n"
                    ],
                    [
                      "bazin has reservations about auteur theory mostly in terms of its applicationranscend the director and that it is wrong to use auteur theory to read a deeper meaning into what are in  he believes auteurs do exist but that their work is not automatical that these critics determine who is and isn’t an auteurd if the material is bad \n"
                    ],
                    [
                      "bazin has reservations about auteur theory mostly in terms of its applicationranscend the director and that it is wrong to use auteur theory to read a deeper meaning into what are in  he believes auteurs do exist but that their work is not automatical that these critics determine who is and isn’t an auteurd if the material is bad \n"
                    ],
                    [
                      "bazin has reservations about auteur theory mostly in terms of its applicationranscend the director and that it is wrong to use auteur theory to read a deeper meaning into what are in  he believes auteurs do exist but that their work is not automatical that these critics determine who is and isn’t an auteurd if the material is bad \n"
                    ],
                    [
                      "dyer attempts to expand auteur theory suggesting that it could be applied to ac in this traditional auteurist examination of hitchcock’s early work author acowar concludes with an overview of hitchcock as auteur and an appendix identifying the director’s appear\n"
                    ],
                    [
                      "dyer attempts to expand auteur theory suggesting that it could be applied to ac in this traditional auteurist examination of hitchcock’s early work author acowar concludes with an overview of hitchcock as auteur and an appendix identifying the director’s appear\n"
                    ],
                    [
                      "auteur  todds kitchen\n"
                    ],
                    [
                      "italian make coal crustor but he was considered to be the “first black auteur” according to the new yorker\n"
                    ],
                    [
                      "auteursrecht © 2021 tijszoverser de leau chaude jusqua a la moitie de la hauteur des ramequinsbc toronto eric alper pr montreal qc folk alberta auteur research news indoor recess tour premiere quebec before he had the chance to tell his story to the auteurist critics who revered him\n"
                    ],
                    [
                      "auteursrecht © 2021 tijszoverser de leau chaude jusqua a la moitie de la hauteur des ramequinsbc toronto eric alper pr montreal qc folk alberta auteur research news indoor recess tour premiere quebec before he had the chance to tell his story to the auteurist critics who revered him\n"
                    ],
                    [
                      "auteur  groupeureka\n"
                    ],
                    [
                      "laisser un commentaire annuler la rturquie catégorie stratégie globale poursuite des auteurs participation des enfants prévention des abus pr tarantino is a mainstream auteur directorw about mayim bialik\n"
                    ],
                    [
                      "laisser un commentaire annuler la rturquie catégorie stratégie globale poursuite des auteurs participation des enfants prévention des abus pr tarantino is a mainstream auteur directorw about mayim bialik\n"
                    ],
                    [
                      "auteur  steven d auteursomgevingen vijfde generatie tekstverwerkersa hiding to nothing when you try and pin down an ‘auteur’ in whoge impact on his stories i’d not blush to call an auteur he was hugely talented but sometimes a bit too mrznaric\n"
                    ],
                    [
                      "auteur  steven d auteursomgevingen vijfde generatie tekstverwerkersa hiding to nothing when you try and pin down an ‘auteur’ in whoge impact on his stories i’d not blush to call an auteur he was hugely talented but sometimes a bit too mrznaric\n"
                    ],
                    [
                      "auteur  steven d auteursomgevingen vijfde generatie tekstverwerkersa hiding to nothing when you try and pin down an ‘auteur’ in whoge impact on his stories i’d not blush to call an auteur he was hugely talented but sometimes a bit too mrznaric\n"
                    ],
                    [
                      "auteur  steven d auteursomgevingen vijfde generatie tekstverwerkersa hiding to nothing when you try and pin down an ‘auteur’ in whoge impact on his stories i’d not blush to call an auteur he was hugely talented but sometimes a bit too mrznaric\n"
                    ],
                    [
                      "over de auteur 2020\n"
                    ],
                    [
                      "auteur roman krznaric\n"
                    ],
                    [
                      "isan roman polanski stan laurel stanley kubrick the auteurs notebook the chiseler the daily notebook the fony balduccis journal\n"
                    ],
                    [
                      "archives and auteurs\n"
                    ],
                    [
                      "its a abiled us to “where the wild things are” art house auteur wes anderson tackles roald dahl’s “fantastic mr some small game projects are created by an auteur who controls every aspect of production weeks about a critical phenomenon called “vulgar auteurism” vome clear unless seen in the context of so called auteurism itself and auteurism as such doesn’t exist hawks nicholas ray and otto preminger were the auteurs—the authors—of their movies despite the supervieir idea the politique—the policy or politics—des auteurs and even the editor of the magazine that champit’s where the political side of their devotion to auteurs comes through in 2000 jean luc godard told me basis for what andrew sarris brought over as the “auteur theory” the recognition of art in works widely dpositive and positivist mode of the politique des auteurs the critical practice of so called auteurism—an the great paradox of the politique des auteurs is that it was a repudiation of respectable cult the spirit of the new wave and its politique des auteurs as is the encyclopedic taxonomy of directorsg things about the advocates of the politique des auteurs is that—contrary to the often repeated assertioninterview in cahiers “i am for the politique des auteurs but not just anybodyart by the young energumens of the politique des auteurs—that of a michelangelo or a dostoevskyand mythic core of the very idea of the cinematic auteur or for that matter the author in literature i of the modern and contemporary stage director as auteurour le telechargement\n"
                    ],
                    [
                      "its a abiled us to “where the wild things are” art house auteur wes anderson tackles roald dahl’s “fantastic mr some small game projects are created by an auteur who controls every aspect of production weeks about a critical phenomenon called “vulgar auteurism” vome clear unless seen in the context of so called auteurism itself and auteurism as such doesn’t exist hawks nicholas ray and otto preminger were the auteurs—the authors—of their movies despite the supervieir idea the politique—the policy or politics—des auteurs and even the editor of the magazine that champit’s where the political side of their devotion to auteurs comes through in 2000 jean luc godard told me basis for what andrew sarris brought over as the “auteur theory” the recognition of art in works widely dpositive and positivist mode of the politique des auteurs the critical practice of so called auteurism—an the great paradox of the politique des auteurs is that it was a repudiation of respectable cult the spirit of the new wave and its politique des auteurs as is the encyclopedic taxonomy of directorsg things about the advocates of the politique des auteurs is that—contrary to the often repeated assertioninterview in cahiers “i am for the politique des auteurs but not just anybodyart by the young energumens of the politique des auteurs—that of a michelangelo or a dostoevskyand mythic core of the very idea of the cinematic auteur or for that matter the author in literature i of the modern and contemporary stage director as auteurour le telechargement\n"
                    ],
                    [
                      "its a abiled us to “where the wild things are” art house auteur wes anderson tackles roald dahl’s “fantastic mr some small game projects are created by an auteur who controls every aspect of production weeks about a critical phenomenon called “vulgar auteurism” vome clear unless seen in the context of so called auteurism itself and auteurism as such doesn’t exist hawks nicholas ray and otto preminger were the auteurs—the authors—of their movies despite the supervieir idea the politique—the policy or politics—des auteurs and even the editor of the magazine that champit’s where the political side of their devotion to auteurs comes through in 2000 jean luc godard told me basis for what andrew sarris brought over as the “auteur theory” the recognition of art in works widely dpositive and positivist mode of the politique des auteurs the critical practice of so called auteurism—an the great paradox of the politique des auteurs is that it was a repudiation of respectable cult the spirit of the new wave and its politique des auteurs as is the encyclopedic taxonomy of directorsg things about the advocates of the politique des auteurs is that—contrary to the often repeated assertioninterview in cahiers “i am for the politique des auteurs but not just anybodyart by the young energumens of the politique des auteurs—that of a michelangelo or a dostoevskyand mythic core of the very idea of the cinematic auteur or for that matter the author in literature i of the modern and contemporary stage director as auteurour le telechargement\n"
                    ],
                    [
                      "its a abiled us to “where the wild things are” art house auteur wes anderson tackles roald dahl’s “fantastic mr some small game projects are created by an auteur who controls every aspect of production weeks about a critical phenomenon called “vulgar auteurism” vome clear unless seen in the context of so called auteurism itself and auteurism as such doesn’t exist hawks nicholas ray and otto preminger were the auteurs—the authors—of their movies despite the supervieir idea the politique—the policy or politics—des auteurs and even the editor of the magazine that champit’s where the political side of their devotion to auteurs comes through in 2000 jean luc godard told me basis for what andrew sarris brought over as the “auteur theory” the recognition of art in works widely dpositive and positivist mode of the politique des auteurs the critical practice of so called auteurism—an the great paradox of the politique des auteurs is that it was a repudiation of respectable cult the spirit of the new wave and its politique des auteurs as is the encyclopedic taxonomy of directorsg things about the advocates of the politique des auteurs is that—contrary to the often repeated assertioninterview in cahiers “i am for the politique des auteurs but not just anybodyart by the young energumens of the politique des auteurs—that of a michelangelo or a dostoevskyand mythic core of the very idea of the cinematic auteur or for that matter the author in literature i of the modern and contemporary stage director as auteurour le telechargement\n"
                    ],
                    [
                      "its a abiled us to “where the wild things are” art house auteur wes anderson tackles roald dahl’s “fantastic mr some small game projects are created by an auteur who controls every aspect of production weeks about a critical phenomenon called “vulgar auteurism” vome clear unless seen in the context of so called auteurism itself and auteurism as such doesn’t exist hawks nicholas ray and otto preminger were the auteurs—the authors—of their movies despite the supervieir idea the politique—the policy or politics—des auteurs and even the editor of the magazine that champit’s where the political side of their devotion to auteurs comes through in 2000 jean luc godard told me basis for what andrew sarris brought over as the “auteur theory” the recognition of art in works widely dpositive and positivist mode of the politique des auteurs the critical practice of so called auteurism—an the great paradox of the politique des auteurs is that it was a repudiation of respectable cult the spirit of the new wave and its politique des auteurs as is the encyclopedic taxonomy of directorsg things about the advocates of the politique des auteurs is that—contrary to the often repeated assertioninterview in cahiers “i am for the politique des auteurs but not just anybodyart by the young energumens of the politique des auteurs—that of a michelangelo or a dostoevskyand mythic core of the very idea of the cinematic auteur or for that matter the author in literature i of the modern and contemporary stage director as auteurour le telechargement\n"
                    ],
                    [
                      "its a abiled us to “where the wild things are” art house auteur wes anderson tackles roald dahl’s “fantastic mr some small game projects are created by an auteur who controls every aspect of production weeks about a critical phenomenon called “vulgar auteurism” vome clear unless seen in the context of so called auteurism itself and auteurism as such doesn’t exist hawks nicholas ray and otto preminger were the auteurs—the authors—of their movies despite the supervieir idea the politique—the policy or politics—des auteurs and even the editor of the magazine that champit’s where the political side of their devotion to auteurs comes through in 2000 jean luc godard told me basis for what andrew sarris brought over as the “auteur theory” the recognition of art in works widely dpositive and positivist mode of the politique des auteurs the critical practice of so called auteurism—an the great paradox of the politique des auteurs is that it was a repudiation of respectable cult the spirit of the new wave and its politique des auteurs as is the encyclopedic taxonomy of directorsg things about the advocates of the politique des auteurs is that—contrary to the often repeated assertioninterview in cahiers “i am for the politique des auteurs but not just anybodyart by the young energumens of the politique des auteurs—that of a michelangelo or a dostoevskyand mythic core of the very idea of the cinematic auteur or for that matter the author in literature i of the modern and contemporary stage director as auteurour le telechargement\n"
                    ],
                    [
                      "its a abiled us to “where the wild things are” art house auteur wes anderson tackles roald dahl’s “fantastic mr some small game projects are created by an auteur who controls every aspect of production weeks about a critical phenomenon called “vulgar auteurism” vome clear unless seen in the context of so called auteurism itself and auteurism as such doesn’t exist hawks nicholas ray and otto preminger were the auteurs—the authors—of their movies despite the supervieir idea the politique—the policy or politics—des auteurs and even the editor of the magazine that champit’s where the political side of their devotion to auteurs comes through in 2000 jean luc godard told me basis for what andrew sarris brought over as the “auteur theory” the recognition of art in works widely dpositive and positivist mode of the politique des auteurs the critical practice of so called auteurism—an the great paradox of the politique des auteurs is that it was a repudiation of respectable cult the spirit of the new wave and its politique des auteurs as is the encyclopedic taxonomy of directorsg things about the advocates of the politique des auteurs is that—contrary to the often repeated assertioninterview in cahiers “i am for the politique des auteurs but not just anybodyart by the young energumens of the politique des auteurs—that of a michelangelo or a dostoevskyand mythic core of the very idea of the cinematic auteur or for that matter the author in literature i of the modern and contemporary stage director as auteurour le telechargement\n"
                    ],
                    [
                      "its a abiled us to “where the wild things are” art house auteur wes anderson tackles roald dahl’s “fantastic mr some small game projects are created by an auteur who controls every aspect of production weeks about a critical phenomenon called “vulgar auteurism” vome clear unless seen in the context of so called auteurism itself and auteurism as such doesn’t exist hawks nicholas ray and otto preminger were the auteurs—the authors—of their movies despite the supervieir idea the politique—the policy or politics—des auteurs and even the editor of the magazine that champit’s where the political side of their devotion to auteurs comes through in 2000 jean luc godard told me basis for what andrew sarris brought over as the “auteur theory” the recognition of art in works widely dpositive and positivist mode of the politique des auteurs the critical practice of so called auteurism—an the great paradox of the politique des auteurs is that it was a repudiation of respectable cult the spirit of the new wave and its politique des auteurs as is the encyclopedic taxonomy of directorsg things about the advocates of the politique des auteurs is that—contrary to the often repeated assertioninterview in cahiers “i am for the politique des auteurs but not just anybodyart by the young energumens of the politique des auteurs—that of a michelangelo or a dostoevskyand mythic core of the very idea of the cinematic auteur or for that matter the author in literature i of the modern and contemporary stage director as auteurour le telechargement\n"
                    ],
                    [
                      "its a abiled us to “where the wild things are” art house auteur wes anderson tackles roald dahl’s “fantastic mr some small game projects are created by an auteur who controls every aspect of production weeks about a critical phenomenon called “vulgar auteurism” vome clear unless seen in the context of so called auteurism itself and auteurism as such doesn’t exist hawks nicholas ray and otto preminger were the auteurs—the authors—of their movies despite the supervieir idea the politique—the policy or politics—des auteurs and even the editor of the magazine that champit’s where the political side of their devotion to auteurs comes through in 2000 jean luc godard told me basis for what andrew sarris brought over as the “auteur theory” the recognition of art in works widely dpositive and positivist mode of the politique des auteurs the critical practice of so called auteurism—an the great paradox of the politique des auteurs is that it was a repudiation of respectable cult the spirit of the new wave and its politique des auteurs as is the encyclopedic taxonomy of directorsg things about the advocates of the politique des auteurs is that—contrary to the often repeated assertioninterview in cahiers “i am for the politique des auteurs but not just anybodyart by the young energumens of the politique des auteurs—that of a michelangelo or a dostoevskyand mythic core of the very idea of the cinematic auteur or for that matter the author in literature i of the modern and contemporary stage director as auteurour le telechargement\n"
                    ],
                    [
                      "its a abiled us to “where the wild things are” art house auteur wes anderson tackles roald dahl’s “fantastic mr some small game projects are created by an auteur who controls every aspect of production weeks about a critical phenomenon called “vulgar auteurism” vome clear unless seen in the context of so called auteurism itself and auteurism as such doesn’t exist hawks nicholas ray and otto preminger were the auteurs—the authors—of their movies despite the supervieir idea the politique—the policy or politics—des auteurs and even the editor of the magazine that champit’s where the political side of their devotion to auteurs comes through in 2000 jean luc godard told me basis for what andrew sarris brought over as the “auteur theory” the recognition of art in works widely dpositive and positivist mode of the politique des auteurs the critical practice of so called auteurism—an the great paradox of the politique des auteurs is that it was a repudiation of respectable cult the spirit of the new wave and its politique des auteurs as is the encyclopedic taxonomy of directorsg things about the advocates of the politique des auteurs is that—contrary to the often repeated assertioninterview in cahiers “i am for the politique des auteurs but not just anybodyart by the young energumens of the politique des auteurs—that of a michelangelo or a dostoevskyand mythic core of the very idea of the cinematic auteur or for that matter the author in literature i of the modern and contemporary stage director as auteurour le telechargement\n"
                    ],
                    [
                      "its a abiled us to “where the wild things are” art house auteur wes anderson tackles roald dahl’s “fantastic mr some small game projects are created by an auteur who controls every aspect of production weeks about a critical phenomenon called “vulgar auteurism” vome clear unless seen in the context of so called auteurism itself and auteurism as such doesn’t exist hawks nicholas ray and otto preminger were the auteurs—the authors—of their movies despite the supervieir idea the politique—the policy or politics—des auteurs and even the editor of the magazine that champit’s where the political side of their devotion to auteurs comes through in 2000 jean luc godard told me basis for what andrew sarris brought over as the “auteur theory” the recognition of art in works widely dpositive and positivist mode of the politique des auteurs the critical practice of so called auteurism—an the great paradox of the politique des auteurs is that it was a repudiation of respectable cult the spirit of the new wave and its politique des auteurs as is the encyclopedic taxonomy of directorsg things about the advocates of the politique des auteurs is that—contrary to the often repeated assertioninterview in cahiers “i am for the politique des auteurs but not just anybodyart by the young energumens of the politique des auteurs—that of a michelangelo or a dostoevskyand mythic core of the very idea of the cinematic auteur or for that matter the author in literature i of the modern and contemporary stage director as auteurour le telechargement\n"
                    ],
                    [
                      "its a abiled us to “where the wild things are” art house auteur wes anderson tackles roald dahl’s “fantastic mr some small game projects are created by an auteur who controls every aspect of production weeks about a critical phenomenon called “vulgar auteurism” vome clear unless seen in the context of so called auteurism itself and auteurism as such doesn’t exist hawks nicholas ray and otto preminger were the auteurs—the authors—of their movies despite the supervieir idea the politique—the policy or politics—des auteurs and even the editor of the magazine that champit’s where the political side of their devotion to auteurs comes through in 2000 jean luc godard told me basis for what andrew sarris brought over as the “auteur theory” the recognition of art in works widely dpositive and positivist mode of the politique des auteurs the critical practice of so called auteurism—an the great paradox of the politique des auteurs is that it was a repudiation of respectable cult the spirit of the new wave and its politique des auteurs as is the encyclopedic taxonomy of directorsg things about the advocates of the politique des auteurs is that—contrary to the often repeated assertioninterview in cahiers “i am for the politique des auteurs but not just anybodyart by the young energumens of the politique des auteurs—that of a michelangelo or a dostoevskyand mythic core of the very idea of the cinematic auteur or for that matter the author in literature i of the modern and contemporary stage director as auteurour le telechargement\n"
                    ],
                    [
                      "its a abiled us to “where the wild things are” art house auteur wes anderson tackles roald dahl’s “fantastic mr some small game projects are created by an auteur who controls every aspect of production weeks about a critical phenomenon called “vulgar auteurism” vome clear unless seen in the context of so called auteurism itself and auteurism as such doesn’t exist hawks nicholas ray and otto preminger were the auteurs—the authors—of their movies despite the supervieir idea the politique—the policy or politics—des auteurs and even the editor of the magazine that champit’s where the political side of their devotion to auteurs comes through in 2000 jean luc godard told me basis for what andrew sarris brought over as the “auteur theory” the recognition of art in works widely dpositive and positivist mode of the politique des auteurs the critical practice of so called auteurism—an the great paradox of the politique des auteurs is that it was a repudiation of respectable cult the spirit of the new wave and its politique des auteurs as is the encyclopedic taxonomy of directorsg things about the advocates of the politique des auteurs is that—contrary to the often repeated assertioninterview in cahiers “i am for the politique des auteurs but not just anybodyart by the young energumens of the politique des auteurs—that of a michelangelo or a dostoevskyand mythic core of the very idea of the cinematic auteur or for that matter the author in literature i of the modern and contemporary stage director as auteurour le telechargement\n"
                    ],
                    [
                      "sont ceux dont les droits d’auteur ont effectivement expireare you here gives you the full selby\n"
                    ],
                    [
                      "review the auteur 1\n"
                    ],
                    [
                      "les auteurs et collaborateurs\n"
                    ],
                    [
                      "authors   auteurs\n"
                    ],
                    [
                      "authors their last articles   auteurs hun laatste artikelen\n"
                    ],
                    [
                      "prix des jeunes auteurs\n"
                    ],
                    [
                      "droits dauteur et déclaration concernant la protection de la viee shai gilgeous alexander to run the show like an auteur would fall flatu suspense pic the flying guillotine prolific auteur ho meng hua returns with a far more lively and enance depending on the bop up to 360 ps\n"
                    ],
                    [
                      "droits dauteur et déclaration concernant la protection de la viee shai gilgeous alexander to run the show like an auteur would fall flatu suspense pic the flying guillotine prolific auteur ho meng hua returns with a far more lively and enance depending on the bop up to 360 ps\n"
                    ],
                    [
                      "répartition du poids the reasons for his abiding reputation as a major auteur citing the opinions of numerous peers and contemake classical music a regular feature was swedish auteur ingmar bergman who largely eschewed traditional s”\n"
                    ],
                    [
                      "répartition du poids the reasons for his abiding reputation as a major auteur citing the opinions of numerous peers and contemake classical music a regular feature was swedish auteur ingmar bergman who largely eschewed traditional s”\n"
                    ],
                    [
                      "gerelateerde artikelenmeer van deze auteur\n"
                    ],
                    [
                      "q could broadcasters consider licensing more auteur shorts and features during and after this crisis ht to use the site\n"
                    ],
                    [
                      "delete or modify any “droit d’auteur” copyright trademark or any other proprietary rst van de wereld\n"
                    ],
                    [
                      "auteur\n"
                    ],
                    [
                      "geplaatst op 7 maart 2021 7 maart 2021 auteur site standaardcategorieën sugardaddie visitors\t\n"
                    ],
                    [
                      "buser login  auteur inconnu\n"
                    ],
                    [
                      "yes ag of expensive flops domino is the sort of stiff auteur workout that even a de palma nut might struggle tauteurs impex   hersteller   sialkot punjab pak manufarma registrieren\n"
                    ],
                    [
                      "auteurs impex\n"
                    ],
                    [
                      "auteurs impex\n"
                    ],
                    [
                      "auteurs impex is a team of young and passionate individu at auteurs impex the purpose is achieved by merging our unice national du film du canada onf société des auteurs et compositeurs dramatiques sacd ubisoft and” biskind’s explanation of the auteur theory as propagated by sarris is reductive to th\n"
                    ],
                    [
                      "auteurs impex is a team of young and passionate individu at auteurs impex the purpose is achieved by merging our unice national du film du canada onf société des auteurs et compositeurs dramatiques sacd ubisoft and” biskind’s explanation of the auteur theory as propagated by sarris is reductive to th\n"
                    ],
                    [
                      "auteurs impex is a team of young and passionate individu at auteurs impex the purpose is achieved by merging our unice national du film du canada onf société des auteurs et compositeurs dramatiques sacd ubisoft and” biskind’s explanation of the auteur theory as propagated by sarris is reductive to th\n"
                    ],
                    [
                      "auteurs impex is a team of young and passionate individu at auteurs impex the purpose is achieved by merging our unice national du film du canada onf société des auteurs et compositeurs dramatiques sacd ubisoft and” biskind’s explanation of the auteur theory as propagated by sarris is reductive to th\n"
                    ],
                    [
                      "posted at 0143 pm in auteurs books great art  permalink\n"
                    ],
                    [
                      "comme amazon anders antagonists anthony arc art asimov auteur b movies back to the future backstory barker basiopyright act dmca kennisgeving inzake schending auteursrechten\n"
                    ],
                    [
                      "comme amazon anders antagonists anthony arc art asimov auteur b movies back to the future backstory barker basiopyright act dmca kennisgeving inzake schending auteursrechten\n"
                    ],
                    [
                      "gerelateerde artikelenmeer van deze auteur\n"
                    ],
                    [
                      "stemb don’t these new auteurs or the random strangers who end up “starring” i\n"
                    ],
                    [
                      "peter baker of the times unleashed his inner auteur its news analysis not straight reporting so her monograph on mosaic space and mosaic auteurs is funded by geschwister boehringer ingelheim stom woody…you’ve already said yes because he’s an auteur he’s an incredible dramatisthings thought tion true turn wife writing\n"
                    ],
                    [
                      "peter baker of the times unleashed his inner auteur its news analysis not straight reporting so her monograph on mosaic space and mosaic auteurs is funded by geschwister boehringer ingelheim stom woody…you’ve already said yes because he’s an auteur he’s an incredible dramatisthings thought tion true turn wife writing\n"
                    ],
                    [
                      "peter baker of the times unleashed his inner auteur its news analysis not straight reporting so her monograph on mosaic space and mosaic auteurs is funded by geschwister boehringer ingelheim stom woody…you’ve already said yes because he’s an auteur he’s an incredible dramatisthings thought tion true turn wife writing\n"
                    ],
                    [
                      "over de auteur 1989\n"
                    ],
                    [
                      "auteur maurice nadeau\n"
                    ],
                    [
                      "bijdrroom there was nothing on his face but pride and hauteur  all kinds of scum and insects floated on its sur traductrice journaliste parfums à citizen k et auteur de parfums une histoire intime presses de la ci\n"
                    ],
                    [
                      "over de auteur 1993\n"
                    ],
                    [
                      "auteur benjamin woolley\n"
                    ],
                    [
                      "ui auteur de plusieurs publications sur revues indexéeshe book approaches feng as a special kind of film auteur whose works must be interpreted with attention trom different soil samples in jhansi city india\n"
                    ],
                    [
                      "ui auteur de plusieurs publications sur revues indexéeshe book approaches feng as a special kind of film auteur whose works must be interpreted with attention trom different soil samples in jhansi city india\n"
                    ],
                    [
                      "auteur mously nasty necrotic debut nekromantik teutonic auteur jorg buttgereit’s sublimely surreal sadomasochist lynch is the rare auteur whose work embodies his own singular vision and  regard des hauteurs\n"
                    ],
                    [
                      "auteur mously nasty necrotic debut nekromantik teutonic auteur jorg buttgereit’s sublimely surreal sadomasochist lynch is the rare auteur whose work embodies his own singular vision and  regard des hauteurs\n"
                    ],
                    [
                      "auteur mously nasty necrotic debut nekromantik teutonic auteur jorg buttgereit’s sublimely surreal sadomasochist lynch is the rare auteur whose work embodies his own singular vision and  regard des hauteurs\n"
                    ],
                    [
                      "auteur david marsh\n"
                    ],
                    [
                      "auteurs make horrible economists the subtle costs of cr la jeune auteure use dun humour mordant pour exprimer ses vues ecopyrightdroitdauteurmumbai late veteran auteur kt spielberg while rian johnson is quirky american auteur his monograph on john carpenters the thing in auteurs devils advocates series of books was publishedee all\n"
                    ],
                    [
                      "auteurs make horrible economists the subtle costs of cr la jeune auteure use dun humour mordant pour exprimer ses vues ecopyrightdroitdauteurmumbai late veteran auteur kt spielberg while rian johnson is quirky american auteur his monograph on john carpenters the thing in auteurs devils advocates series of books was publishedee all\n"
                    ],
                    [
                      "auteurs make horrible economists the subtle costs of cr la jeune auteure use dun humour mordant pour exprimer ses vues ecopyrightdroitdauteurmumbai late veteran auteur kt spielberg while rian johnson is quirky american auteur his monograph on john carpenters the thing in auteurs devils advocates series of books was publishedee all\n"
                    ],
                    [
                      "auteurs make horrible economists the subtle costs of cr la jeune auteure use dun humour mordant pour exprimer ses vues ecopyrightdroitdauteurmumbai late veteran auteur kt spielberg while rian johnson is quirky american auteur his monograph on john carpenters the thing in auteurs devils advocates series of books was publishedee all\n"
                    ],
                    [
                      "auteurfox sportsmoment of plaatsen1931 – october 5 201trary and the critical shift to an interest in “auteur” series\n"
                    ],
                    [
                      "auteurfox sportsmoment of plaatsen1931 – october 5 201trary and the critical shift to an interest in “auteur” series\n"
                    ],
                    [
                      "so called auteur series which are considered to have a sole creatn addition to having mostly white male creators auteur series like mad men and breaking bad rarely hireda woman of color even ‘allowed’ to be named an ‘auteur’ ” she wasn’t asking whether women of color have the artistry and work ethic necessary to become auteurs auteurs are studied revered and most importantly fund\n"
                    ],
                    [
                      "so called auteur series which are considered to have a sole creatn addition to having mostly white male creators auteur series like mad men and breaking bad rarely hireda woman of color even ‘allowed’ to be named an ‘auteur’ ” she wasn’t asking whether women of color have the artistry and work ethic necessary to become auteurs auteurs are studied revered and most importantly fund\n"
                    ],
                    [
                      "so called auteur series which are considered to have a sole creatn addition to having mostly white male creators auteur series like mad men and breaking bad rarely hireda woman of color even ‘allowed’ to be named an ‘auteur’ ” she wasn’t asking whether women of color have the artistry and work ethic necessary to become auteurs auteurs are studied revered and most importantly fund\n"
                    ],
                    [
                      "so called auteur series which are considered to have a sole creatn addition to having mostly white male creators auteur series like mad men and breaking bad rarely hireda woman of color even ‘allowed’ to be named an ‘auteur’ ” she wasn’t asking whether women of color have the artistry and work ethic necessary to become auteurs auteurs are studied revered and most importantly fund\n"
                    ],
                    [
                      "so called auteur series which are considered to have a sole creatn addition to having mostly white male creators auteur series like mad men and breaking bad rarely hireda woman of color even ‘allowed’ to be named an ‘auteur’ ” she wasn’t asking whether women of color have the artistry and work ethic necessary to become auteurs auteurs are studied revered and most importantly fund\n"
                    ],
                    [
                      "auteurs courtney clarraín is the chilean auteur with a gift for compelling biographies of charism 853 pm blake butler —\n"
                    ],
                    [
                      "auteurs courtney clarraín is the chilean auteur with a gift for compelling biographies of charism 853 pm blake butler —\n"
                    ],
                    [
                      "tho i guess the point of auteur theory is that even seemingly lesser works of an auteur are important and the onus is on the viewer thathe value is there and must be found because an auteur doesn’t make a mistake i’d call barthelme an auteur 453 pm blake butler —\n"
                    ],
                    [
                      "tho i guess the point of auteur theory is that even seemingly lesser works of an auteur are important and the onus is on the viewer thathe value is there and must be found because an auteur doesn’t make a mistake i’d call barthelme an auteur 453 pm blake butler —\n"
                    ],
                    [
                      "tho i guess the point of auteur theory is that even seemingly lesser works of an auteur are important and the onus is on the viewer thathe value is there and must be found because an auteur doesn’t make a mistake i’d call barthelme an auteur 453 pm blake butler —\n"
                    ],
                    [
                      "tho i guess the point of auteur theory is that even seemingly lesser works of an auteur are important and the onus is on the viewer thathe value is there and must be found because an auteur doesn’t make a mistake i’d call barthelme an auteur 453 pm blake butler —\n"
                    ],
                    [
                      "tho i guess the point of auteur theory is that even seemingly lesser works of an \n"
                    ],
                    [
                      "but in auteur theory a ‘pulp nove with no haunting’ in his con\n"
                    ],
                    [
                      "but in auteur theory a ‘pulp nove with no haunting’ in his con but to me being an auteur doesn’t mean all your work is flawless but rather that an auteur is a serious important artist who imparts a distion a person like toni morrison is definitely an auteur but she has more stinkers than winners in my op\n"
                    ],
                    [
                      "but in auteur theory a ‘pulp nove with no haunting’ in his con but to me being an auteur doesn’t mean all your work is flawless but rather that an auteur is a serious important artist who imparts a distion a person like toni morrison is definitely an auteur but she has more stinkers than winners in my op\n"
                    ],
                    [
                      "but in auteur theory a ‘pulp nove with no haunting’ in his con but to me being an auteur doesn’t mean all your work is flawless but rather that an auteur is a serious important artist who imparts a distion a person like toni morrison is definitely an auteur but she has more stinkers than winners in my op\n"
                    ],
                    [
                      "but in auteur theory a ‘pulp nove with no haunting’ in his con but to me being an auteur doesn’t mean all your work is flawless but rather that an auteur is a serious important artist who imparts a distion a person like toni morrison is definitely an auteur but she has more stinkers than winners in my op\n"
                    ],
                    [
                      "my definition of an anti auteur is someone like dave eggers whose work doesn’t hd even want to be associated with a concept like ‘auteur not really an auteur1 pm stephen —\n"
                    ],
                    [
                      "my definition of an anti auteur is someone like dave eggers whose work doesn’t hd even want to be associated with a concept like ‘auteur not really an auteur1 pm stephen —\n"
                    ],
                    [
                      "my definition of an anti auteur is someone like dave eggers whose work doesn’t hd even want to be associated with a concept like ‘auteur not really an auteur1 pm stephen —\n"
                    ],
                    [
                      "you know in film where the whole auteur thing started i feel like most auteurs have semi stinkers but what makes them auteurs is that most of their work has their indelible s i mean fellini was definitely an auteur but ‘roma’ kinda sucks balls\n"
                    ],
                    [
                      "you know in film where the whole auteur thing started i feel like most auteurs have semi stinkers but what makes them auteurs is that most of their work has their indelible s i mean fellini was definitely an auteur but ‘roma’ kinda sucks balls\n"
                    ],
                    [
                      "you know in film where the whole auteur thing started i feel like most auteurs have semi stinkers but what makes them auteurs is that most of their work has their indelible s i mean fellini was definitely an auteur but ‘roma’ kinda sucks balls\n"
                    ],
                    [
                      "you know in film where the whole auteur thing started i feel like most auteurs have semi stinkers but what makes them auteurs is that most of their work has their indelible s i mean fellini was definitely an auteur but ‘roma’ kinda sucks balls\n"
                    ],
                    [
                      "yeah i kind of misappropriated the auteur thing on purpose the point of the auteur is that the works that seem flawed are not and tch 11th 2010  1011 pm xian —\n"
                    ],
                    [
                      "yeah i kind of misappropriated the auteur thing on purpose the point of the auteur is that the works that seem flawed are not and tch 11th 2010  1011 pm xian —\n"
                    ],
                    [
                      "i don’t think the auteur theory implies at all that an “auteur” is exempt us in the quality lit game all authors would be auteurs unless you think the majority of the creativityorgwikiauteur theoryorigin\n"
                    ],
                    [
                      "i don’t think the auteur theory implies at all that an “auteur” is exempt us in the quality lit game all authors would be auteurs unless you think the majority of the creativityorgwikiauteur theoryorigin\n"
                    ],
                    [
                      "i don’t think the auteur theory implies at all that an “auteur” is exempt us in the quality lit game all authors would be auteurs unless you think the majority of the creativityorgwikiauteur theoryorigin\n"
                    ],
                    [
                      "as for an author who never published a semi stinker homer  although there the auteur theory probably doesn’t applyrch 11th 2010  611 pm xian —\n"
                    ],
                    [
                      "i don’t think the auteur theory implies at all that an “auteur” is exempt hut’ i think is a perfect example of a work by an auteur that can be underestimated or that plenty of peophesive a fitting final statement for a legendary auteurely need to define what we’re talking about with “auteurs like the important criterion for determining in auteur is lack of bad work hasn’t written a bad work \n"
                    ],
                    [
                      "i don’t think the auteur theory implies at all that an “auteur” is exempt hut’ i think is a perfect example of a work by an auteur that can be underestimated or that plenty of peophesive a fitting final statement for a legendary auteurely need to define what we’re talking about with “auteurs like the important criterion for determining in auteur is lack of bad work hasn’t written a bad work \n"
                    ],
                    [
                      "i don’t think the auteur theory implies at all that an “auteur” is exempt hut’ i think is a perfect example of a work by an auteur that can be underestimated or that plenty of peophesive a fitting final statement for a legendary auteurely need to define what we’re talking about with “auteurs like the important criterion for determining in auteur is lack of bad work hasn’t written a bad work \n"
                    ],
                    [
                      "i don’t think the auteur theory implies at all that an “auteur” is exempt hut’ i think is a perfect example of a work by an auteur that can be underestimated or that plenty of peophesive a fitting final statement for a legendary auteurely need to define what we’re talking about with “auteurs like the important criterion for determining in auteur is lack of bad work hasn’t written a bad work \n"
                    ],
                    [
                      "i don’t think the auteur theory implies at all that an “auteur” is exempt hut’ i think is a perfect example of a work by an auteur that can be underestimated or that plenty of peophesive a fitting final statement for a legendary auteurely need to define what we’re talking about with “auteurs like the important criterion for determining in auteur is lack of bad work hasn’t written a bad work \n"
                    ],
                    [
                      "also all authors are auteurs the auteur is the auteur  1026 pm stephen —\n"
                    ],
                    [
                      "also all authors are auteurs the auteur is the auteur  1026 pm stephen —\n"
                    ],
                    [
                      "also all authors are auteurs the auteur is the auteur  1026 pm stephen —\n"
                    ],
                    [
                      "the main lesson i draw from auteurs is be yourself on purpose through and through0  626 pm stephen —\n"
                    ],
                    [
                      "the main lesson i draw from auteurs is be yourself on purpose through and through the guy i took a class from who was huge on the auteur thing talked about eyes wide shut just about everou’re saying which i like that all authors are auteurs and an auteur\n"
                    ],
                    [
                      "the main lesson i draw from auteurs is be yourself on purpose through and through the guy i took a class from who was huge on the auteur thing talked about eyes wide shut just about everou’re saying which i like that all authors are auteurs and an auteur\n"
                    ],
                    [
                      "the main lesson i draw from auteurs is be yourself on purpose through and through the guy i took a class from who was huge on the auteur thing talked about eyes wide shut just about everou’re saying which i like that all authors are auteurs and an auteur\n"
                    ],
                    [
                      "the main lesson i draw from auteurs is be yourself on purpose through and through the guy i took a class from who was huge on the auteur thing talked about eyes wide shut just about everou’re saying which i like that all authors are auteurs and an auteur\n"
                    ],
                    [
                      "but if we’re talking auteurship they are both really interesting to read in \n"
                    ],
                    [
                      "auteur authors in my book joyce faulkner  flannery o’\n"
                    ],
                    [
                      "auteur authors in my book joyce faulkner  flannery o’ but agee definitely an auteur who was called “the sovereign prince of the engl been mentioned  i’d say stein most decidedly an auteur but some of her most “experimental” work is verst sneak into the original thought process behind auteur as wellom debeauchamp —\n"
                    ],
                    [
                      "auteur authors in my book joyce faulkner  flannery o’ but agee definitely an auteur who was called “the sovereign prince of the engl been mentioned  i’d say stein most decidedly an auteur but some of her most “experimental” work is verst sneak into the original thought process behind auteur as wellom debeauchamp —\n"
                    ],
                    [
                      "auteur authors in my book joyce faulkner  flannery o’ but agee definitely an auteur who was called “the sovereign prince of the engl been mentioned  i’d say stein most decidedly an auteur but some of her most “experimental” work is verst sneak into the original thought process behind auteur as wellom debeauchamp —\n"
                    ],
                    [
                      "auteur authors in my book joyce faulkner  flannery o’ but agee definitely an auteur who was called “the sovereign prince of the engl been mentioned  i’d say stein most decidedly an auteur but some of her most “experimental” work is verst sneak into the original thought process behind auteur as wellom debeauchamp —\n"
                    ],
                    [
                      "samuel beckett is the epitome of auteur part of the definition of auteur as i’m reading these posts is that the auteur’son did that might imply that hannah was more the auteur\n"
                    ],
                    [
                      "samuel beckett is the epitome of auteur part of the definition of auteur as i’m reading these posts is that the auteur’son did that might imply that hannah was more the auteur\n"
                    ],
                    [
                      "samuel beckett is the epitome of auteur part of the definition of auteur as i’m reading these posts is that the auteur’son did that might imply that hannah was more the auteur\n"
                    ],
                    [
                      "samuel beckett is the epitome of auteur part of the definition of auteur as i’m reading these posts is that the auteur’son did that might imply that hannah was more the auteur\n"
                    ],
                    [
                      "being auteur and this may have been said there’s hundred of f the ‘misunderstood’ or ‘undervalued’ work by an auteurposts\n"
                    ],
                    [
                      "being auteur and this may have been said there’s hundred of f the ‘misunderstood’ or ‘undervalued’ work by an auteurposts\n"
                    ],
                    [
                      "auteursrecht © 2021 fp beauty industries bv\n"
                    ],
                    [
                      "auteur  edmund staustellget price\n"
                    ],
                    [
                      "coronavirus in spain to the daily mail at the raindance film festival auteur award this week that he might know whyeschikbare boeken én de nieuwsfeiten waarin we de auteur of woorden uit de titel aantreffen\n"
                    ],
                    [
                      "coronavirus in spain to the daily mail at the raindance film festival auteur award this week that he might know whyeschikbare boeken én de nieuwsfeiten waarin we de auteur of woorden uit de titel aantreffen\n"
                    ],
                    [
                      "les auteurs et collaborateurs\n"
                    ],
                    [
                      "administration chin in her next film with her favorite auteur pedro almodóvar theyre trying to avoid repeatingticity\n"
                    ],
                    [
                      "often works with european and american auteur directors out doorprimera vajina mi por vez la desangran amauteur prostitue fuck men japanese family game husband msalondesauteurs10 author\n"
                    ],
                    [
                      "we are still gal alle fotos op deze site zijn beschermd door auteursrechtction des données\n"
                    ],
                    [
                      "the vthat in both you know i guess in the like the auteur the art film auteur at that time was lina wertmuated\n"
                    ],
                    [
                      "the vthat in both you know i guess in the like the auteur the art film auteur at that time was lina wertmuated\n"
                    ],
                    [
                      "wes andersons favorite movies 35 films the auteur wants you to see\t\n"
                    ],
                    [
                      "guillermo del toros favorite m instead as long as these auteurs manage to give good content now and then even inlf hour that peele lands himself firmly in horror auteur territory\n"
                    ],
                    [
                      "guillermo del toros favorite m instead as long as these auteurs manage to give good content now and then even inlf hour that peele lands himself firmly in horror auteur territory\n"
                    ],
                    [
                      "auteur\n"
                    ],
                    [
                      "over de auteur\n"
                    ],
                    [
                      "een seksueel hoogtepunt an khatter who made a name for himself in iranian auteur majid majid’s ‘beyond the clouds’ and bollywood rhorror fixated schlockmeister “in france im an auteur in germany im a filmmaker in the ur he really does have more than something of the auteur about him even though i can’t quite put my fingee in a cowboy culture of everyman for himself and auteur theory where a director is given god like statusdées exprimées dans ce blogue nengagent que leur auteur et nexpriment pas nécessairement les positions emics  a reader texte imprimé  joyce jacobsen auteur  adam zeller auteur \n"
                    ],
                    [
                      "een seksueel hoogtepunt an khatter who made a name for himself in iranian auteur majid majid’s ‘beyond the clouds’ and bollywood rhorror fixated schlockmeister “in france im an auteur in germany im a filmmaker in the ur he really does have more than something of the auteur about him even though i can’t quite put my fingee in a cowboy culture of everyman for himself and auteur theory where a director is given god like statusdées exprimées dans ce blogue nengagent que leur auteur et nexpriment pas nécessairement les positions emics  a reader texte imprimé  joyce jacobsen auteur  adam zeller auteur \n"
                    ],
                    [
                      "een seksueel hoogtepunt an khatter who made a name for himself in iranian auteur majid majid’s ‘beyond the clouds’ and bollywood rhorror fixated schlockmeister “in france im an auteur in germany im a filmmaker in the ur he really does have more than something of the auteur about him even though i can’t quite put my fingee in a cowboy culture of everyman for himself and auteur theory where a director is given god like statusdées exprimées dans ce blogue nengagent que leur auteur et nexpriment pas nécessairement les positions emics  a reader texte imprimé  joyce jacobsen auteur  adam zeller auteur \n"
                    ],
                    [
                      "een seksueel hoogtepunt an khatter who made a name for himself in iranian auteur majid majid’s ‘beyond the clouds’ and bollywood rhorror fixated schlockmeister “in france im an auteur in germany im a filmmaker in the ur he really does have more than something of the auteur about him even though i can’t quite put my fingee in a cowboy culture of everyman for himself and auteur theory where a director is given god like statusdées exprimées dans ce blogue nengagent que leur auteur et nexpriment pas nécessairement les positions emics  a reader texte imprimé  joyce jacobsen auteur  adam zeller auteur \n"
                    ],
                    [
                      "een seksueel hoogtepunt an khatter who made a name for himself in iranian auteur majid majid’s ‘beyond the clouds’ and bollywood rhorror fixated schlockmeister “in france im an auteur in germany im a filmmaker in the ur he really does have more than something of the auteur about him even though i can’t quite put my fingee in a cowboy culture of everyman for himself and auteur theory where a director is given god like statusdées exprimées dans ce blogue nengagent que leur auteur et nexpriment pas nécessairement les positions emics  a reader texte imprimé  joyce jacobsen auteur  adam zeller auteur \n"
                    ],
                    [
                      "een seksueel hoogtepunt an khatter who made a name for himself in iranian auteur majid majid’s ‘beyond the clouds’ and bollywood rhorror fixated schlockmeister “in france im an auteur in germany im a filmmaker in the ur he really does have more than something of the auteur about him even though i can’t quite put my fingee in a cowboy culture of everyman for himself and auteur theory where a director is given god like statusdées exprimées dans ce blogue nengagent que leur auteur et nexpriment pas nécessairement les positions emics  a reader texte imprimé  joyce jacobsen auteur  adam zeller auteur \n"
                    ],
                    [
                      "een seksueel hoogtepunt an khatter who made a name for himself in iranian auteur majid majid’s ‘beyond the clouds’ and bollywood rhorror fixated schlockmeister “in france im an auteur in germany im a filmmaker in the ur he really does have more than something of the auteur about him even though i can’t quite put my fingee in a cowboy culture of everyman for himself and auteur theory where a director is given god like statusdées exprimées dans ce blogue nengagent que leur auteur et nexpriment pas nécessairement les positions emics  a reader texte imprimé  joyce jacobsen auteur  adam zeller auteur \n"
                    ],
                    [
                      "auteur\n"
                    ],
                    [
                      "press and information team of the delegation to mplan  texte  bibliographie  notes  citation  auteur\n"
                    ],
                    [
                      "auteur\n"
                    ],
                    [
                      "droits d’auteur\n"
                    ],
                    [
                      "auteurs\n"
                    ],
                    [
                      "1980s auteurs horroreerie\n"
                    ],
                    [
                      "in auteur feminist filmmaker anna biller’s the love witch \n"
                    ],
                    [
                      "© droits dauteur restostaffly to discovering the work of great international auteurs at the brattle theatre in cambridge massachuset will be new discussions around the politique des auteursà isoler\n"
                    ],
                    [
                      "© droits dauteur restostaffly to discovering the work of great international auteurs at the brattle theatre in cambridge massachuset will be new discussions around the politique des auteursà isoler\n"
                    ],
                    [
                      "indonesian auteur edwins vengeance is mine all others pay cash in search the penis and then pumping exposed the hauteur to confirm a vacuume aegis the penis and then pumping prominent the hauteur to design a vacuumf of the penis and then pumping unmistakable the hauteur to start a vacuum les marques de commerce et droits dauteur de u haul international inc a writerdirector that has moved from an outside auteur with a new approach to storytelling to a man so hnd quirky artist in new york – the original amish auteur  baron von brunk specializes with making original\n"
                    ],
                    [
                      "indonesian auteur edwins vengeance is mine all others pay cash in search the penis and then pumping exposed the hauteur to confirm a vacuume aegis the penis and then pumping prominent the hauteur to design a vacuumf of the penis and then pumping unmistakable the hauteur to start a vacuum les marques de commerce et droits dauteur de u haul international inc a writerdirector that has moved from an outside auteur with a new approach to storytelling to a man so hnd quirky artist in new york – the original amish auteur  baron von brunk specializes with making original\n"
                    ],
                    [
                      "indonesian auteur edwins vengeance is mine all others pay cash in search the penis and then pumping exposed the hauteur to confirm a vacuume aegis the penis and then pumping prominent the hauteur to design a vacuumf of the penis and then pumping unmistakable the hauteur to start a vacuum les marques de commerce et droits dauteur de u haul international inc a writerdirector that has moved from an outside auteur with a new approach to storytelling to a man so hnd quirky artist in new york – the original amish auteur  baron von brunk specializes with making original\n"
                    ],
                    [
                      "this year lg called on 531 young auteurs from 33 countries to capture the peoples culturease also has a great interview with the colorful auteurs andrea martínez crowther 2008 d’lugo traced auteurist patterns in the films that navarro produces irom d’lugo’s consideration of navarro as producer auteur catherine grant university of sussex looked atmen and is like the herb que laveu que font les auteurs quils ne john savent pas telle ou telle choseconfie une fonctionnaire de la pp qui a croisé lauteur de la tuerie quelques minutes avant le coup de foto people simply looking for laughs than it is to auteurists like mepractice sessions memories thoughts forming an auteur’s perspective on the personality of the genius inary 2009\n"
                    ],
                    [
                      "this year lg called on 531 young auteurs from 33 countries to capture the peoples culturease also has a great interview with the colorful auteurs andrea martínez crowther 2008 d’lugo traced auteurist patterns in the films that navarro produces irom d’lugo’s consideration of navarro as producer auteur catherine grant university of sussex looked atmen and is like the herb que laveu que font les auteurs quils ne john savent pas telle ou telle choseconfie une fonctionnaire de la pp qui a croisé lauteur de la tuerie quelques minutes avant le coup de foto people simply looking for laughs than it is to auteurists like mepractice sessions memories thoughts forming an auteur’s perspective on the personality of the genius inary 2009\n"
                    ],
                    [
                      "this year lg called on 531 young auteurs from 33 countries to capture the peoples culturease also has a great interview with the colorful auteurs andrea martínez crowther 2008 d’lugo traced auteurist patterns in the films that navarro produces irom d’lugo’s consideration of navarro as producer auteur catherine grant university of sussex looked atmen and is like the herb que laveu que font les auteurs quils ne john savent pas telle ou telle choseconfie une fonctionnaire de la pp qui a croisé lauteur de la tuerie quelques minutes avant le coup de foto people simply looking for laughs than it is to auteurists like mepractice sessions memories thoughts forming an auteur’s perspective on the personality of the genius inary 2009\n"
                    ],
                    [
                      "this year lg called on 531 young auteurs from 33 countries to capture the peoples culturease also has a great interview with the colorful auteurs andrea martínez crowther 2008 d’lugo traced auteurist patterns in the films that navarro produces irom d’lugo’s consideration of navarro as producer auteur catherine grant university of sussex looked atmen and is like the herb que laveu que font les auteurs quils ne john savent pas telle ou telle choseconfie une fonctionnaire de la pp qui a croisé lauteur de la tuerie quelques minutes avant le coup de foto people simply looking for laughs than it is to auteurists like mepractice sessions memories thoughts forming an auteur’s perspective on the personality of the genius inary 2009\n"
                    ],
                    [
                      "this year lg called on 531 young auteurs from 33 countries to capture the peoples culturease also has a great interview with the colorful auteurs andrea martínez crowther 2008 d’lugo traced auteurist patterns in the films that navarro produces irom d’lugo’s consideration of navarro as producer auteur catherine grant university of sussex looked atmen and is like the herb que laveu que font les auteurs quils ne john savent pas telle ou telle choseconfie une fonctionnaire de la pp qui a croisé lauteur de la tuerie quelques minutes avant le coup de foto people simply looking for laughs than it is to auteurists like mepractice sessions memories thoughts forming an auteur’s perspective on the personality of the genius inary 2009\n"
                    ],
                    [
                      "auteurs\n"
                    ],
                    [
                      "comi sexist cliché gendered power dynamics and male auteur apologismhere with lyrics and vocals by english avant pop auteur david sylvian is by far the best known as it wa3copyvio quand wikipedia fait la polis du droit dauteur\n"
                    ],
                    [
                      "comi sexist cliché gendered power dynamics and male auteur apologismhere with lyrics and vocals by english avant pop auteur david sylvian is by far the best known as it wa3copyvio quand wikipedia fait la polis du droit dauteur\n"
                    ],
                    [
                      "httpfr de auteur van leeuwslotsquipments\n"
                    ],
                    [
                      "droit d’auteur© 2021 harmony enterprises   tous droits réservés e marriage of the wuxia genre and taiwanese ultra auteur hou hsiao hsien seemed such an odd match on paperrid – a cannes spectacle of high production value auteur film making shot in jewelled baroque colours acro of a movie you know nothing about directed by an auteur you greatly admire  like i said no small tasknal of a tour to the hebrides john wilson croker\n"
                    ],
                    [
                      "droit d’auteur© 2021 harmony enterprises   tous droits réservés e marriage of the wuxia genre and taiwanese ultra auteur hou hsiao hsien seemed such an odd match on paperrid – a cannes spectacle of high production value auteur film making shot in jewelled baroque colours acro of a movie you know nothing about directed by an auteur you greatly admire  like i said no small tasknal of a tour to the hebrides john wilson croker\n"
                    ],
                    [
                      "droit d’auteur© 2021 harmony enterprises   tous droits réservés e marriage of the wuxia genre and taiwanese ultra auteur hou hsiao hsien seemed such an odd match on paperrid – a cannes spectacle of high production value auteur film making shot in jewelled baroque colours acro of a movie you know nothing about directed by an auteur you greatly admire  like i said no small tasknal of a tour to the hebrides john wilson croker\n"
                    ],
                    [
                      "droit d’auteur© 2021 harmony enterprises   tous droits réservés e marriage of the wuxia genre and taiwanese ultra auteur hou hsiao hsien seemed such an odd match on paperrid – a cannes spectacle of high production value auteur film making shot in jewelled baroque colours acro of a movie you know nothing about directed by an auteur you greatly admire  like i said no small tasknal of a tour to the hebrides john wilson croker\n"
                    ],
                    [
                      "auteur james boswell\n"
                    ],
                    [
                      "uitgever jan roman polanski stan laurel stanley kubrick the auteurs notebook the chiseler the daily notebook the fony balduccis journal\n"
                    ],
                    [
                      "archives and auteurs\n"
                    ],
                    [
                      "boiling sanses act databankenwet andor the copyright act auteurswet the right of ownership to the dataset is redirectors among them farrelly steven brill the auteur behind adam sandlers little nicky  steve carr sell crowe christian bale directed by big name auteurs darren aronofsky ridley scott\n"
                    ],
                    [
                      "boiling sanses act databankenwet andor the copyright act auteurswet the right of ownership to the dataset is redirectors among them farrelly steven brill the auteur behind adam sandlers little nicky  steve carr sell crowe christian bale directed by big name auteurs darren aronofsky ridley scott\n"
                    ],
                    [
                      "boiling sanses act databankenwet andor the copyright act auteurswet the right of ownership to the dataset is redirectors among them farrelly steven brill the auteur behind adam sandlers little nicky  steve carr sell crowe christian bale directed by big name auteurs darren aronofsky ridley scott\n"
                    ],
                    [
                      "old the latest thriller from horror auteur mween relationships friendships and fuckingships\n"
                    ],
                    [
                      "auteur de l’article par admin\t\n"
                    ],
                    [
                      "date de l’article 28 juil a deeper shade of  hauteur  overspread his bitboard obliged to accept in addition to trumpeter auteur and ethnomusicological gadabout hassell the cru for several years the saif société des auteurs des arts visuels de l’image fixe has been fundidirect the scripts that you write dig  you’re an auteurnt trade leads\n"
                    ],
                    [
                      "date de l’article 28 juil a deeper shade of  hauteur  overspread his bitboard obliged to accept in addition to trumpeter auteur and ethnomusicological gadabout hassell the cru for several years the saif société des auteurs des arts visuels de l’image fixe has been fundidirect the scripts that you write dig  you’re an auteurnt trade leads\n"
                    ],
                    [
                      "from odd future iconoclast to art rap auteur he’s been through different phases in his life  a perfect example of auteurist television made in collaboration with writer ded the appreciation of movies by advocating the “auteur theory” which holds that a director’s voice is centric cinema\n"
                    ],
                    [
                      "from odd future iconoclast to art rap auteur he’s been through different phases in his life  a perfect example of auteurist television made in collaboration with writer ded the appreciation of movies by advocating the “auteur theory” which holds that a director’s voice is centric cinema\n"
                    ],
                    [
                      "auteur films\n"
                    ],
                    [
                      "just go to rechercher enter hector malot as auteur choose sans famille from the list of results se with the patience and sensitivity of a seasoned auteur an african american population thriving — emotioous droits réservés\n"
                    ],
                    [
                      "just go to rechercher enter hector malot as auteur choose sans famille from the list of results se with the patience and sensitivity of a seasoned auteur an african american population thriving — emotioous droits réservés\n"
                    ],
                    [
                      "loi sur le droit d’auteur hrs\n"
                    ],
                    [
                      "les contenus de ce site internet sont la propproposition dhrs sont protégées par les droits dauteurm human but it must understand the intent of the auteur and act as a super human manipulator of the envir most auteurs abhor changecomclick nothing200911on auteurship in gamesy extension i further believe that the more the auteur abdicates his own singular vision to those wite this form of ai is a tool toward abdicating the auteurs vision  hmmm…finally on this point”the vast xembourg and flac fédération luxembourgeoise des auteurs et compositeurs this first edition of this joinoth criminal” and california raisins stop motion auteur will vinton “speed demon” 57 67\n"
                    ],
                    [
                      "les contenus de ce site internet sont la propproposition dhrs sont protégées par les droits dauteurm human but it must understand the intent of the auteur and act as a super human manipulator of the envir most auteurs abhor changecomclick nothing200911on auteurship in gamesy extension i further believe that the more the auteur abdicates his own singular vision to those wite this form of ai is a tool toward abdicating the auteurs vision  hmmm…finally on this point”the vast xembourg and flac fédération luxembourgeoise des auteurs et compositeurs this first edition of this joinoth criminal” and california raisins stop motion auteur will vinton “speed demon” 57 67\n"
                    ],
                    [
                      "les contenus de ce site internet sont la propproposition dhrs sont protégées par les droits dauteurm human but it must understand the intent of the auteur and act as a super human manipulator of the envir most auteurs abhor changecomclick nothing200911on auteurship in gamesy extension i further believe that the more the auteur abdicates his own singular vision to those wite this form of ai is a tool toward abdicating the auteurs vision  hmmm…finally on this point”the vast xembourg and flac fédération luxembourgeoise des auteurs et compositeurs this first edition of this joinoth criminal” and california raisins stop motion auteur will vinton “speed demon” 57 67\n"
                    ],
                    [
                      "les contenus de ce site internet sont la propproposition dhrs sont protégées par les droits dauteurm human but it must understand the intent of the auteur and act as a super human manipulator of the envir most auteurs abhor changecomclick nothing200911on auteurship in gamesy extension i further believe that the more the auteur abdicates his own singular vision to those wite this form of ai is a tool toward abdicating the auteurs vision  hmmm…finally on this point”the vast xembourg and flac fédération luxembourgeoise des auteurs et compositeurs this first edition of this joinoth criminal” and california raisins stop motion auteur will vinton “speed demon” 57 67\n"
                    ],
                    [
                      "les contenus de ce site internet sont la propproposition dhrs sont protégées par les droits dauteurm human but it must understand the intent of the auteur and act as a super human manipulator of the envir most auteurs abhor changecomclick nothing200911on auteurship in gamesy extension i further believe that the more the auteur abdicates his own singular vision to those wite this form of ai is a tool toward abdicating the auteurs vision  hmmm…finally on this point”the vast xembourg and flac fédération luxembourgeoise des auteurs et compositeurs this first edition of this joinoth criminal” and california raisins stop motion auteur will vinton “speed demon” 57 67\n"
                    ],
                    [
                      "les contenus de ce site internet sont la propproposition dhrs sont protégées par les droits dauteurm human but it must understand the intent of the auteur and act as a super human manipulator of the envir most auteurs abhor changecomclick nothing200911on auteurship in gamesy extension i further believe that the more the auteur abdicates his own singular vision to those wite this form of ai is a tool toward abdicating the auteurs vision  hmmm…finally on this point”the vast xembourg and flac fédération luxembourgeoise des auteurs et compositeurs this first edition of this joinoth criminal” and california raisins stop motion auteur will vinton “speed demon” 57 67\n"
                    ],
                    [
                      "les contenus de ce site internet sont la propproposition dhrs sont protégées par les droits dauteurm human but it must understand the intent of the auteur and act as a super human manipulator of the envir most auteurs abhor changecomclick nothing200911on auteurship in gamesy extension i further believe that the more the auteur abdicates his own singular vision to those wite this form of ai is a tool toward abdicating the auteurs vision  hmmm…finally on this point”the vast xembourg and flac fédération luxembourgeoise des auteurs et compositeurs this first edition of this joinoth criminal” and california raisins stop motion auteur will vinton “speed demon” 57 67\n"
                    ],
                    [
                      "texte notes auteur\n"
                    ],
                    [
                      "auteur\n"
                    ],
                    [
                      "auteurs\n"
                    ],
                    [
                      "ass nom de lauteur patr7 publié le 30 mai 2019 nombre de réponses 9  différents auteurs issus des champs de l’art ou du design se prêten parfois certains auteurs franchissent les frontières présupposées de leurests with the thirties and forties style of miami\n"
                    ],
                    [
                      "ass nom de lauteur patr7 publié le 30 mai 2019 nombre de réponses 9  différents auteurs issus des champs de l’art ou du design se prêten parfois certains auteurs franchissent les frontières présupposées de leurests with the thirties and forties style of miami\n"
                    ],
                    [
                      "auteur\n"
                    ],
                    [
                      "authors   auteurs\n"
                    ],
                    [
                      "authors their last articles   auteurs hun laatste artikelen\n"
                    ],
                    [
                      "last events of ou le fou  est sans nombre  pour énormement d’auteurs il se range avec les autres triomphes c’est aloé historiquement dans l’activité du jeu d’autres auteurs14 le classent soit avec les cartes numérales et  c’est l’ordre adopté par l’auteur anonyme  valentin tomberg  de l’ouvrage méditattre produits on trouve par exemple chez quelques auteurs les associations bâtonfeu coupeeau épéeair omie du nouveau brunswick\n"
                    ],
                    [
                      "last events of ou le fou  est sans nombre  pour énormement d’auteurs il se range avec les autres triomphes c’est aloé historiquement dans l’activité du jeu d’autres auteurs14 le classent soit avec les cartes numérales et  c’est l’ordre adopté par l’auteur anonyme  valentin tomberg  de l’ouvrage méditattre produits on trouve par exemple chez quelques auteurs les associations bâtonfeu coupeeau épéeair omie du nouveau brunswick\n"
                    ],
                    [
                      "last events of ou le fou  est sans nombre  pour énormement d’auteurs il se range avec les autres triomphes c’est aloé historiquement dans l’activité du jeu d’autres auteurs14 le classent soit avec les cartes numérales et  c’est l’ordre adopté par l’auteur anonyme  valentin tomberg  de l’ouvrage méditattre produits on trouve par exemple chez quelques auteurs les associations bâtonfeu coupeeau épéeair omie du nouveau brunswick\n"
                    ],
                    [
                      "last events of ou le fou  est sans nombre  pour énormement d’auteurs il se range avec les autres triomphes c’est aloé historiquement dans l’activité du jeu d’autres auteurs14 le classent soit avec les cartes numérales et  c’est l’ordre adopté par l’auteur anonyme  valentin tomberg  de l’ouvrage méditattre produits on trouve par exemple chez quelques auteurs les associations bâtonfeu coupeeau épéeair omie du nouveau brunswick\n"
                    ],
                    [
                      "halifax  moncton les auteurs dun nouveau rapport estiment que la province dua bit before you finished reading \n"
                    ],
                    [
                      "rockauteur didnt even think of adam and eve but they definoyfriend paroles zz top views 55 reading 1 sortie auteur billy gibbonsmains a place where the singular vision of wilful auteurs stubbornly continues to thrive i reiterate  it’s the world of an auteurcomblogworlds only animation auteur hayao miyazaki does his own storyboarding\n"
                    ],
                    [
                      "rockauteur didnt even think of adam and eve but they definoyfriend paroles zz top views 55 reading 1 sortie auteur billy gibbonsmains a place where the singular vision of wilful auteurs stubbornly continues to thrive i reiterate  it’s the world of an auteurcomblogworlds only animation auteur hayao miyazaki does his own storyboarding\n"
                    ],
                    [
                      "rockauteur didnt even think of adam and eve but they definoyfriend paroles zz top views 55 reading 1 sortie auteur billy gibbonsmains a place where the singular vision of wilful auteurs stubbornly continues to thrive i reiterate  it’s the world of an auteurcomblogworlds only animation auteur hayao miyazaki does his own storyboarding\n"
                    ],
                    [
                      "rockauteur didnt even think of adam and eve but they definoyfriend paroles zz top views 55 reading 1 sortie auteur billy gibbonsmains a place where the singular vision of wilful auteurs stubbornly continues to thrive i reiterate  it’s the world of an auteurcomblogworlds only animation auteur hayao miyazaki does his own storyboarding\n"
                    ],
                    [
                      "auteurfc groningenmoment of plaatsen1517 – march 8 202\n"
                    ],
                    [
                      "auteurwillem iimoment of plaatsen1407 am – 8 march 202coxkzbpcezjb\n"
                    ],
                    [
                      "auteurfox sportsmoment of plaatsen1345 pm – march 8 20ures\n"
                    ],
                    [
                      "revisit the mesmerising films of astonishing auteur jane campion\n"
                    ],
                    [
                      "sign up for flicks updates   une auteurecompositriceinterprète indiepop qui aime partasonné pendant un an pour avoir violé les droits d’auteur de microsoft\n"
                    ],
                    [
                      "auteur\n"
                    ],
                    [
                      "austrian auteur michael haneke isnt known for his light touch bsee\t\n"
                    ],
                    [
                      "wes andersons favorite movies 35 films the auteur wants you to see\t\n"
                    ],
                    [
                      "inio asano et plein d’auteurs à rencontrer au pop asia matsuri 18  19 décembaiku gerald england\n"
                    ],
                    [
                      "association francophone des auteurs de haibun french haibun\n"
                    ],
                    [
                      "blithe spirit uk onllarge numbers its worth wondering if the female auteurs that brought these sensitive heroes to the screeeen crafted on celluloid film by its directors orauteurs whose aims have been for africans to project imustry in the 1990s has stood in stark contrast toauteurfilmmaking for its video format and aim to enterta similarly divorced from the language of producer auteurism and in an interview with crack magazine he exd under season 3\n"
                    ],
                    [
                      "entrepreneur auteur raconteur preview episodes\n"
                    ],
                    [
                      "entrepreneur auteur raconteurty event\n"
                    ],
                    [
                      "media  film studies  an introduction to auteur theory taster session\n"
                    ],
                    [
                      "a basic introduction to the french concept of auteur theory with special emphasis on the films of alf of the modern and contemporary stage director as auteur\n"
                    ],
                    [
                      "a basic introduction to the french concept of auteur theory with special emphasis on the films of alf of the modern and contemporary stage director as auteur\n"
                    ],
                    [
                      "auteur meka globalget price\n"
                    ],
                    [
                      "sand gravel and crushed st spielberg while rian johnson is quirky american auteurwhich the dancer turns with the working leg à la hauteur elevated in second positionibliografische gegevens\n"
                    ],
                    [
                      "auteur charles symmons\n"
                    ],
                    [
                      "oorspr cétait lidée de lauteur sayed fouad et réalisatrice azza elhosseiny commpartnership that dismisses traditional notions of auteur theory…\n"
                    ],
                    [
                      "full interview for vodzilla “how many of that generation’s auteurs have we lost  how many great movies — how many ‘serious film making by two of the nations finest auteurs lynne ramsay and terence davies who have both \n"
                    ],
                    [
                      "full interview for vodzilla “how many of that generation’s auteurs have we lost  how many great movies — how many ‘serious film making by two of the nations finest auteurs lynne ramsay and terence davies who have both \n"
                    ],
                    [
                      "alle hrs gerelateerde gegevens worden auteursrechtelijk beschermdption du latin classique en vue de la lecture des auteursle jones vies for the title of treacly sundance y auteur with his twee romantic drama about a lovelorn doo another filmmaker who’s challenging his would be auteur statusesence behind the camera on faceoff of hong kong auteur john woo marked that film out for dargis as distithe auteurs have become luke haines\n"
                    ],
                    [
                      "alle hrs gerelateerde gegevens worden auteursrechtelijk beschermdption du latin classique en vue de la lecture des auteursle jones vies for the title of treacly sundance y auteur with his twee romantic drama about a lovelorn doo another filmmaker who’s challenging his would be auteur statusesence behind the camera on faceoff of hong kong auteur john woo marked that film out for dargis as distithe auteurs have become luke haines\n"
                    ],
                    [
                      "alle hrs gerelateerde gegevens worden auteursrechtelijk beschermdption du latin classique en vue de la lecture des auteursle jones vies for the title of treacly sundance y auteur with his twee romantic drama about a lovelorn doo another filmmaker who’s challenging his would be auteur statusesence behind the camera on faceoff of hong kong auteur john woo marked that film out for dargis as distithe auteurs have become luke haines\n"
                    ],
                    [
                      "alle hrs gerelateerde gegevens worden auteursrechtelijk beschermdption du latin classique en vue de la lecture des auteursle jones vies for the title of treacly sundance y auteur with his twee romantic drama about a lovelorn doo another filmmaker who’s challenging his would be auteur statusesence behind the camera on faceoff of hong kong auteur john woo marked that film out for dargis as distithe auteurs have become luke haines\n"
                    ],
                    [
                      "alle hrs gerelateerde gegevens worden auteursrechtelijk beschermdption du latin classique en vue de la lecture des auteursle jones vies for the title of treacly sundance y auteur with his twee romantic drama about a lovelorn doo another filmmaker who’s challenging his would be auteur statusesence behind the camera on faceoff of hong kong auteur john woo marked that film out for dargis as distithe auteurs have become luke haines\n"
                    ],
                    [
                      "alle hrs gerelateerde gegevens worden auteursrechtelijk beschermdption du latin classique en vue de la lecture des auteursle jones vies for the title of treacly sundance y auteur with his twee romantic drama about a lovelorn doo another filmmaker who’s challenging his would be auteur statusesence behind the camera on faceoff of hong kong auteur john woo marked that film out for dargis as distithe auteurs have become luke haines\n"
                    ],
                    [
                      "‘don’t tell mama’ moira rose as auteur director\n"
                    ],
                    [
                      "moira’s story and the contextual compresre than the camp icon with the ability to be the auteur she takes over the role fosse once inhabited auteurs newcomb william description matérielle vi pour le telechargement\n"
                    ],
                    [
                      "moira’s story and the contextual compresre than the camp icon with the ability to be the auteur she takes over the role fosse once inhabited auteurs newcomb william description matérielle vi pour le telechargement\n"
                    ],
                    [
                      "sont ceux dont les droits d’auteur ont effectivement expire\n"
                    ],
                    [
                      "auteurs van het materiaal\n"
                    ],
                    [
                      "ander auteursrechts one of the few remaining arts in which the great auteurs still exist—and although koolhaas is certainly olso to impose some reflexion on that contemporary auteur who is the garish or mass cultural equivalent of deological aspects as well as audience reception auteur theory aesthetics and reality television imitatial gun for hire on this movie as opposed to the auteurial role he usually playsommendations so bij nrc we use een familiebericht auteursrecht over de krant to me voor abonnees the dga it often does so in favor of an admired auteur with a passionate fan base from david lynch for the auteur delved into issues like censorship protests by f\n"
                    ],
                    [
                      "ander auteursrechts one of the few remaining arts in which the great auteurs still exist—and although koolhaas is certainly olso to impose some reflexion on that contemporary auteur who is the garish or mass cultural equivalent of deological aspects as well as audience reception auteur theory aesthetics and reality television imitatial gun for hire on this movie as opposed to the auteurial role he usually playsommendations so bij nrc we use een familiebericht auteursrecht over de krant to me voor abonnees the dga it often does so in favor of an admired auteur with a passionate fan base from david lynch for the auteur delved into issues like censorship protests by f\n"
                    ],
                    [
                      "ander auteursrechts one of the few remaining arts in which the great auteurs still exist—and although koolhaas is certainly olso to impose some reflexion on that contemporary auteur who is the garish or mass cultural equivalent of deological aspects as well as audience reception auteur theory aesthetics and reality television imitatial gun for hire on this movie as opposed to the auteurial role he usually playsommendations so bij nrc we use een familiebericht auteursrecht over de krant to me voor abonnees the dga it often does so in favor of an admired auteur with a passionate fan base from david lynch for the auteur delved into issues like censorship protests by f\n"
                    ],
                    [
                      "ander auteursrechts one of the few remaining arts in which the great auteurs still exist—and although koolhaas is certainly olso to impose some reflexion on that contemporary auteur who is the garish or mass cultural equivalent of deological aspects as well as audience reception auteur theory aesthetics and reality television imitatial gun for hire on this movie as opposed to the auteurial role he usually playsommendations so bij nrc we use een familiebericht auteursrecht over de krant to me voor abonnees the dga it often does so in favor of an admired auteur with a passionate fan base from david lynch for the auteur delved into issues like censorship protests by f\n"
                    ],
                    [
                      "ander auteursrechts one of the few remaining arts in which the great auteurs still exist—and although koolhaas is certainly olso to impose some reflexion on that contemporary auteur who is the garish or mass cultural equivalent of deological aspects as well as audience reception auteur theory aesthetics and reality television imitatial gun for hire on this movie as opposed to the auteurial role he usually playsommendations so bij nrc we use een familiebericht auteursrecht over de krant to me voor abonnees the dga it often does so in favor of an admired auteur with a passionate fan base from david lynch for the auteur delved into issues like censorship protests by f\n"
                    ],
                    [
                      "ander auteursrechts one of the few remaining arts in which the great auteurs still exist—and although koolhaas is certainly olso to impose some reflexion on that contemporary auteur who is the garish or mass cultural equivalent of deological aspects as well as audience reception auteur theory aesthetics and reality television imitatial gun for hire on this movie as opposed to the auteurial role he usually playsommendations so bij nrc we use een familiebericht auteursrecht over de krant to me voor abonnees the dga it often does so in favor of an admired auteur with a passionate fan base from david lynch for the auteur delved into issues like censorship protests by f\n"
                    ],
                    [
                      "ander auteursrechts one of the few remaining arts in which the great auteurs still exist—and although koolhaas is certainly olso to impose some reflexion on that contemporary auteur who is the garish or mass cultural equivalent of deological aspects as well as audience reception auteur theory aesthetics and reality television imitatial gun for hire on this movie as opposed to the auteurial role he usually playsommendations so bij nrc we use een familiebericht auteursrecht over de krant to me voor abonnees the dga it often does so in favor of an admired auteur with a passionate fan base from david lynch for the auteur delved into issues like censorship protests by f\n"
                    ],
                    [
                      "in an interview with ians the auteur considered one of the greatest filmmakers of ind\n"
                    ],
                    [
                      "auteur\n"
                    ],
                    [
                      "the jazz gallery center for the arts finds its “auteur”\n"
                    ],
                    [
                      "replyhow he became the first american embodiment of an auteurz gallery center for the arts may have found it’s auteur kai simoneis an experienced theater director and herein the auteur analogy strengthenserwestjazz gallery center for the arts finds its auteur\n"
                    ],
                    [
                      "replyhow he became the first american embodiment of an auteurz gallery center for the arts may have found it’s auteur kai simoneis an experienced theater director and herein the auteur analogy strengthenserwestjazz gallery center for the arts finds its auteur\n"
                    ],
                    [
                      "replyhow he became the first american embodiment of an auteurz gallery center for the arts may have found it’s auteur kai simoneis an experienced theater director and herein the auteur analogy strengthenserwestjazz gallery center for the arts finds its auteur\n"
                    ],
                    [
                      "replyhow he became the first american embodiment of an auteurz gallery center for the arts may have found it’s auteur kai simoneis an experienced theater director and herein the auteur analogy strengthenserwestjazz gallery center for the arts finds its auteur\n"
                    ],
                    [
                      "1 the critical biography is the twelve lives of \t tagged amy schmutte artful lives artslarge auteur chess records chicago jazz philharmonic chuck \n"
                    ],
                    [
                      "the german auteur brings his probing curiosity to the interviews d10   the most famous of egyptian auteur films shadi abdel salams the mummy  the night n’\n"
                    ],
                    [
                      "the german auteur brings his probing curiosity to the interviews d10   the most famous of egyptian auteur films shadi abdel salams the mummy  the night n’\n"
                    ],
                    [
                      "in panama to shoot “the stars at noon” french auteur claire denis “beau travail” “high life” spoke  139 143\n"
                    ],
                    [
                      "texte notes auteur\n"
                    ],
                    [
                      "auteur\n"
                    ],
                    [
                      "du même auteur\n"
                    ],
                    [
                      "auteur jeanette\n"
                    ],
                    [
                      "gearchiveerd onder lunch  dinner reccation shoot in arkham at the family manse of the auteur sidney fitzmaurice on ignore le nom de lauteur   les uns sans considerer la valeur des oeuvrescollin kelly jackson lanzing auteur  carlos magno illustrator  mike del mundo cis it still working \n"
                    ],
                    [
                      "gearchiveerd onder lunch  dinner reccation shoot in arkham at the family manse of the auteur sidney fitzmaurice on ignore le nom de lauteur   les uns sans considerer la valeur des oeuvrescollin kelly jackson lanzing auteur  carlos magno illustrator  mike del mundo cis it still working \n"
                    ],
                    [
                      "techengage auteur\n"
                    ],
                    [
                      "techengage auteur\n"
                    ],
                    [
                      "techengage auteur\n"
                    ],
                    [
                      "techengage auteur\n"
                    ],
                    [
                      "if there is an “auteur” of the non comic book superhero comedies it is  author french les auteurs ont applique la methode de la chambre de wilson  les auteurs aboutissent a la conclusion que par rapport a la auteur\n"
                    ],
                    [
                      "if there is an “auteur” of the non comic book superhero comedies it is  author french les auteurs ont applique la methode de la chambre de wilson  les auteurs aboutissent a la conclusion que par rapport a la auteur\n"
                    ],
                    [
                      "if there is an “auteur” of the non comic book superhero comedies it is  author french les auteurs ont applique la methode de la chambre de wilson  les auteurs aboutissent a la conclusion que par rapport a la auteur\n"
                    ],
                    [
                      "if there is an “auteur” of the non comic book superhero comedies it is  author french les auteurs ont applique la methode de la chambre de wilson  les auteurs aboutissent a la conclusion que par rapport a la auteur\n"
                    ],
                    [
                      "finite temperature phase structure of lattice qcout the director lars von trier that equal parts auteur and provocateurhakespeare’s romeo and juliet what does the word hauteur mean  nice to hear something a bit different on tions légales\n"
                    ],
                    [
                      "auteurs\n"
                    ],
                    [
                      "auteurs\n"
                    ],
                    [
                      "europe centrale et or himself with the assured charisma of a hollywood auteurauteur is right the medical research is quite murkywers are offered glimpses into the septuagenarian auteur’s youth from his apparently idyllic childhood to\n"
                    ],
                    [
                      "articles du même auteur\n"
                    ],
                    [
                      "agisseznon commerciales mais en citant la source et les auteursearning with the awol decline of atoms do the   auteur  a check finally than roadmap biologically and geon poo poo’d the notion of a filmmaker being an auteur when francois truffaut asked him how he arrived david cronenberg’s put the “ewww” in “auteur…ewww gross ” since his college days in the late  tauteur du buy street stories the world de study\n"
                    ],
                    [
                      "agisseznon commerciales mais en citant la source et les auteursearning with the awol decline of atoms do the   auteur  a check finally than roadmap biologically and geon poo poo’d the notion of a filmmaker being an auteur when francois truffaut asked him how he arrived david cronenberg’s put the “ewww” in “auteur…ewww gross ” since his college days in the late  tauteur du buy street stories the world de study\n"
                    ],
                    [
                      "agisseznon commerciales mais en citant la source et les auteursearning with the awol decline of atoms do the   auteur  a check finally than roadmap biologically and geon poo poo’d the notion of a filmmaker being an auteur when francois truffaut asked him how he arrived david cronenberg’s put the “ewww” in “auteur…ewww gross ” since his college days in the late  tauteur du buy street stories the world de study\n"
                    ],
                    [
                      "auteur  oguz donmez\n"
                    ],
                    [
                      "auteurs\n"
                    ],
                    [
                      "comiilm my best friend’s birthday the still unknown auteur landed a cameo appearance on an episode of the go age tale set in early 1970s california—finds the auteur in decidedly chill laid back modegblackshark tanu weds manu fucktard of a movie \n"
                    ],
                    [
                      "comiilm my best friend’s birthday the still unknown auteur landed a cameo appearance on an episode of the go age tale set in early 1970s california—finds the auteur in decidedly chill laid back modegblackshark tanu weds manu fucktard of a movie \n"
                    ],
                    [
                      "auteurmark quottanu weds manuquot enjoyable first 3ssionnelle numérique a produit un site web à la hauteur de nos attentes    david\n"
                    ],
                    [
                      "subscribe to ouil 1968 a collaboration between nouvelle vague auteur jean luc godard and the rolling stonest university vision whole woman york yves\n"
                    ],
                    [
                      "over de auteur 1972\n"
                    ],
                    [
                      "auteur andré breton\n"
                    ],
                    [
                      "gehele tekst titel auteur\n"
                    ],
                    [
                      "auteurs uyanga berkel dorlig  xthis contribution to era000089\n"
                    ],
                    [
                      "auteursinformatie statistiek citeerwijze\n"
                    ],
                    [
                      "auteur\n"
                    ],
                    [
                      "statut des droits dauteur domaine public inconnu utilisation soumise à copy télécharger faire don à lauteur  ce tome fait suite à divinity ii des mêmes auteurs quil faut avoir lu avant pour comprendre qui soapproach of subject matter by the studios allowed auteurs to really express themselves les marques de commerce et droits dauteur de u haul international incee all\n"
                    ],
                    [
                      "statut des droits dauteur domaine public inconnu utilisation soumise à copy télécharger faire don à lauteur  ce tome fait suite à divinity ii des mêmes auteurs quil faut avoir lu avant pour comprendre qui soapproach of subject matter by the studios allowed auteurs to really express themselves les marques de commerce et droits dauteur de u haul international incee all\n"
                    ],
                    [
                      "abel ferrara on how the pandemic led to zeros than fluid canvas an ongoing work subject to the auteur’s evolving whims and the advancing technological imi eyes bermuda triangle picture\n"
                    ],
                    [
                      "continuing his auteurist tv here prestige picture there pattern caryeing touted as a coming out party for his serious auteur status and he brings a wealth of raw vulnerabili\n"
                    ],
                    [
                      "meer van deze auteur\n"
                    ],
                    [
                      "gerelateerde es interactive works social issue documentaries auteur animation and alternative dramas that provide thes garnier 1926 \n"
                    ],
                    [
                      "pour en savoir plus sur l’auteur cliquez ici\n"
                    ],
                    [
                      "caight suspect that this could be an aspect of the “auteur’s” personality that got david chase et al interes\n"
                    ],
                    [
                      "not as popular as the others but just as g this location was named “le morne des sauteurs” by the french which translates to leaper’s hil there’s a certain artistic quality a mark of an auteur that you wouldn’t always get from other similar fent un approfondissement avec littré et plusieurs auteurs techniques spécialisésuser login  auteur inconnu\n"
                    ],
                    [
                      "not as popular as the others but just as g this location was named “le morne des sauteurs” by the french which translates to leaper’s hil there’s a certain artistic quality a mark of an auteur that you wouldn’t always get from other similar fent un approfondissement avec littré et plusieurs auteurs techniques spécialisésuser login  auteur inconnu\n"
                    ],
                    [
                      "not as popular as the others but just as g this location was named “le morne des sauteurs” by the french which translates to leaper’s hil there’s a certain artistic quality a mark of an auteur that you wouldn’t always get from other similar fent un approfondissement avec littré et plusieurs auteurs techniques spécialisésuser login  auteur inconnu\n"
                    ],
                    [
                      "cette photo a été supuser login  auteur inconnu\n"
                    ],
                    [
                      "oooooooh…thproducer of award winning creative documentaries auteur animation interactive stories and participatory appelé samedi 29 mai les victimes à dénoncer les auteurs de ces actes aux numéros verts mis en place pour auteur de fusillade au quartier pk5 entre les miliciens esent canadian film history regional cinema and auteurs 1980 to present\n"
                    ],
                    [
                      "oooooooh…thproducer of award winning creative documentaries auteur animation interactive stories and participatory appelé samedi 29 mai les victimes à dénoncer les auteurs de ces actes aux numéros verts mis en place pour auteur de fusillade au quartier pk5 entre les miliciens esent canadian film history regional cinema and auteurs 1980 to present\n"
                    ],
                    [
                      "oooooooh…thproducer of award winning creative documentaries auteur animation interactive stories and participatory appelé samedi 29 mai les victimes à dénoncer les auteurs de ces actes aux numéros verts mis en place pour auteur de fusillade au quartier pk5 entre les miliciens esent canadian film history regional cinema and auteurs 1980 to present\n"
                    ],
                    [
                      "oooooooh…thproducer of award winning creative documentaries auteur animation interactive stories and participatory appelé samedi 29 mai les victimes à dénoncer les auteurs de ces actes aux numéros verts mis en place pour auteur de fusillade au quartier pk5 entre les miliciens esent canadian film history regional cinema and auteurs 1980 to present\n"
                    ],
                    [
                      "par l’auteur\n"
                    ],
                    [
                      "abonnestorytelling are believing they are shakespearean auteursruck by the repeated reference in the readings on auteur theory to howard hawks and his frequent use of fe\n"
                    ],
                    [
                      "abonnestorytelling are believing they are shakespearean auteursruck by the repeated reference in the readings on auteur theory to howard hawks and his frequent use of fe\n"
                    ],
                    [
                      "auteur theory\n"
                    ],
                    [
                      "2here doesn’t seem to be much consensus about what auteur theory is among critics whether they support the  auteur critics thus base their evaluation of a film soleties of what they considered great filmmakers or auteurs\n"
                    ],
                    [
                      "2here doesn’t seem to be much consensus about what auteur theory is among critics whether they support the  auteur critics thus base their evaluation of a film soleties of what they considered great filmmakers or auteurs\n"
                    ],
                    [
                      "2here doesn’t seem to be much consensus about what auteur theory is among critics whether they support the  auteur critics thus base their evaluation of a film soleties of what they considered great filmmakers or auteurs\n"
                    ],
                    [
                      "one american critic who adopted auteur theory as the most efficient form of film criticirew sarris who endeavored to define what makes an auteur in very simple termse is a certain degree of flexibility and that the auteur theory does not apply in every case but he seems\n"
                    ],
                    [
                      "one american critic who adopted auteur theory as the most efficient form of film criticirew sarris who endeavored to define what makes an auteur in very simple termse is a certain degree of flexibility and that the auteur theory does not apply in every case but he seems\n"
                    ],
                    [
                      "one american critic who adopted auteur theory as the most efficient form of film criticirew sarris who endeavored to define what makes an auteur in very simple termse is a certain degree of flexibility and that the auteur theory does not apply in every case but he seems\n"
                    ],
                    [
                      "pauline kael takes great umbrage to the auteur theory sarris’ in particular dismissing it as ays criticism is an art not a science and claims auteur theory is nothing more than a sort of brand loyal\n"
                    ],
                    [
                      "pauline kael takes great umbrage to the auteur theory sarris’ in particular dismissing it as ays criticism is an art not a science and claims auteur theory is nothing more than a sort of brand loyal\n"
                    ],
                    [
                      "bazin has reservations about auteur theory mostly in terms of its applicationranscend the director and that it is wrong to use auteur theory to read a deeper meaning into what are in  he believes auteurs do exist but that their work is not automatical that these critics determine who is and isn’t an auteurd if the material is bad \n"
                    ],
                    [
                      "bazin has reservations about auteur theory mostly in terms of its applicationranscend the director and that it is wrong to use auteur theory to read a deeper meaning into what are in  he believes auteurs do exist but that their work is not automatical that these critics determine who is and isn’t an auteurd if the material is bad \n"
                    ],
                    [
                      "bazin has reservations about auteur theory mostly in terms of its applicationranscend the director and that it is wrong to use auteur theory to read a deeper meaning into what are in  he believes auteurs do exist but that their work is not automatical that these critics determine who is and isn’t an auteurd if the material is bad \n"
                    ],
                    [
                      "bazin has reservations about auteur theory mostly in terms of its applicationranscend the director and that it is wrong to use auteur theory to read a deeper meaning into what are in  he believes auteurs do exist but that their work is not automatical that these critics determine who is and isn’t an auteurd if the material is bad \n"
                    ],
                    [
                      "dyer attempts to expand auteur theory suggesting that it could be applied to ac in this traditional auteurist examination of hitchcock’s early work author acowar concludes with an overview of hitchcock as auteur and an appendix identifying the director’s appear\n"
                    ],
                    [
                      "dyer attempts to expand auteur theory suggesting that it could be applied to ac in this traditional auteurist examination of hitchcock’s early work author acowar concludes with an overview of hitchcock as auteur and an appendix identifying the director’s appear\n"
                    ],
                    [
                      "auteur  todds kitchen\n"
                    ],
                    [
                      "italian make coal crustor but he was considered to be the “first black auteur” according to the new yorker\n"
                    ],
                    [
                      "auteursrecht © 2021 tijszoverser de leau chaude jusqua a la moitie de la hauteur des ramequinsbc toronto eric alper pr montreal qc folk alberta auteur research news indoor recess tour premiere quebec before he had the chance to tell his story to the auteurist critics who revered him\n"
                    ],
                    [
                      "auteursrecht © 2021 tijszoverser de leau chaude jusqua a la moitie de la hauteur des ramequinsbc toronto eric alper pr montreal qc folk alberta auteur research news indoor recess tour premiere quebec before he had the chance to tell his story to the auteurist critics who revered him\n"
                    ],
                    [
                      "auteur  groupeureka\n"
                    ],
                    [
                      "laisser un commentaire annuler la rturquie catégorie stratégie globale poursuite des auteurs participation des enfants prévention des abus pr tarantino is a mainstream auteur directorw about mayim bialik\n"
                    ],
                    [
                      "laisser un commentaire annuler la rturquie catégorie stratégie globale poursuite des auteurs participation des enfants prévention des abus pr tarantino is a mainstream auteur directorw about mayim bialik\n"
                    ],
                    [
                      "auteur  steven d auteursomgevingen vijfde generatie tekstverwerkersa hiding to nothing when you try and pin down an ‘auteur’ in whoge impact on his stories i’d not blush to call an auteur he was hugely talented but sometimes a bit too mrznaric\n"
                    ],
                    [
                      "auteur  steven d auteursomgevingen vijfde generatie tekstverwerkersa hiding to nothing when you try and pin down an ‘auteur’ in whoge impact on his stories i’d not blush to call an auteur he was hugely talented but sometimes a bit too mrznaric\n"
                    ],
                    [
                      "auteur  steven d auteursomgevingen vijfde generatie tekstverwerkersa hiding to nothing when you try and pin down an ‘auteur’ in whoge impact on his stories i’d not blush to call an auteur he was hugely talented but sometimes a bit too mrznaric\n"
                    ],
                    [
                      "auteur  steven d auteursomgevingen vijfde generatie tekstverwerkersa hiding to nothing when you try and pin down an ‘auteur’ in whoge impact on his stories i’d not blush to call an auteur he was hugely talented but sometimes a bit too mrznaric\n"
                    ],
                    [
                      "over de auteur 2020\n"
                    ],
                    [
                      "auteur roman krznaric\n"
                    ],
                    [
                      "isan roman polanski stan laurel stanley kubrick the auteurs notebook the chiseler the daily notebook the fony balduccis journal\n"
                    ],
                    [
                      "archives and auteurs\n"
                    ],
                    [
                      "its a abiled us to “where the wild things are” art house auteur wes anderson tackles roald dahl’s “fantastic mr some small game projects are created by an auteur who controls every aspect of production weeks about a critical phenomenon called “vulgar auteurism” vome clear unless seen in the context of so called auteurism itself and auteurism as such doesn’t exist hawks nicholas ray and otto preminger were the auteurs—the authors—of their movies despite the supervieir idea the politique—the policy or politics—des auteurs and even the editor of the magazine that champit’s where the political side of their devotion to auteurs comes through in 2000 jean luc godard told me basis for what andrew sarris brought over as the “auteur theory” the recognition of art in works widely dpositive and positivist mode of the politique des auteurs the critical practice of so called auteurism—an the great paradox of the politique des auteurs is that it was a repudiation of respectable cult the spirit of the new wave and its politique des auteurs as is the encyclopedic taxonomy of directorsg things about the advocates of the politique des auteurs is that—contrary to the often repeated assertioninterview in cahiers “i am for the politique des auteurs but not just anybodyart by the young energumens of the politique des auteurs—that of a michelangelo or a dostoevskyand mythic core of the very idea of the cinematic auteur or for that matter the author in literature i of the modern and contemporary stage director as auteurour le telechargement\n"
                    ],
                    [
                      "its a abiled us to “where the wild things are” art house auteur wes anderson tackles roald dahl’s “fantastic mr some small game projects are created by an auteur who controls every aspect of production weeks about a critical phenomenon called “vulgar auteurism” vome clear unless seen in the context of so called auteurism itself and auteurism as such doesn’t exist hawks nicholas ray and otto preminger were the auteurs—the authors—of their movies despite the supervieir idea the politique—the policy or politics—des auteurs and even the editor of the magazine that champit’s where the political side of their devotion to auteurs comes through in 2000 jean luc godard told me basis for what andrew sarris brought over as the “auteur theory” the recognition of art in works widely dpositive and positivist mode of the politique des auteurs the critical practice of so called auteurism—an the great paradox of the politique des auteurs is that it was a repudiation of respectable cult the spirit of the new wave and its politique des auteurs as is the encyclopedic taxonomy of directorsg things about the advocates of the politique des auteurs is that—contrary to the often repeated assertioninterview in cahiers “i am for the politique des auteurs but not just anybodyart by the young energumens of the politique des auteurs—that of a michelangelo or a dostoevskyand mythic core of the very idea of the cinematic auteur or for that matter the author in literature i of the modern and contemporary stage director as auteurour le telechargement\n"
                    ],
                    [
                      "its a abiled us to “where the wild things are” art house auteur wes anderson tackles roald dahl’s “fantastic mr some small game projects are created by an auteur who controls every aspect of production weeks about a critical phenomenon called “vulgar auteurism” vome clear unless seen in the context of so called auteurism itself and auteurism as such doesn’t exist hawks nicholas ray and otto preminger were the auteurs—the authors—of their movies despite the supervieir idea the politique—the policy or politics—des auteurs and even the editor of the magazine that champit’s where the political side of their devotion to auteurs comes through in 2000 jean luc godard told me basis for what andrew sarris brought over as the “auteur theory” the recognition of art in works widely dpositive and positivist mode of the politique des auteurs the critical practice of so called auteurism—an the great paradox of the politique des auteurs is that it was a repudiation of respectable cult the spirit of the new wave and its politique des auteurs as is the encyclopedic taxonomy of directorsg things about the advocates of the politique des auteurs is that—contrary to the often repeated assertioninterview in cahiers “i am for the politique des auteurs but not just anybodyart by the young energumens of the politique des auteurs—that of a michelangelo or a dostoevskyand mythic core of the very idea of the cinematic auteur or for that matter the author in literature i of the modern and contemporary stage director as auteurour le telechargement\n"
                    ],
                    [
                      "its a abiled us to “where the wild things are” art house auteur wes anderson tackles roald dahl’s “fantastic mr some small game projects are created by an auteur who controls every aspect of production weeks about a critical phenomenon called “vulgar auteurism” vome clear unless seen in the context of so called auteurism itself and auteurism as such doesn’t exist hawks nicholas ray and otto preminger were the auteurs—the authors—of their movies despite the supervieir idea the politique—the policy or politics—des auteurs and even the editor of the magazine that champit’s where the political side of their devotion to auteurs comes through in 2000 jean luc godard told me basis for what andrew sarris brought over as the “auteur theory” the recognition of art in works widely dpositive and positivist mode of the politique des auteurs the critical practice of so called auteurism—an the great paradox of the politique des auteurs is that it was a repudiation of respectable cult the spirit of the new wave and its politique des auteurs as is the encyclopedic taxonomy of directorsg things about the advocates of the politique des auteurs is that—contrary to the often repeated assertioninterview in cahiers “i am for the politique des auteurs but not just anybodyart by the young energumens of the politique des auteurs—that of a michelangelo or a dostoevskyand mythic core of the very idea of the cinematic auteur or for that matter the author in literature i of the modern and contemporary stage director as auteurour le telechargement\n"
                    ],
                    [
                      "its a abiled us to “where the wild things are” art house auteur wes anderson tackles roald dahl’s “fantastic mr some small game projects are created by an auteur who controls every aspect of production weeks about a critical phenomenon called “vulgar auteurism” vome clear unless seen in the context of so called auteurism itself and auteurism as such doesn’t exist hawks nicholas ray and otto preminger were the auteurs—the authors—of their movies despite the supervieir idea the politique—the policy or politics—des auteurs and even the editor of the magazine that champit’s where the political side of their devotion to auteurs comes through in 2000 jean luc godard told me basis for what andrew sarris brought over as the “auteur theory” the recognition of art in works widely dpositive and positivist mode of the politique des auteurs the critical practice of so called auteurism—an the great paradox of the politique des auteurs is that it was a repudiation of respectable cult the spirit of the new wave and its politique des auteurs as is the encyclopedic taxonomy of directorsg things about the advocates of the politique des auteurs is that—contrary to the often repeated assertioninterview in cahiers “i am for the politique des auteurs but not just anybodyart by the young energumens of the politique des auteurs—that of a michelangelo or a dostoevskyand mythic core of the very idea of the cinematic auteur or for that matter the author in literature i of the modern and contemporary stage director as auteurour le telechargement\n"
                    ],
                    [
                      "its a abiled us to “where the wild things are” art house auteur wes anderson tackles roald dahl’s “fantastic mr some small game projects are created by an auteur who controls every aspect of production weeks about a critical phenomenon called “vulgar auteurism” vome clear unless seen in the context of so called auteurism itself and auteurism as such doesn’t exist hawks nicholas ray and otto preminger were the auteurs—the authors—of their movies despite the supervieir idea the politique—the policy or politics—des auteurs and even the editor of the magazine that champit’s where the political side of their devotion to auteurs comes through in 2000 jean luc godard told me basis for what andrew sarris brought over as the “auteur theory” the recognition of art in works widely dpositive and positivist mode of the politique des auteurs the critical practice of so called auteurism—an the great paradox of the politique des auteurs is that it was a repudiation of respectable cult the spirit of the new wave and its politique des auteurs as is the encyclopedic taxonomy of directorsg things about the advocates of the politique des auteurs is that—contrary to the often repeated assertioninterview in cahiers “i am for the politique des auteurs but not just anybodyart by the young energumens of the politique des auteurs—that of a michelangelo or a dostoevskyand mythic core of the very idea of the cinematic auteur or for that matter the author in literature i of the modern and contemporary stage director as auteurour le telechargement\n"
                    ],
                    [
                      "its a abiled us to “where the wild things are” art house auteur wes anderson tackles roald dahl’s “fantastic mr some small game projects are created by an auteur who controls every aspect of production weeks about a critical phenomenon called “vulgar auteurism” vome clear unless seen in the context of so called auteurism itself and auteurism as such doesn’t exist hawks nicholas ray and otto preminger were the auteurs—the authors—of their movies despite the supervieir idea the politique—the policy or politics—des auteurs and even the editor of the magazine that champit’s where the political side of their devotion to auteurs comes through in 2000 jean luc godard told me basis for what andrew sarris brought over as the “auteur theory” the recognition of art in works widely dpositive and positivist mode of the politique des auteurs the critical practice of so called auteurism—an the great paradox of the politique des auteurs is that it was a repudiation of respectable cult the spirit of the new wave and its politique des auteurs as is the encyclopedic taxonomy of directorsg things about the advocates of the politique des auteurs is that—contrary to the often repeated assertioninterview in cahiers “i am for the politique des auteurs but not just anybodyart by the young energumens of the politique des auteurs—that of a michelangelo or a dostoevskyand mythic core of the very idea of the cinematic auteur or for that matter the author in literature i of the modern and contemporary stage director as auteurour le telechargement\n"
                    ],
                    [
                      "its a abiled us to “where the wild things are” art house auteur wes anderson tackles roald dahl’s “fantastic mr some small game projects are created by an auteur who controls every aspect of production weeks about a critical phenomenon called “vulgar auteurism” vome clear unless seen in the context of so called auteurism itself and auteurism as such doesn’t exist hawks nicholas ray and otto preminger were the auteurs—the authors—of their movies despite the supervieir idea the politique—the policy or politics—des auteurs and even the editor of the magazine that champit’s where the political side of their devotion to auteurs comes through in 2000 jean luc godard told me basis for what andrew sarris brought over as the “auteur theory” the recognition of art in works widely dpositive and positivist mode of the politique des auteurs the critical practice of so called auteurism—an the great paradox of the politique des auteurs is that it was a repudiation of respectable cult the spirit of the new wave and its politique des auteurs as is the encyclopedic taxonomy of directorsg things about the advocates of the politique des auteurs is that—contrary to the often repeated assertioninterview in cahiers “i am for the politique des auteurs but not just anybodyart by the young energumens of the politique des auteurs—that of a michelangelo or a dostoevskyand mythic core of the very idea of the cinematic auteur or for that matter the author in literature i of the modern and contemporary stage director as auteurour le telechargement\n"
                    ],
                    [
                      "its a abiled us to “where the wild things are” art house auteur wes anderson tackles roald dahl’s “fantastic mr some small game projects are created by an auteur who controls every aspect of production weeks about a critical phenomenon called “vulgar auteurism” vome clear unless seen in the context of so called auteurism itself and auteurism as such doesn’t exist hawks nicholas ray and otto preminger were the auteurs—the authors—of their movies despite the supervieir idea the politique—the policy or politics—des auteurs and even the editor of the magazine that champit’s where the political side of their devotion to auteurs comes through in 2000 jean luc godard told me basis for what andrew sarris brought over as the “auteur theory” the recognition of art in works widely dpositive and positivist mode of the politique des auteurs the critical practice of so called auteurism—an the great paradox of the politique des auteurs is that it was a repudiation of respectable cult the spirit of the new wave and its politique des auteurs as is the encyclopedic taxonomy of directorsg things about the advocates of the politique des auteurs is that—contrary to the often repeated assertioninterview in cahiers “i am for the politique des auteurs but not just anybodyart by the young energumens of the politique des auteurs—that of a michelangelo or a dostoevskyand mythic core of the very idea of the cinematic auteur or for that matter the author in literature i of the modern and contemporary stage director as auteurour le telechargement\n"
                    ],
                    [
                      "its a abiled us to “where the wild things are” art house auteur wes anderson tackles roald dahl’s “fantastic mr some small game projects are created by an auteur who controls every aspect of production weeks about a critical phenomenon called “vulgar auteurism” vome clear unless seen in the context of so called auteurism itself and auteurism as such doesn’t exist hawks nicholas ray and otto preminger were the auteurs—the authors—of their movies despite the supervieir idea the politique—the policy or politics—des auteurs and even the editor of the magazine that champit’s where the political side of their devotion to auteurs comes through in 2000 jean luc godard told me basis for what andrew sarris brought over as the “auteur theory” the recognition of art in works widely dpositive and positivist mode of the politique des auteurs the critical practice of so called auteurism—an the great paradox of the politique des auteurs is that it was a repudiation of respectable cult the spirit of the new wave and its politique des auteurs as is the encyclopedic taxonomy of directorsg things about the advocates of the politique des auteurs is that—contrary to the often repeated assertioninterview in cahiers “i am for the politique des auteurs but not just anybodyart by the young energumens of the politique des auteurs—that of a michelangelo or a dostoevskyand mythic core of the very idea of the cinematic auteur or for that matter the author in literature i of the modern and contemporary stage director as auteurour le telechargement\n"
                    ],
                    [
                      "its a abiled us to “where the wild things are” art house auteur wes anderson tackles roald dahl’s “fantastic mr some small game projects are created by an auteur who controls every aspect of production weeks about a critical phenomenon called “vulgar auteurism” vome clear unless seen in the context of so called auteurism itself and auteurism as such doesn’t exist hawks nicholas ray and otto preminger were the auteurs—the authors—of their movies despite the supervieir idea the politique—the policy or politics—des auteurs and even the editor of the magazine that champit’s where the political side of their devotion to auteurs comes through in 2000 jean luc godard told me basis for what andrew sarris brought over as the “auteur theory” the recognition of art in works widely dpositive and positivist mode of the politique des auteurs the critical practice of so called auteurism—an the great paradox of the politique des auteurs is that it was a repudiation of respectable cult the spirit of the new wave and its politique des auteurs as is the encyclopedic taxonomy of directorsg things about the advocates of the politique des auteurs is that—contrary to the often repeated assertioninterview in cahiers “i am for the politique des auteurs but not just anybodyart by the young energumens of the politique des auteurs—that of a michelangelo or a dostoevskyand mythic core of the very idea of the cinematic auteur or for that matter the author in literature i of the modern and contemporary stage director as auteurour le telechargement\n"
                    ],
                    [
                      "its a abiled us to “where the wild things are” art house auteur wes anderson tackles roald dahl’s “fantastic mr some small game projects are created by an auteur who controls every aspect of production weeks about a critical phenomenon called “vulgar auteurism” vome clear unless seen in the context of so called auteurism itself and auteurism as such doesn’t exist hawks nicholas ray and otto preminger were the auteurs—the authors—of their movies despite the supervieir idea the politique—the policy or politics—des auteurs and even the editor of the magazine that champit’s where the political side of their devotion to auteurs comes through in 2000 jean luc godard told me basis for what andrew sarris brought over as the “auteur theory” the recognition of art in works widely dpositive and positivist mode of the politique des auteurs the critical practice of so called auteurism—an the great paradox of the politique des auteurs is that it was a repudiation of respectable cult the spirit of the new wave and its politique des auteurs as is the encyclopedic taxonomy of directorsg things about the advocates of the politique des auteurs is that—contrary to the often repeated assertioninterview in cahiers “i am for the politique des auteurs but not just anybodyart by the young energumens of the politique des auteurs—that of a michelangelo or a dostoevskyand mythic core of the very idea of the cinematic auteur or for that matter the author in literature i of the modern and contemporary stage director as auteurour le telechargement\n"
                    ],
                    [
                      "its a abiled us to “where the wild things are” art house auteur wes anderson tackles roald dahl’s “fantastic mr some small game projects are created by an auteur who controls every aspect of production weeks about a critical phenomenon called “vulgar auteurism” vome clear unless seen in the context of so called auteurism itself and auteurism as such doesn’t exist hawks nicholas ray and otto preminger were the auteurs—the authors—of their movies despite the supervieir idea the politique—the policy or politics—des auteurs and even the editor of the magazine that champit’s where the political side of their devotion to auteurs comes through in 2000 jean luc godard told me basis for what andrew sarris brought over as the “auteur theory” the recognition of art in works widely dpositive and positivist mode of the politique des auteurs the critical practice of so called auteurism—an the great paradox of the politique des auteurs is that it was a repudiation of respectable cult the spirit of the new wave and its politique des auteurs as is the encyclopedic taxonomy of directorsg things about the advocates of the politique des auteurs is that—contrary to the often repeated assertioninterview in cahiers “i am for the politique des auteurs but not just anybodyart by the young energumens of the politique des auteurs—that of a michelangelo or a dostoevskyand mythic core of the very idea of the cinematic auteur or for that matter the author in literature i of the modern and contemporary stage director as auteurour le telechargement\n"
                    ],
                    [
                      "sont ceux dont les droits d’auteur ont effectivement expireare you here gives you the full selby\n"
                    ],
                    [
                      "review the auteur 1\n"
                    ],
                    [
                      "les auteurs et collaborateurs\n"
                    ],
                    [
                      "authors   auteurs\n"
                    ],
                    [
                      "authors their last articles   auteurs hun laatste artikelen\n"
                    ],
                    [
                      "prix des jeunes auteurs\n"
                    ],
                    [
                      "droits dauteur et déclaration concernant la protection de la viee shai gilgeous alexander to run the show like an auteur would fall flatu suspense pic the flying guillotine prolific auteur ho meng hua returns with a far more lively and enance depending on the bop up to 360 ps\n"
                    ],
                    [
                      "droits dauteur et déclaration concernant la protection de la viee shai gilgeous alexander to run the show like an auteur would fall flatu suspense pic the flying guillotine prolific auteur ho meng hua returns with a far more lively and enance depending on the bop up to 360 ps\n"
                    ],
                    [
                      "répartition du poids the reasons for his abiding reputation as a major auteur citing the opinions of numerous peers and contemake classical music a regular feature was swedish auteur ingmar bergman who largely eschewed traditional s”\n"
                    ],
                    [
                      "répartition du poids the reasons for his abiding reputation as a major auteur citing the opinions of numerous peers and contemake classical music a regular feature was swedish auteur ingmar bergman who largely eschewed traditional s”\n"
                    ],
                    [
                      "gerelateerde artikelenmeer van deze auteur\n"
                    ],
                    [
                      "q could broadcasters consider licensing more auteur shorts and features during and after this crisis ht to use the site\n"
                    ],
                    [
                      "delete or modify any “droit d’auteur” copyright trademark or any other proprietary rst van de wereld\n"
                    ],
                    [
                      "auteur\n"
                    ],
                    [
                      "prenez votsonné pendant un an pour avoir violé les droits d’auteur de microsoft\n"
                    ],
                    [
                      "auteur\n"
                    ],
                    [
                      "austrian auteur michael haneke isnt known for his light touch bsee\t\n"
                    ],
                    [
                      "wes andersons favorite movies 35 films the auteur wants you to see\t\n"
                    ],
                    [
                      "inio asano et plein d’auteurs à rencontrer au pop asia matsuri 18  19 décembaiku gerald england\n"
                    ],
                    [
                      "association francophone des auteurs de haibun french haibun\n"
                    ],
                    [
                      "blithe spirit uk onllarge numbers its worth wondering if the female auteurs that brought these sensitive heroes to the screeeen crafted on celluloid film by its directors orauteurs whose aims have been for africans to project imustry in the 1990s has stood in stark contrast toauteurfilmmaking for its video format and aim to enterta similarly divorced from the language of producer auteurism and in an interview with crack magazine he exd under season 3\n"
                    ],
                    [
                      "entrepreneur auteur raconteur preview episodes\n"
                    ],
                    [
                      "entrepreneur auteur raconteurty event\n"
                    ],
                    [
                      "media  film studies  an introduction to auteur theory taster session\n"
                    ],
                    [
                      "a basic introduction to the french concept of auteur theory with special emphasis on the films of alf of the modern and contemporary stage director as auteur\n"
                    ],
                    [
                      "a basic introduction to the french concept of auteur theory with special emphasis on the films of alf of the modern and contemporary stage director as auteur\n"
                    ],
                    [
                      "auteur meka globalget price\n"
                    ],
                    [
                      "sand gravel and crushed st spielberg while rian johnson is quirky american auteurwhich the dancer turns with the working leg à la hauteur elevated in second positionibliografische gegevens\n"
                    ],
                    [
                      "auteur charles symmons\n"
                    ],
                    [
                      "oorspr cétait lidée de lauteur sayed fouad et réalisatrice azza elhosseiny commpartnership that dismisses traditional notions of auteur theory…\n"
                    ],
                    [
                      "full interview for vodzilla “how many of that generation’s auteurs have we lost  how many great movies — how many ‘serious film making by two of the nations finest auteurs lynne ramsay and terence davies who have both \n"
                    ],
                    [
                      "full interview for vodzilla “how many of that generation’s auteurs have we lost  how many great movies — how many ‘serious film making by two of the nations finest auteurs lynne ramsay and terence davies who have both \n"
                    ],
                    [
                      "alle hrs gerelateerde gegevens worden auteursrechtelijk beschermdption du latin classique en vue de la lecture des auteursle jones vies for the title of treacly sundance y auteur with his twee romantic drama about a lovelorn doo another filmmaker who’s challenging his would be auteur statusesence behind the camera on faceoff of hong kong auteur john woo marked that film out for dargis as distithe auteurs have become luke haines\n"
                    ],
                    [
                      "alle hrs gerelateerde gegevens worden auteursrechtelijk beschermdption du latin classique en vue de la lecture des auteursle jones vies for the title of treacly sundance y auteur with his twee romantic drama about a lovelorn doo another filmmaker who’s challenging his would be auteur statusesence behind the camera on faceoff of hong kong auteur john woo marked that film out for dargis as distithe auteurs have become luke haines\n"
                    ],
                    [
                      "alle hrs gerelateerde gegevens worden auteursrechtelijk beschermdption du latin classique en vue de la lecture des auteursle jones vies for the title of treacly sundance y auteur with his twee romantic drama about a lovelorn doo another filmmaker who’s challenging his would be auteur statusesence behind the camera on faceoff of hong kong auteur john woo marked that film out for dargis as distithe auteurs have become luke haines\n"
                    ],
                    [
                      "alle hrs gerelateerde gegevens worden auteursrechtelijk beschermdption du latin classique en vue de la lecture des auteursle jones vies for the title of treacly sundance y auteur with his twee romantic drama about a lovelorn doo another filmmaker who’s challenging his would be auteur statusesence behind the camera on faceoff of hong kong auteur john woo marked that film out for dargis as distithe auteurs have become luke haines\n"
                    ],
                    [
                      "alle hrs gerelateerde gegevens worden auteursrechtelijk beschermdption du latin classique en vue de la lecture des auteursle jones vies for the title of treacly sundance y auteur with his twee romantic drama about a lovelorn doo another filmmaker who’s challenging his would be auteur statusesence behind the camera on faceoff of hong kong auteur john woo marked that film out for dargis as distithe auteurs have become luke haines\n"
                    ],
                    [
                      "alle hrs gerelateerde gegevens worden auteursrechtelijk beschermdption du latin classique en vue de la lecture des auteursle jones vies for the title of treacly sundance y auteur with his twee romantic drama about a lovelorn doo another filmmaker who’s challenging his would be auteur statusesence behind the camera on faceoff of hong kong auteur john woo marked that film out for dargis as distithe auteurs have become luke haines\n"
                    ],
                    [
                      "‘don’t tell mama’ moira rose as auteur director\n"
                    ],
                    [
                      "moira’s story and the contextual compresre than the camp icon with the ability to be the auteur she takes over the role fosse once inhabited auteurs newcomb william description matérielle vi pour le telechargement\n"
                    ],
                    [
                      "moira’s story and the contextual compresre than the camp icon with the ability to be the auteur she takes over the role fosse once inhabited auteurs newcomb william description matérielle vi pour le telechargement\n"
                    ],
                    [
                      "sont ceux dont les droits d’auteur ont effectivement expire\n"
                    ],
                    [
                      "auteurs van het materiaal\n"
                    ],
                    [
                      "ander auteursrechts one of the few remaining arts in which the great auteurs still exist—and although koolhaas is certainly olso to impose some reflexion on that contemporary auteur who is the garish or mass cultural equivalent of deological aspects as well as audience reception auteur theory aesthetics and reality television imitatial gun for hire on this movie as opposed to the auteurial role he usually playsommendations so bij nrc we use een familiebericht auteursrecht over de krant to me voor abonnees the dga it often does so in favor of an admired auteur with a passionate fan base from david lynch for the auteur delved into issues like censorship protests by f\n"
                    ],
                    [
                      "ander auteursrechts one of the few remaining arts in which the great auteurs still exist—and although koolhaas is certainly olso to impose some reflexion on that contemporary auteur who is the garish or mass cultural equivalent of deological aspects as well as audience reception auteur theory aesthetics and reality television imitatial gun for hire on this movie as opposed to the auteurial role he usually playsommendations so bij nrc we use een familiebericht auteursrecht over de krant to me voor abonnees the dga it often does so in favor of an admired auteur with a passionate fan base from david lynch for the auteur delved into issues like censorship protests by f\n"
                    ],
                    [
                      "ander auteursrechts one of the few remaining arts in which the great auteurs still exist—and although koolhaas is certainly olso to impose some reflexion on that contemporary auteur who is the garish or mass cultural equivalent of deological aspects as well as audience reception auteur theory aesthetics and reality television imitatial gun for hire on this movie as opposed to the auteurial role he usually playsommendations so bij nrc we use een familiebericht auteursrecht over de krant to me voor abonnees the dga it often does so in favor of an admired auteur with a passionate fan base from david lynch for the auteur delved into issues like censorship protests by f\n"
                    ],
                    [
                      "ander auteursrechts one of the few remaining arts in which the great auteurs still exist—and although koolhaas is certainly olso to impose some reflexion on that contemporary auteur who is the garish or mass cultural equivalent of deological aspects as well as audience reception auteur theory aesthetics and reality television imitatial gun for hire on this movie as opposed to the auteurial role he usually playsommendations so bij nrc we use een familiebericht auteursrecht over de krant to me voor abonnees the dga it often does so in favor of an admired auteur with a passionate fan base from david lynch for the auteur delved into issues like censorship protests by f\n"
                    ],
                    [
                      "ander auteursrechts one of the few remaining arts in which the great auteurs still exist—and although koolhaas is certainly olso to impose some reflexion on that contemporary auteur who is the garish or mass cultural equivalent of deological aspects as well as audience reception auteur theory aesthetics and reality television imitatial gun for hire on this movie as opposed to the auteurial role he usually playsommendations so bij nrc we use een familiebericht auteursrecht over de krant to me voor abonnees the dga it often does so in favor of an admired auteur with a passionate fan base from david lynch for the auteur delved into issues like censorship protests by f\n"
                    ],
                    [
                      "ander auteursrechts one of the few remaining arts in which the great auteurs still exist—and although koolhaas is certainly olso to impose some reflexion on that contemporary auteur who is the garish or mass cultural equivalent of deological aspects as well as audience reception auteur theory aesthetics and reality television imitatial gun for hire on this movie as opposed to the auteurial role he usually playsommendations so bij nrc we use een familiebericht auteursrecht over de krant to me voor abonnees the dga it often does so in favor of an admired auteur with a passionate fan base from david lynch for the auteur delved into issues like censorship protests by f\n"
                    ],
                    [
                      "ander auteursrechts one of the few remaining arts in which the great auteurs still exist—and although koolhaas is certainly olso to impose some reflexion on that contemporary auteur who is the garish or mass cultural equivalent of deological aspects as well as audience reception auteur theory aesthetics and reality television imitatial gun for hire on this movie as opposed to the auteurial role he usually playsommendations so bij nrc we use een familiebericht auteursrecht over de krant to me voor abonnees the dga it often does so in favor of an admired auteur with a passionate fan base from david lynch for the auteur delved into issues like censorship protests by f\n"
                    ],
                    [
                      "in an interview with ians the auteur considered one of the greatest filmmakers of ind\n"
                    ],
                    [
                      "auteur\n"
                    ],
                    [
                      "the jazz gallery center for the arts finds its “auteur”\n"
                    ],
                    [
                      "replyhow he became the first american embodiment of an auteurz gallery center for the arts may have found it’s auteur kai simoneis an experienced theater director and herein the auteur analogy strengthenserwestjazz gallery center for the arts finds its auteur\n"
                    ],
                    [
                      "replyhow he became the first american embodiment of an auteurz gallery center for the arts may have found it’s auteur kai simoneis an experienced theater director and herein the auteur analogy strengthenserwestjazz gallery center for the arts finds its auteur\n"
                    ],
                    [
                      "replyhow he became the first american embodiment of an auteurz gallery center for the arts may have found it’s auteur kai simoneis an experienced theater director and herein the auteur analogy strengthenserwestjazz gallery center for the arts finds its auteur\n"
                    ],
                    [
                      "replyhow he became the first american embodiment of an auteurz gallery center for the arts may have found it’s auteur kai simoneis an experienced theater director and herein the auteur analogy strengthenserwestjazz gallery center for the arts finds its auteur\n"
                    ],
                    [
                      "1 the critical biography is the twelve lives of \t tagged amy schmutte artful lives artslarge auteur chess records chicago jazz philharmonic chuck \n"
                    ],
                    [
                      "the german auteur brings his probing curiosity to the interviews d10   the most famous of egyptian auteur films shadi abdel salams the mummy  the night n’\n"
                    ],
                    [
                      "the german auteur brings his probing curiosity to the interviews d10   the most famous of egyptian auteur films shadi abdel salams the mummy  the night n’\n"
                    ],
                    [
                      "in panama to shoot “the stars at noon” french auteur claire denis “beau travail” “high life” spoke  139 143\n"
                    ],
                    [
                      "texte notes auteur\n"
                    ],
                    [
                      "auteur\n"
                    ],
                    [
                      "du même auteur\n"
                    ],
                    [
                      "auteur jeanette\n"
                    ],
                    [
                      "gearchiveerd onder lunch  dinner reccation shoot in arkham at the family manse of the auteur sidney fitzmaurice on ignore le nom de lauteur   les uns sans considerer la valeur des oeuvrescollin kelly jackson lanzing auteur  carlos magno illustrator  mike del mundo cis it still working \n"
                    ],
                    [
                      "gearchiveerd onder lunch  dinner reccation shoot in arkham at the family manse of the auteur sidney fitzmaurice on ignore le nom de lauteur   les uns sans considerer la valeur des oeuvrescollin kelly jackson lanzing auteur  carlos magno illustrator  mike del mundo cis it still working \n"
                    ],
                    [
                      "techengage auteur\n"
                    ],
                    [
                      "techengage auteur\n"
                    ],
                    [
                      "techengage auteur\n"
                    ],
                    [
                      "techengage auteur\n"
                    ],
                    [
                      "if there is an “auteur” of the non comic book superhero comedies it is  author french les auteurs ont applique la methode de la chambre de wilson  les auteurs aboutissent a la conclusion que par rapport a la auteur\n"
                    ],
                    [
                      "if there is an “auteur” of the non comic book superhero comedies it is  author french les auteurs ont applique la methode de la chambre de wilson  les auteurs aboutissent a la conclusion que par rapport a la auteur\n"
                    ],
                    [
                      "if there is an “auteur” of the non comic book superhero comedies it is  author french les auteurs ont applique la methode de la chambre de wilson  les auteurs aboutissent a la conclusion que par rapport a la auteur\n"
                    ],
                    [
                      "if there is an “auteur” of the non comic book superhero comedies it is  author french les auteurs ont applique la methode de la chambre de wilson  les auteurs aboutissent a la conclusion que par rapport a la auteur\n"
                    ],
                    [
                      "finite temperature phase structure of lattice qcout the director lars von trier that equal parts auteur and provocateurhakespeare’s romeo and juliet what does the word hauteur mean  nice to hear something a bit different on tions légales\n"
                    ],
                    [
                      "auteurs\n"
                    ],
                    [
                      "auteurs\n"
                    ],
                    [
                      "europe centrale et or himself with the assured charisma of a hollywood auteurauteur is right the medical research is quite murkywers are offered glimpses into the septuagenarian auteur’s youth from his apparently idyllic childhood to\n"
                    ],
                    [
                      "articles du même auteur\n"
                    ],
                    [
                      "agisseznon commerciales mais en citant la source et les auteursearning with the awol decline of atoms do the   auteur  a check finally than roadmap biologically and geon poo poo’d the notion of a filmmaker being an auteur when francois truffaut asked him how he arrived david cronenberg’s put the “ewww” in “auteur…ewww gross ” since his college days in the late  tauteur du buy street stories the world de study\n"
                    ],
                    [
                      "agisseznon commerciales mais en citant la source et les auteursearning with the awol decline of atoms do the   auteur  a check finally than roadmap biologically and geon poo poo’d the notion of a filmmaker being an auteur when francois truffaut asked him how he arrived david cronenberg’s put the “ewww” in “auteur…ewww gross ” since his college days in the late  tauteur du buy street stories the world de study\n"
                    ],
                    [
                      "agisseznon commerciales mais en citant la source et les auteursearning with the awol decline of atoms do the   auteur  a check finally than roadmap biologically and geon poo poo’d the notion of a filmmaker being an auteur when francois truffaut asked him how he arrived david cronenberg’s put the “ewww” in “auteur…ewww gross ” since his college days in the late  tauteur du buy street stories the world de study\n"
                    ],
                    [
                      "auteur  oguz donmez\n"
                    ],
                    [
                      "auteurs\n"
                    ],
                    [
                      "comiilm my best friend’s birthday the still unknown auteur landed a cameo appearance on an episode of the go age tale set in early 1970s california—finds the auteur in decidedly chill laid back modegblackshark tanu weds manu fucktard of a movie \n"
                    ],
                    [
                      "comiilm my best friend’s birthday the still unknown auteur landed a cameo appearance on an episode of the go age tale set in early 1970s california—finds the auteur in decidedly chill laid back modegblackshark tanu weds manu fucktard of a movie \n"
                    ],
                    [
                      "auteurmark quottanu weds manuquot enjoyable first 3ssionnelle numérique a produit un site web à la hauteur de nos attentes    david\n"
                    ],
                    [
                      "subscribe to ouil 1968 a collaboration between nouvelle vague auteur jean luc godard and the rolling stonest university vision whole woman york yves\n"
                    ],
                    [
                      "over de auteur 1972\n"
                    ],
                    [
                      "auteur andré breton\n"
                    ],
                    [
                      "ed victor hugo préface des contemplations  l’auteur a laissé pour ainsi dire ce livre se faire en l\n"
                    ],
                    [
                      "auteurs\n"
                    ],
                    [
                      "new re expert precision is raimi one of horror�s great auteursings thought vision whole woman york yves\n"
                    ],
                    [
                      "over de auteur 1972\n"
                    ],
                    [
                      "auteur andré breton\n"
                    ],
                    [
                      "edey’d go to norway where they throw money at crazy auteurs who make puppet showsthe filmography of jerry warren the 1960s shlock auteur whose motto was “never ever try in any way to ma\n"
                    ]
                  ],
                  "hovertemplate": "dim 1=%{x}<br>dim 2=%{y}<br>word=%{customdata[0]}<br>cluster=%{marker.color}<extra></extra>",
                  "legendgroup": "",
                  "marker": {
                    "color": [
                      1,
                      1,
                      1,
                      1,
                      0,
                      0,
                      1,
                      0,
                      1,
                      1,
                      1,
                      1,
                      0,
                      0,
                      0,
                      1,
                      0,
                      0,
                      0,
                      0,
                      1,
                      0,
                      0,
                      1,
                      0,
                      0,
                      0,
                      0,
                      0,
                      0,
                      0,
                      0,
                      0,
                      0,
                      0,
                      0,
                      0,
                      0,
                      1,
                      1,
                      0,
                      0,
                      1,
                      0,
                      0,
                      0,
                      0,
                      0,
                      0,
                      1,
                      1,
                      1,
                      1,
                      0,
                      0,
                      0,
                      0,
                      0,
                      0,
                      0,
                      0,
                      0,
                      0,
                      0,
                      0,
                      0,
                      1,
                      1,
                      1,
                      1,
                      1,
                      1,
                      0,
                      0,
                      0,
                      0,
                      1,
                      1,
                      1,
                      1,
                      1,
                      1,
                      1,
                      1,
                      1,
                      0,
                      0,
                      0,
                      0,
                      1,
                      0,
                      0,
                      1,
                      0,
                      0,
                      0,
                      0,
                      1,
                      1,
                      1,
                      1,
                      1,
                      0,
                      0,
                      0,
                      0,
                      0,
                      1,
                      0,
                      0,
                      0,
                      0,
                      0,
                      1,
                      0,
                      0,
                      0,
                      0,
                      0,
                      0,
                      0,
                      0,
                      0,
                      0,
                      0,
                      1,
                      1,
                      0,
                      0,
                      0,
                      0,
                      0,
                      0,
                      0,
                      0,
                      0,
                      0,
                      0,
                      0,
                      0,
                      0,
                      0,
                      0,
                      0,
                      0,
                      0,
                      0,
                      0,
                      0,
                      0,
                      0,
                      0,
                      1,
                      0,
                      0,
                      0,
                      0,
                      1,
                      1,
                      0,
                      0,
                      0,
                      0,
                      0,
                      0,
                      0,
                      0,
                      0,
                      0,
                      1,
                      1,
                      0,
                      0,
                      1,
                      1,
                      0,
                      1,
                      0,
                      0,
                      1,
                      0,
                      1,
                      1,
                      1,
                      0,
                      0,
                      0,
                      0,
                      0,
                      0,
                      0,
                      1,
                      1,
                      1,
                      1,
                      1,
                      1,
                      1,
                      0,
                      0,
                      0,
                      0,
                      0,
                      0,
                      0,
                      0,
                      0,
                      0,
                      1,
                      0,
                      0,
                      1,
                      0,
                      0,
                      0,
                      0,
                      1,
                      1,
                      1,
                      0,
                      0,
                      0,
                      1,
                      1,
                      0,
                      0,
                      0,
                      0,
                      1,
                      1,
                      0,
                      1,
                      0,
                      0,
                      0,
                      0,
                      0,
                      0,
                      0,
                      1,
                      1,
                      1,
                      0,
                      0,
                      1,
                      1,
                      1,
                      0,
                      0,
                      0,
                      0,
                      1,
                      0,
                      0,
                      0,
                      0,
                      1,
                      1,
                      1,
                      1,
                      1,
                      1,
                      1,
                      1,
                      1,
                      1,
                      0,
                      1,
                      1,
                      1,
                      0,
                      0,
                      1,
                      1,
                      1,
                      0,
                      0,
                      0,
                      0,
                      0,
                      0,
                      0,
                      0,
                      0,
                      1,
                      0,
                      0,
                      1,
                      1,
                      0,
                      0,
                      0,
                      0,
                      0,
                      0,
                      0,
                      1,
                      1,
                      1,
                      0,
                      0,
                      0,
                      0,
                      1,
                      0,
                      0,
                      1,
                      1,
                      1,
                      1,
                      1,
                      0,
                      0,
                      1,
                      1,
                      1,
                      1,
                      0,
                      0,
                      0,
                      0,
                      1,
                      1,
                      1,
                      0,
                      1,
                      0,
                      0,
                      0,
                      1,
                      1,
                      0,
                      0,
                      1,
                      1,
                      1,
                      1,
                      1,
                      1,
                      1,
                      1,
                      0,
                      0,
                      1,
                      0,
                      1,
                      1,
                      1,
                      1,
                      0,
                      0,
                      0,
                      1,
                      0,
                      0,
                      0,
                      0,
                      1,
                      0,
                      0,
                      1,
                      0,
                      0,
                      0,
                      0,
                      0,
                      0,
                      0,
                      0,
                      0,
                      0,
                      0,
                      0,
                      0,
                      0,
                      1,
                      1,
                      0,
                      0,
                      1,
                      0,
                      0,
                      0,
                      0,
                      0,
                      0,
                      1,
                      1,
                      1,
                      1,
                      0,
                      0,
                      0,
                      0,
                      0,
                      0,
                      0,
                      0,
                      0,
                      0,
                      0,
                      0,
                      0,
                      1,
                      1,
                      1,
                      1,
                      1,
                      1,
                      0,
                      0,
                      0,
                      0,
                      1,
                      1,
                      1,
                      1,
                      1,
                      1,
                      1,
                      1,
                      1,
                      1,
                      0,
                      1,
                      1,
                      1,
                      0,
                      0,
                      1,
                      1,
                      1,
                      0,
                      0,
                      0,
                      0,
                      0,
                      0,
                      0,
                      0,
                      0,
                      1,
                      0,
                      0,
                      1,
                      1,
                      0,
                      0,
                      0,
                      0,
                      0,
                      0,
                      0,
                      1,
                      1,
                      1,
                      0,
                      0,
                      0,
                      0,
                      1,
                      0,
                      0,
                      1,
                      1,
                      1,
                      1,
                      1,
                      0,
                      0,
                      1,
                      1,
                      1,
                      1,
                      0,
                      0,
                      0,
                      0,
                      1,
                      1,
                      1,
                      0,
                      1,
                      0,
                      0,
                      0,
                      1,
                      1,
                      0,
                      0,
                      1,
                      1,
                      1,
                      1,
                      1,
                      1,
                      1,
                      1,
                      1,
                      0
                    ],
                    "coloraxis": "coloraxis",
                    "size": 10,
                    "symbol": "circle"
                  },
                  "mode": "markers",
                  "name": "",
                  "orientation": "v",
                  "showlegend": false,
                  "type": "scatter",
                  "x": [
                    5.6000447273254395,
                    5.446406364440918,
                    4.0792341232299805,
                    8.07871150970459,
                    -2.9067225456237793,
                    -4.74105978012085,
                    2.9018006324768066,
                    0.14787980914115906,
                    5.777641773223877,
                    5.1522064208984375,
                    6.396987438201904,
                    4.12183141708374,
                    -3.1143038272857666,
                    -3.912409543991089,
                    -1.3729954957962036,
                    6.3955183029174805,
                    -2.878549337387085,
                    -2.1166560649871826,
                    -2.22989559173584,
                    -4.098982810974121,
                    6.956024646759033,
                    -1.117617130279541,
                    -0.4534883201122284,
                    6.281761646270752,
                    -1.6495715379714966,
                    -1.8669650554656982,
                    -2.0947530269622803,
                    -1.764319896697998,
                    -2.446399211883545,
                    -1.7372581958770752,
                    -0.9791684150695801,
                    -1.1849583387374878,
                    -1.797073245048523,
                    -2.441251277923584,
                    -3.65895676612854,
                    -2.6739134788513184,
                    -2.4577996730804443,
                    -2.5378170013427734,
                    6.453216552734375,
                    3.608860731124878,
                    -1.2684122323989868,
                    -3.7849221229553223,
                    7.61514139175415,
                    -2.680950164794922,
                    -3.035388231277466,
                    -4.0468926429748535,
                    -4.180953025817871,
                    -4.08561372756958,
                    -6.059839248657227,
                    5.620420455932617,
                    6.119643688201904,
                    2.3629074096679688,
                    4.6238603591918945,
                    -7.045624256134033,
                    -7.155007362365723,
                    -7.078629016876221,
                    -6.2708353996276855,
                    -6.856745719909668,
                    -5.333178997039795,
                    -7.592898368835449,
                    -7.803347110748291,
                    -7.645749092102051,
                    -7.689587116241455,
                    -6.918234825134277,
                    -5.658926486968994,
                    -6.572995662689209,
                    6.414112091064453,
                    5.3657732009887695,
                    5.256780624389648,
                    7.839754104614258,
                    3.4348201751708984,
                    4.406910419464111,
                    -2.5778684616088867,
                    -3.0438780784606934,
                    -1.4178274869918823,
                    -1.665177583694458,
                    4.076502799987793,
                    4.273060321807861,
                    5.290452003479004,
                    8.07871150970459,
                    3.0220587253570557,
                    6.12642765045166,
                    3.196411371231079,
                    6.974798202514648,
                    6.974798202514648,
                    -1.743383526802063,
                    -3.098618268966675,
                    -3.86794376373291,
                    -3.806227207183838,
                    4.850833415985107,
                    -0.5341446995735168,
                    -0.2521657347679138,
                    4.076502799987793,
                    0.16666945815086365,
                    -4.377046585083008,
                    -5.385095119476318,
                    -4.418107986450195,
                    5.9110493659973145,
                    7.191632270812988,
                    4.193297863006592,
                    5.945392608642578,
                    6.40911865234375,
                    0.49483567476272583,
                    -1.0588980913162231,
                    -1.4664099216461182,
                    -4.548141956329346,
                    -3.3760554790496826,
                    7.072964191436768,
                    -3.779392957687378,
                    -4.416072368621826,
                    -5.121107578277588,
                    -5.0061445236206055,
                    -0.8479249477386475,
                    1.4373397827148438,
                    -3.686805248260498,
                    -4.4875569343566895,
                    -2.3737988471984863,
                    -6.505041122436523,
                    -4.481506824493408,
                    -0.2698371410369873,
                    -1.371201515197754,
                    -2.5938308238983154,
                    -3.540945291519165,
                    -3.160665512084961,
                    -3.409031629562378,
                    3.4604218006134033,
                    2.0585646629333496,
                    -3.575637102127075,
                    -5.613840103149414,
                    -5.4529500007629395,
                    -5.886097431182861,
                    -3.979430675506592,
                    -2.6071622371673584,
                    -3.963174343109131,
                    -1.7434347867965698,
                    -4.6343512535095215,
                    -4.459913730621338,
                    -3.2953264713287354,
                    -0.5151686668395996,
                    -0.902592122554779,
                    -2.264364004135132,
                    -0.3687330186367035,
                    -3.9974939823150635,
                    0.6609234809875488,
                    -4.079245090484619,
                    -2.0560624599456787,
                    -4.105799198150635,
                    -2.934929132461548,
                    -4.109367370605469,
                    -0.0866406187415123,
                    -1.2710609436035156,
                    -1.7424324750900269,
                    3.7629568576812744,
                    -2.680647134780884,
                    -3.3165781497955322,
                    -4.290559768676758,
                    -3.179694414138794,
                    2.987116813659668,
                    3.5126562118530273,
                    -3.198246717453003,
                    -5.24875545501709,
                    -5.354159832000732,
                    -3.9503698348999023,
                    -1.5775262117385864,
                    -2.6931653022766113,
                    -1.6948174238204956,
                    -2.738053798675537,
                    -1.6517103910446167,
                    -1.098650574684143,
                    5.526397228240967,
                    5.763955116271973,
                    -1.3230071067810059,
                    -2.2539966106414795,
                    5.256780624389648,
                    3.697051525115967,
                    -0.21343618631362915,
                    5.053435802459717,
                    0.7874017953872681,
                    -0.20536527037620544,
                    3.407747507095337,
                    -0.2046605348587036,
                    1.7764573097229004,
                    8.07871150970459,
                    5.7208662033081055,
                    -6.111092567443848,
                    -5.567484378814697,
                    -6.258090019226074,
                    -5.9370222091674805,
                    -4.072591781616211,
                    -4.854506492614746,
                    -4.675323009490967,
                    8.07871150970459,
                    5.564388275146484,
                    8.07871150970459,
                    7.501003265380859,
                    7.912191867828369,
                    6.08317232131958,
                    2.9254331588745117,
                    -2.032618284225464,
                    -1.893222689628601,
                    -4.741794586181641,
                    -5.76488733291626,
                    -6.516915798187256,
                    -5.504003047943115,
                    -7.139606475830078,
                    -5.3556108474731445,
                    -5.741510391235352,
                    -5.162688732147217,
                    7.912191867828369,
                    -3.4928648471832275,
                    -2.9763011932373047,
                    3.990647792816162,
                    -1.4045662879943848,
                    -5.438477039337158,
                    -5.124993324279785,
                    -5.790487766265869,
                    6.191838264465332,
                    1.820494532585144,
                    4.6238603591918945,
                    -3.6632938385009766,
                    -3.712865114212036,
                    -5.120046138763428,
                    3.6336138248443604,
                    5.136555194854736,
                    -0.9878864288330078,
                    -3.480376958847046,
                    0.3249402940273285,
                    -1.9291664361953735,
                    6.678333282470703,
                    1.23824143409729,
                    0.7507668733596802,
                    6.614292144775391,
                    -6.393200874328613,
                    -6.127354145050049,
                    -5.948208808898926,
                    -6.732824802398682,
                    -6.281705379486084,
                    -4.06437349319458,
                    -4.493183612823486,
                    7.34937858581543,
                    8.07871150970459,
                    7.912191867828369,
                    -1.197327733039856,
                    -0.9639958143234253,
                    8.07871150970459,
                    7.839754104614258,
                    3.4348201751708984,
                    -2.232485294342041,
                    -3.110813856124878,
                    -1.8891642093658447,
                    -4.208298206329346,
                    3.3149733543395996,
                    -3.7247097492218018,
                    -5.704478740692139,
                    -5.525646209716797,
                    -5.2024970054626465,
                    5.947930812835693,
                    2.179654121398926,
                    3.079003095626831,
                    3.559541702270508,
                    3.6452767848968506,
                    8.07871150970459,
                    3.240807294845581,
                    3.407747507095337,
                    6.060186862945557,
                    1.7436128854751587,
                    -1.935732126235962,
                    2.503471851348877,
                    5.105861186981201,
                    4.054046630859375,
                    0.21338877081871033,
                    0.595354437828064,
                    6.684137344360352,
                    1.9025561809539795,
                    7.065250396728516,
                    -0.44158199429512024,
                    -2.0679726600646973,
                    -2.7469565868377686,
                    -3.9485929012298584,
                    -5.274226665496826,
                    -4.289852619171143,
                    -5.5026774406433105,
                    -5.484203338623047,
                    -5.627725601196289,
                    2.4994282722473145,
                    -1.4496477842330933,
                    -0.8725080490112305,
                    6.7106781005859375,
                    5.588841438293457,
                    -5.096961498260498,
                    -5.909889221191406,
                    -6.195667266845703,
                    -4.9861159324646,
                    -4.984064102172852,
                    -4.926962375640869,
                    -5.05529260635376,
                    4.921359539031982,
                    8.07871150970459,
                    5.64258337020874,
                    -3.8907599449157715,
                    -4.386039733886719,
                    -3.692779302597046,
                    -3.846374034881592,
                    3.9539260864257812,
                    -1.1197402477264404,
                    -2.7379236221313477,
                    4.572617530822754,
                    7.34937858581543,
                    8.07871150970459,
                    6.373933792114258,
                    6.741008758544922,
                    -3.0864346027374268,
                    -2.205573081970215,
                    6.362114906311035,
                    6.362114906311035,
                    6.362114906311035,
                    6.362114906311035,
                    -0.3535861074924469,
                    -3.630441665649414,
                    -4.227630138397217,
                    -3.1467230319976807,
                    1.0974669456481934,
                    7.912191867828369,
                    7.912191867828369,
                    -1.0107624530792236,
                    6.191952228546143,
                    -5.0854973793029785,
                    -5.488020420074463,
                    -1.5047792196273804,
                    6.036284446716309,
                    7.912191867828369,
                    -3.724759101867676,
                    -2.972904920578003,
                    3.515164852142334,
                    5.42934513092041,
                    5.686528205871582,
                    7.0890374183654785,
                    5.600044250488281,
                    5.446406364440918,
                    4.0792341232299805,
                    8.07871150970459,
                    -2.9067225456237793,
                    -4.74105978012085,
                    2.9018006324768066,
                    0.14787980914115906,
                    5.777641773223877,
                    5.1522064208984375,
                    6.396987438201904,
                    4.12183141708374,
                    -3.1143038272857666,
                    -3.912409543991089,
                    -1.3729954957962036,
                    6.3955183029174805,
                    -2.878549337387085,
                    -2.1166560649871826,
                    -2.22989559173584,
                    -4.098982810974121,
                    6.956024646759033,
                    -1.117617130279541,
                    -0.4534883201122284,
                    6.281761646270752,
                    -1.6495715379714966,
                    -1.8669650554656982,
                    -2.0947530269622803,
                    -1.764319896697998,
                    -2.446399211883545,
                    -1.7372581958770752,
                    -0.9791684150695801,
                    -1.1849583387374878,
                    -1.797073245048523,
                    -2.441251277923584,
                    -3.65895676612854,
                    -2.6739134788513184,
                    -2.4577996730804443,
                    -2.5378170013427734,
                    6.453216552734375,
                    3.608860731124878,
                    -1.2684122323989868,
                    -3.7849221229553223,
                    7.61514139175415,
                    -2.680950164794922,
                    -3.035388231277466,
                    -4.0468926429748535,
                    -4.180953025817871,
                    -4.08561372756958,
                    -6.059839248657227,
                    5.620420455932617,
                    6.119643688201904,
                    2.3629074096679688,
                    4.6238603591918945,
                    -7.045624256134033,
                    -7.155007362365723,
                    -7.078629016876221,
                    -6.2708353996276855,
                    -6.856745719909668,
                    -5.333178997039795,
                    -7.592898368835449,
                    -7.803347110748291,
                    -7.645749092102051,
                    -7.689587116241455,
                    -6.918234825134277,
                    -5.658926486968994,
                    -6.572995662689209,
                    6.414112091064453,
                    5.3657732009887695,
                    5.256780624389648,
                    7.839754104614258,
                    3.4348201751708984,
                    4.406910419464111,
                    -2.5778684616088867,
                    -3.0438780784606934,
                    -1.4178274869918823,
                    -1.665177583694458,
                    4.076502799987793,
                    4.273060321807861,
                    5.290452003479004,
                    8.07871150970459,
                    6.974821090698242,
                    8.07871150970459,
                    3.240807294845581,
                    3.407747507095337,
                    6.060186862945557,
                    1.7436128854751587,
                    -1.935732126235962,
                    2.503471851348877,
                    5.105861186981201,
                    4.054046630859375,
                    0.21338877081871033,
                    0.595354437828064,
                    6.684137344360352,
                    1.9025561809539795,
                    7.065250396728516,
                    -0.44158199429512024,
                    -2.0679726600646973,
                    -2.7469565868377686,
                    -3.9485929012298584,
                    -5.274226665496826,
                    -4.289852619171143,
                    -5.5026774406433105,
                    -5.484203338623047,
                    -5.627725601196289,
                    2.4994282722473145,
                    -1.4496477842330933,
                    -0.8725080490112305,
                    6.7106781005859375,
                    5.588841438293457,
                    -5.096961498260498,
                    -5.909889221191406,
                    -6.195667266845703,
                    -4.9861159324646,
                    -4.984064102172852,
                    -4.926962375640869,
                    -5.05529260635376,
                    4.921359539031982,
                    8.07871150970459,
                    5.64258337020874,
                    -3.8907599449157715,
                    -4.386039733886719,
                    -3.692779302597046,
                    -3.846374034881592,
                    3.9539260864257812,
                    -1.1197402477264404,
                    -2.7379236221313477,
                    4.572617530822754,
                    7.34937858581543,
                    8.07871150970459,
                    6.373933792114258,
                    6.741008758544922,
                    -3.0864346027374268,
                    -2.205573081970215,
                    6.362114906311035,
                    6.362114906311035,
                    6.362114906311035,
                    6.362114906311035,
                    -0.3535861074924469,
                    -3.630441665649414,
                    -4.227630138397217,
                    -3.1467230319976807,
                    1.0974669456481934,
                    7.912191867828369,
                    7.912191867828369,
                    -1.0107624530792236,
                    6.191952228546143,
                    -5.0854973793029785,
                    -5.488020420074463,
                    -1.5047792196273804,
                    6.036284446716309,
                    7.912191867828369,
                    -3.724759101867676,
                    -2.972904920578003,
                    3.515164852142334,
                    5.42934513092041,
                    5.686528205871582,
                    7.0890374183654785,
                    6.2980570793151855,
                    7.912191867828369,
                    2.912292242050171,
                    5.686528205871582,
                    7.0890374183654785,
                    -4.084211349487305
                  ],
                  "xaxis": "x",
                  "y": [
                    -2.1022071838378906,
                    -0.8134788870811462,
                    -4.632856845855713,
                    -1.3559975624084473,
                    -3.7880232334136963,
                    -1.3369529247283936,
                    5.481895923614502,
                    5.189451694488525,
                    -1.3844743967056274,
                    -0.24961695075035095,
                    -0.4788861572742462,
                    5.30473518371582,
                    1.2417972087860107,
                    -3.413369655609131,
                    -3.5809967517852783,
                    -3.4099113941192627,
                    -2.0231659412384033,
                    -3.8861899375915527,
                    -4.333292007446289,
                    -3.582942485809326,
                    -1.3600457906723022,
                    2.7535319328308105,
                    1.542619228363037,
                    1.1563979387283325,
                    0.9802431464195251,
                    1.0495126247406006,
                    0.9782398343086243,
                    1.0441886186599731,
                    0.9965708255767822,
                    1.2026195526123047,
                    1.698362946510315,
                    0.63963782787323,
                    0.5670257210731506,
                    0.32921937108039856,
                    0.4982162415981293,
                    1.7726008892059326,
                    1.8286839723587036,
                    2.895622968673706,
                    1.624193549156189,
                    6.285179615020752,
                    -3.142672061920166,
                    -0.5454950332641602,
                    -2.1209230422973633,
                    -3.663088798522949,
                    0.2078513503074646,
                    -0.3299833834171295,
                    -3.007633924484253,
                    2.71577525138855,
                    0.543139636516571,
                    -1.1456589698791504,
                    1.9841101169586182,
                    2.165200710296631,
                    -1.7741981744766235,
                    -0.006471431814134121,
                    0.8808431625366211,
                    -0.4441184997558594,
                    -3.100019693374634,
                    -1.6977225542068481,
                    -0.6618598699569702,
                    -4.913573741912842,
                    -4.622888565063477,
                    -4.589168071746826,
                    -4.2776408195495605,
                    -4.310409069061279,
                    -4.4750657081604,
                    -1.5969760417938232,
                    -2.6355299949645996,
                    1.0336166620254517,
                    -2.400892734527588,
                    -2.0725629329681396,
                    -2.2650907039642334,
                    -1.7747652530670166,
                    1.5340800285339355,
                    2.190065622329712,
                    3.3238117694854736,
                    3.3402786254882812,
                    -2.581770658493042,
                    2.2291817665100098,
                    0.6381202936172485,
                    -1.3559975624084473,
                    0.2654261589050293,
                    -2.7201805114746094,
                    4.717623233795166,
                    -2.2835988998413086,
                    -2.2835988998413086,
                    -2.2983288764953613,
                    -3.140892267227173,
                    -2.9697461128234863,
                    0.1385284811258316,
                    0.4314219653606415,
                    -0.5245515704154968,
                    -4.205303192138672,
                    -2.581770658493042,
                    3.0944571495056152,
                    2.054457187652588,
                    -0.08845853805541992,
                    2.2554547786712646,
                    -0.7131053805351257,
                    0.17422333359718323,
                    -2.072683095932007,
                    -0.6703757047653198,
                    1.4923250675201416,
                    -1.898855447769165,
                    2.35561466217041,
                    -0.6863095164299011,
                    -0.7288338541984558,
                    1.8982957601547241,
                    1.349782109260559,
                    -1.832723617553711,
                    0.8981510996818542,
                    1.5830920934677124,
                    -2.502701997756958,
                    -1.034843921661377,
                    0.7722643613815308,
                    -0.48003461956977844,
                    -1.0831338167190552,
                    1.989373803138733,
                    -1.564155101776123,
                    -1.8352956771850586,
                    0.538676381111145,
                    5.105245113372803,
                    2.0514132976531982,
                    1.8512448072433472,
                    2.507333755493164,
                    1.3827069997787476,
                    3.2879958152770996,
                    1.6711475849151611,
                    1.4611717462539673,
                    2.3267598152160645,
                    2.338322877883911,
                    1.3129101991653442,
                    1.5484306812286377,
                    2.9383323192596436,
                    1.5186711549758911,
                    3.0730438232421875,
                    1.827481985092163,
                    1.555740475654602,
                    2.5494225025177,
                    2.7041003704071045,
                    2.4635705947875977,
                    1.125287413597107,
                    2.808821678161621,
                    1.06622314453125,
                    3.2950568199157715,
                    0.4674617052078247,
                    2.427556276321411,
                    1.5538930892944336,
                    1.9766168594360352,
                    -0.19880898296833038,
                    0.8385443091392517,
                    1.0420364141464233,
                    0.5819257497787476,
                    2.182663917541504,
                    1.4760725498199463,
                    2.0585644245147705,
                    1.132088303565979,
                    1.374189019203186,
                    4.583825588226318,
                    2.0217220783233643,
                    1.4069492816925049,
                    1.4008678197860718,
                    1.3527567386627197,
                    1.1578562259674072,
                    1.824621319770813,
                    1.3000962734222412,
                    2.100508689880371,
                    1.945255160331726,
                    1.8019084930419922,
                    1.957539439201355,
                    -1.1343845129013062,
                    0.9244483113288879,
                    0.2506549060344696,
                    -1.3810994625091553,
                    -2.400892734527588,
                    4.8316545486450195,
                    3.2765603065490723,
                    -4.476393222808838,
                    1.9968338012695312,
                    1.2074519395828247,
                    4.161609172821045,
                    3.149665594100952,
                    2.087893486022949,
                    -1.3559975624084473,
                    -0.7090429663658142,
                    -0.8075333833694458,
                    -0.5435250401496887,
                    0.8727176785469055,
                    -0.5611720681190491,
                    -3.5183372497558594,
                    -2.7936389446258545,
                    -2.5668270587921143,
                    -1.3559975624084473,
                    -0.7272270917892456,
                    -1.3559975624084473,
                    -1.8055894374847412,
                    -2.3514602184295654,
                    -1.4127817153930664,
                    1.3440121412277222,
                    1.8245209455490112,
                    -2.0258209705352783,
                    1.989888072013855,
                    0.8051287531852722,
                    0.2857131063938141,
                    1.0652685165405273,
                    -0.270114928483963,
                    -0.7218062281608582,
                    -3.7033934593200684,
                    1.8032268285751343,
                    -2.3514602184295654,
                    1.7904590368270874,
                    1.0725769996643066,
                    -1.6191730499267578,
                    1.2278591394424438,
                    1.0762264728546143,
                    -0.24925222992897034,
                    1.4541939496994019,
                    1.6778403520584106,
                    1.5982404947280884,
                    -1.7741981744766235,
                    -2.7243146896362305,
                    0.9162137508392334,
                    0.09382452070713043,
                    2.2518367767333984,
                    -2.8285160064697266,
                    2.466989278793335,
                    -2.953498125076294,
                    3.9518277645111084,
                    1.9944473505020142,
                    0.38297027349472046,
                    0.8252419233322144,
                    2.9109625816345215,
                    -1.2073440551757812,
                    0.12507036328315735,
                    -2.349463939666748,
                    -1.856554627418518,
                    -0.20964474976062775,
                    -2.431565284729004,
                    -5.633749961853027,
                    -1.6110737323760986,
                    -2.28767991065979,
                    -1.3559975624084473,
                    -2.3514602184295654,
                    -4.609172821044922,
                    -4.283045768737793,
                    -1.3559975624084473,
                    -2.0725629329681396,
                    -2.2650907039642334,
                    -3.355137825012207,
                    -3.653862237930298,
                    -2.7540388107299805,
                    -4.924121379852295,
                    -1.7358559370040894,
                    -0.6221082806587219,
                    1.494734764099121,
                    0.6994144916534424,
                    0.4092898666858673,
                    -1.0959402322769165,
                    -1.5755008459091187,
                    -0.7549572587013245,
                    4.64971923828125,
                    -1.3458499908447266,
                    -1.3559975624084473,
                    4.578127861022949,
                    4.161609172821045,
                    -1.8275305032730103,
                    -2.299510955810547,
                    3.776747226715088,
                    1.0344237089157104,
                    0.5659882426261902,
                    1.6827305555343628,
                    0.7115782499313354,
                    0.9356586933135986,
                    -0.4320942461490631,
                    4.541458606719971,
                    0.7009294033050537,
                    0.8132455348968506,
                    4.492214679718018,
                    4.026739597320557,
                    -5.185980796813965,
                    -2.36258864402771,
                    -1.3669230937957764,
                    1.5340349674224854,
                    0.568880558013916,
                    -1.7093641757965088,
                    1.8827561140060425,
                    1.6954760551452637,
                    -1.7828311920166016,
                    -2.894944906234741,
                    -4.523229122161865,
                    -4.329540729522705,
                    0.3105558156967163,
                    1.3780231475830078,
                    -1.0860809087753296,
                    -4.936924457550049,
                    1.0868369340896606,
                    -0.08635926246643066,
                    3.672696113586426,
                    -1.3559975624084473,
                    4.881162166595459,
                    0.8691536784172058,
                    1.5952508449554443,
                    1.8498780727386475,
                    0.9498425126075745,
                    1.1215885877609253,
                    4.226212978363037,
                    3.3538527488708496,
                    4.875838756561279,
                    -2.28767991065979,
                    -1.3559975624084473,
                    -2.0331714153289795,
                    0.46837833523750305,
                    1.143312692642212,
                    -1.413415551185608,
                    -0.7979565262794495,
                    -0.7979565262794495,
                    -0.7979565262794495,
                    -0.7979565262794495,
                    1.5115392208099365,
                    -4.050764560699463,
                    -3.9414985179901123,
                    -3.416018009185791,
                    2.5784213542938232,
                    -2.3514602184295654,
                    -2.3514602184295654,
                    4.19047737121582,
                    -1.9392952919006348,
                    0.3305671513080597,
                    0.9701147079467773,
                    0.25634926557540894,
                    1.168379783630371,
                    -2.3514602184295654,
                    3.2763352394104004,
                    3.7287678718566895,
                    0.144262433052063,
                    1.0482138395309448,
                    -0.6451007127761841,
                    0.4318634271621704,
                    -2.102206230163574,
                    -0.8134801983833313,
                    -4.63285493850708,
                    -1.3559975624084473,
                    -3.7880232334136963,
                    -1.3369529247283936,
                    5.481895923614502,
                    5.189451694488525,
                    -1.3844743967056274,
                    -0.24961695075035095,
                    -0.4788861572742462,
                    5.30473518371582,
                    1.2417972087860107,
                    -3.413369655609131,
                    -3.5809967517852783,
                    -3.4099113941192627,
                    -2.0231659412384033,
                    -3.8861899375915527,
                    -4.333292007446289,
                    -3.582942485809326,
                    -1.3600457906723022,
                    2.7535319328308105,
                    1.542619228363037,
                    1.1563979387283325,
                    0.9802431464195251,
                    1.0495126247406006,
                    0.9782398343086243,
                    1.0441886186599731,
                    0.9965708255767822,
                    1.2026195526123047,
                    1.698362946510315,
                    0.63963782787323,
                    0.5670257210731506,
                    0.32921937108039856,
                    0.4982162415981293,
                    1.7726008892059326,
                    1.8286839723587036,
                    2.895622968673706,
                    1.624193549156189,
                    6.285179615020752,
                    -3.142672061920166,
                    -0.5454950332641602,
                    -2.1209230422973633,
                    -3.663088798522949,
                    0.2078513503074646,
                    -0.3299833834171295,
                    -3.007633924484253,
                    2.71577525138855,
                    0.543139636516571,
                    -1.1456589698791504,
                    1.9841101169586182,
                    2.165200710296631,
                    -1.7741981744766235,
                    -0.006471431814134121,
                    0.8808431625366211,
                    -0.4441184997558594,
                    -3.100019693374634,
                    -1.6977225542068481,
                    -0.6618598699569702,
                    -4.913573741912842,
                    -4.622888565063477,
                    -4.589168071746826,
                    -4.2776408195495605,
                    -4.310409069061279,
                    -4.4750657081604,
                    -1.5969760417938232,
                    -2.6355299949645996,
                    1.0336166620254517,
                    -2.400892734527588,
                    -2.0725629329681396,
                    -2.2650907039642334,
                    -1.7747652530670166,
                    1.5340800285339355,
                    2.190065622329712,
                    3.3238117694854736,
                    3.3402786254882812,
                    -2.581770658493042,
                    2.2291817665100098,
                    0.6381202936172485,
                    -1.3559975624084473,
                    -1.1321866512298584,
                    -1.3559975624084473,
                    4.578127861022949,
                    4.161609172821045,
                    -1.8275305032730103,
                    -2.299510955810547,
                    3.776747226715088,
                    1.0344237089157104,
                    0.5659882426261902,
                    1.6827305555343628,
                    0.7115782499313354,
                    0.9356586933135986,
                    -0.4320942461490631,
                    4.541458606719971,
                    0.7009294033050537,
                    0.8132455348968506,
                    4.492214679718018,
                    4.026739597320557,
                    -5.185980796813965,
                    -2.36258864402771,
                    -1.3669230937957764,
                    1.5340349674224854,
                    0.568880558013916,
                    -1.7093641757965088,
                    1.8827561140060425,
                    1.6954760551452637,
                    -1.7828311920166016,
                    -2.894944906234741,
                    -4.523229122161865,
                    -4.329540729522705,
                    0.3105558156967163,
                    1.3780231475830078,
                    -1.0860809087753296,
                    -4.936924457550049,
                    1.0868369340896606,
                    -0.08635926246643066,
                    3.672696113586426,
                    -1.3559975624084473,
                    4.881162166595459,
                    0.8691536784172058,
                    1.5952508449554443,
                    1.8498780727386475,
                    0.9498425126075745,
                    1.1215885877609253,
                    4.226212978363037,
                    3.3538527488708496,
                    4.875838756561279,
                    -2.28767991065979,
                    -1.3559975624084473,
                    -2.0331714153289795,
                    0.46837833523750305,
                    1.143312692642212,
                    -1.413415551185608,
                    -0.7979565262794495,
                    -0.7979565262794495,
                    -0.7979565262794495,
                    -0.7979565262794495,
                    1.5115392208099365,
                    -4.050764560699463,
                    -3.9414985179901123,
                    -3.416018009185791,
                    2.5784213542938232,
                    -2.3514602184295654,
                    -2.3514602184295654,
                    4.19047737121582,
                    -1.9392952919006348,
                    0.3305671513080597,
                    0.9701147079467773,
                    0.25634926557540894,
                    1.168379783630371,
                    -2.3514602184295654,
                    3.2763352394104004,
                    3.7287678718566895,
                    0.144262433052063,
                    1.0482138395309448,
                    -0.6451007127761841,
                    0.4318634271621704,
                    -1.4783700704574585,
                    -2.3514602184295654,
                    3.3213448524475098,
                    -0.6451007127761841,
                    0.4318634271621704,
                    2.0223734378814697
                  ],
                  "yaxis": "y"
                }
              ],
              "layout": {
                "coloraxis": {
                  "colorbar": {
                    "title": {
                      "text": "cluster"
                    }
                  },
                  "colorscale": [
                    [
                      0,
                      "#0d0887"
                    ],
                    [
                      0.1111111111111111,
                      "#46039f"
                    ],
                    [
                      0.2222222222222222,
                      "#7201a8"
                    ],
                    [
                      0.3333333333333333,
                      "#9c179e"
                    ],
                    [
                      0.4444444444444444,
                      "#bd3786"
                    ],
                    [
                      0.5555555555555556,
                      "#d8576b"
                    ],
                    [
                      0.6666666666666666,
                      "#ed7953"
                    ],
                    [
                      0.7777777777777778,
                      "#fb9f3a"
                    ],
                    [
                      0.8888888888888888,
                      "#fdca26"
                    ],
                    [
                      1,
                      "#f0f921"
                    ]
                  ]
                },
                "height": 600,
                "legend": {
                  "tracegroupgap": 0
                },
                "margin": {
                  "t": 60
                },
                "template": {
                  "data": {
                    "bar": [
                      {
                        "error_x": {
                          "color": "#2a3f5f"
                        },
                        "error_y": {
                          "color": "#2a3f5f"
                        },
                        "marker": {
                          "line": {
                            "color": "#E5ECF6",
                            "width": 0.5
                          },
                          "pattern": {
                            "fillmode": "overlay",
                            "size": 10,
                            "solidity": 0.2
                          }
                        },
                        "type": "bar"
                      }
                    ],
                    "barpolar": [
                      {
                        "marker": {
                          "line": {
                            "color": "#E5ECF6",
                            "width": 0.5
                          },
                          "pattern": {
                            "fillmode": "overlay",
                            "size": 10,
                            "solidity": 0.2
                          }
                        },
                        "type": "barpolar"
                      }
                    ],
                    "carpet": [
                      {
                        "aaxis": {
                          "endlinecolor": "#2a3f5f",
                          "gridcolor": "white",
                          "linecolor": "white",
                          "minorgridcolor": "white",
                          "startlinecolor": "#2a3f5f"
                        },
                        "baxis": {
                          "endlinecolor": "#2a3f5f",
                          "gridcolor": "white",
                          "linecolor": "white",
                          "minorgridcolor": "white",
                          "startlinecolor": "#2a3f5f"
                        },
                        "type": "carpet"
                      }
                    ],
                    "choropleth": [
                      {
                        "colorbar": {
                          "outlinewidth": 0,
                          "ticks": ""
                        },
                        "type": "choropleth"
                      }
                    ],
                    "contour": [
                      {
                        "colorbar": {
                          "outlinewidth": 0,
                          "ticks": ""
                        },
                        "colorscale": [
                          [
                            0,
                            "#0d0887"
                          ],
                          [
                            0.1111111111111111,
                            "#46039f"
                          ],
                          [
                            0.2222222222222222,
                            "#7201a8"
                          ],
                          [
                            0.3333333333333333,
                            "#9c179e"
                          ],
                          [
                            0.4444444444444444,
                            "#bd3786"
                          ],
                          [
                            0.5555555555555556,
                            "#d8576b"
                          ],
                          [
                            0.6666666666666666,
                            "#ed7953"
                          ],
                          [
                            0.7777777777777778,
                            "#fb9f3a"
                          ],
                          [
                            0.8888888888888888,
                            "#fdca26"
                          ],
                          [
                            1,
                            "#f0f921"
                          ]
                        ],
                        "type": "contour"
                      }
                    ],
                    "contourcarpet": [
                      {
                        "colorbar": {
                          "outlinewidth": 0,
                          "ticks": ""
                        },
                        "type": "contourcarpet"
                      }
                    ],
                    "heatmap": [
                      {
                        "colorbar": {
                          "outlinewidth": 0,
                          "ticks": ""
                        },
                        "colorscale": [
                          [
                            0,
                            "#0d0887"
                          ],
                          [
                            0.1111111111111111,
                            "#46039f"
                          ],
                          [
                            0.2222222222222222,
                            "#7201a8"
                          ],
                          [
                            0.3333333333333333,
                            "#9c179e"
                          ],
                          [
                            0.4444444444444444,
                            "#bd3786"
                          ],
                          [
                            0.5555555555555556,
                            "#d8576b"
                          ],
                          [
                            0.6666666666666666,
                            "#ed7953"
                          ],
                          [
                            0.7777777777777778,
                            "#fb9f3a"
                          ],
                          [
                            0.8888888888888888,
                            "#fdca26"
                          ],
                          [
                            1,
                            "#f0f921"
                          ]
                        ],
                        "type": "heatmap"
                      }
                    ],
                    "heatmapgl": [
                      {
                        "colorbar": {
                          "outlinewidth": 0,
                          "ticks": ""
                        },
                        "colorscale": [
                          [
                            0,
                            "#0d0887"
                          ],
                          [
                            0.1111111111111111,
                            "#46039f"
                          ],
                          [
                            0.2222222222222222,
                            "#7201a8"
                          ],
                          [
                            0.3333333333333333,
                            "#9c179e"
                          ],
                          [
                            0.4444444444444444,
                            "#bd3786"
                          ],
                          [
                            0.5555555555555556,
                            "#d8576b"
                          ],
                          [
                            0.6666666666666666,
                            "#ed7953"
                          ],
                          [
                            0.7777777777777778,
                            "#fb9f3a"
                          ],
                          [
                            0.8888888888888888,
                            "#fdca26"
                          ],
                          [
                            1,
                            "#f0f921"
                          ]
                        ],
                        "type": "heatmapgl"
                      }
                    ],
                    "histogram": [
                      {
                        "marker": {
                          "pattern": {
                            "fillmode": "overlay",
                            "size": 10,
                            "solidity": 0.2
                          }
                        },
                        "type": "histogram"
                      }
                    ],
                    "histogram2d": [
                      {
                        "colorbar": {
                          "outlinewidth": 0,
                          "ticks": ""
                        },
                        "colorscale": [
                          [
                            0,
                            "#0d0887"
                          ],
                          [
                            0.1111111111111111,
                            "#46039f"
                          ],
                          [
                            0.2222222222222222,
                            "#7201a8"
                          ],
                          [
                            0.3333333333333333,
                            "#9c179e"
                          ],
                          [
                            0.4444444444444444,
                            "#bd3786"
                          ],
                          [
                            0.5555555555555556,
                            "#d8576b"
                          ],
                          [
                            0.6666666666666666,
                            "#ed7953"
                          ],
                          [
                            0.7777777777777778,
                            "#fb9f3a"
                          ],
                          [
                            0.8888888888888888,
                            "#fdca26"
                          ],
                          [
                            1,
                            "#f0f921"
                          ]
                        ],
                        "type": "histogram2d"
                      }
                    ],
                    "histogram2dcontour": [
                      {
                        "colorbar": {
                          "outlinewidth": 0,
                          "ticks": ""
                        },
                        "colorscale": [
                          [
                            0,
                            "#0d0887"
                          ],
                          [
                            0.1111111111111111,
                            "#46039f"
                          ],
                          [
                            0.2222222222222222,
                            "#7201a8"
                          ],
                          [
                            0.3333333333333333,
                            "#9c179e"
                          ],
                          [
                            0.4444444444444444,
                            "#bd3786"
                          ],
                          [
                            0.5555555555555556,
                            "#d8576b"
                          ],
                          [
                            0.6666666666666666,
                            "#ed7953"
                          ],
                          [
                            0.7777777777777778,
                            "#fb9f3a"
                          ],
                          [
                            0.8888888888888888,
                            "#fdca26"
                          ],
                          [
                            1,
                            "#f0f921"
                          ]
                        ],
                        "type": "histogram2dcontour"
                      }
                    ],
                    "mesh3d": [
                      {
                        "colorbar": {
                          "outlinewidth": 0,
                          "ticks": ""
                        },
                        "type": "mesh3d"
                      }
                    ],
                    "parcoords": [
                      {
                        "line": {
                          "colorbar": {
                            "outlinewidth": 0,
                            "ticks": ""
                          }
                        },
                        "type": "parcoords"
                      }
                    ],
                    "pie": [
                      {
                        "automargin": true,
                        "type": "pie"
                      }
                    ],
                    "scatter": [
                      {
                        "fillpattern": {
                          "fillmode": "overlay",
                          "size": 10,
                          "solidity": 0.2
                        },
                        "type": "scatter"
                      }
                    ],
                    "scatter3d": [
                      {
                        "line": {
                          "colorbar": {
                            "outlinewidth": 0,
                            "ticks": ""
                          }
                        },
                        "marker": {
                          "colorbar": {
                            "outlinewidth": 0,
                            "ticks": ""
                          }
                        },
                        "type": "scatter3d"
                      }
                    ],
                    "scattercarpet": [
                      {
                        "marker": {
                          "colorbar": {
                            "outlinewidth": 0,
                            "ticks": ""
                          }
                        },
                        "type": "scattercarpet"
                      }
                    ],
                    "scattergeo": [
                      {
                        "marker": {
                          "colorbar": {
                            "outlinewidth": 0,
                            "ticks": ""
                          }
                        },
                        "type": "scattergeo"
                      }
                    ],
                    "scattergl": [
                      {
                        "marker": {
                          "colorbar": {
                            "outlinewidth": 0,
                            "ticks": ""
                          }
                        },
                        "type": "scattergl"
                      }
                    ],
                    "scattermapbox": [
                      {
                        "marker": {
                          "colorbar": {
                            "outlinewidth": 0,
                            "ticks": ""
                          }
                        },
                        "type": "scattermapbox"
                      }
                    ],
                    "scatterpolar": [
                      {
                        "marker": {
                          "colorbar": {
                            "outlinewidth": 0,
                            "ticks": ""
                          }
                        },
                        "type": "scatterpolar"
                      }
                    ],
                    "scatterpolargl": [
                      {
                        "marker": {
                          "colorbar": {
                            "outlinewidth": 0,
                            "ticks": ""
                          }
                        },
                        "type": "scatterpolargl"
                      }
                    ],
                    "scatterternary": [
                      {
                        "marker": {
                          "colorbar": {
                            "outlinewidth": 0,
                            "ticks": ""
                          }
                        },
                        "type": "scatterternary"
                      }
                    ],
                    "surface": [
                      {
                        "colorbar": {
                          "outlinewidth": 0,
                          "ticks": ""
                        },
                        "colorscale": [
                          [
                            0,
                            "#0d0887"
                          ],
                          [
                            0.1111111111111111,
                            "#46039f"
                          ],
                          [
                            0.2222222222222222,
                            "#7201a8"
                          ],
                          [
                            0.3333333333333333,
                            "#9c179e"
                          ],
                          [
                            0.4444444444444444,
                            "#bd3786"
                          ],
                          [
                            0.5555555555555556,
                            "#d8576b"
                          ],
                          [
                            0.6666666666666666,
                            "#ed7953"
                          ],
                          [
                            0.7777777777777778,
                            "#fb9f3a"
                          ],
                          [
                            0.8888888888888888,
                            "#fdca26"
                          ],
                          [
                            1,
                            "#f0f921"
                          ]
                        ],
                        "type": "surface"
                      }
                    ],
                    "table": [
                      {
                        "cells": {
                          "fill": {
                            "color": "#EBF0F8"
                          },
                          "line": {
                            "color": "white"
                          }
                        },
                        "header": {
                          "fill": {
                            "color": "#C8D4E3"
                          },
                          "line": {
                            "color": "white"
                          }
                        },
                        "type": "table"
                      }
                    ]
                  },
                  "layout": {
                    "annotationdefaults": {
                      "arrowcolor": "#2a3f5f",
                      "arrowhead": 0,
                      "arrowwidth": 1
                    },
                    "autotypenumbers": "strict",
                    "coloraxis": {
                      "colorbar": {
                        "outlinewidth": 0,
                        "ticks": ""
                      }
                    },
                    "colorscale": {
                      "diverging": [
                        [
                          0,
                          "#8e0152"
                        ],
                        [
                          0.1,
                          "#c51b7d"
                        ],
                        [
                          0.2,
                          "#de77ae"
                        ],
                        [
                          0.3,
                          "#f1b6da"
                        ],
                        [
                          0.4,
                          "#fde0ef"
                        ],
                        [
                          0.5,
                          "#f7f7f7"
                        ],
                        [
                          0.6,
                          "#e6f5d0"
                        ],
                        [
                          0.7,
                          "#b8e186"
                        ],
                        [
                          0.8,
                          "#7fbc41"
                        ],
                        [
                          0.9,
                          "#4d9221"
                        ],
                        [
                          1,
                          "#276419"
                        ]
                      ],
                      "sequential": [
                        [
                          0,
                          "#0d0887"
                        ],
                        [
                          0.1111111111111111,
                          "#46039f"
                        ],
                        [
                          0.2222222222222222,
                          "#7201a8"
                        ],
                        [
                          0.3333333333333333,
                          "#9c179e"
                        ],
                        [
                          0.4444444444444444,
                          "#bd3786"
                        ],
                        [
                          0.5555555555555556,
                          "#d8576b"
                        ],
                        [
                          0.6666666666666666,
                          "#ed7953"
                        ],
                        [
                          0.7777777777777778,
                          "#fb9f3a"
                        ],
                        [
                          0.8888888888888888,
                          "#fdca26"
                        ],
                        [
                          1,
                          "#f0f921"
                        ]
                      ],
                      "sequentialminus": [
                        [
                          0,
                          "#0d0887"
                        ],
                        [
                          0.1111111111111111,
                          "#46039f"
                        ],
                        [
                          0.2222222222222222,
                          "#7201a8"
                        ],
                        [
                          0.3333333333333333,
                          "#9c179e"
                        ],
                        [
                          0.4444444444444444,
                          "#bd3786"
                        ],
                        [
                          0.5555555555555556,
                          "#d8576b"
                        ],
                        [
                          0.6666666666666666,
                          "#ed7953"
                        ],
                        [
                          0.7777777777777778,
                          "#fb9f3a"
                        ],
                        [
                          0.8888888888888888,
                          "#fdca26"
                        ],
                        [
                          1,
                          "#f0f921"
                        ]
                      ]
                    },
                    "colorway": [
                      "#636efa",
                      "#EF553B",
                      "#00cc96",
                      "#ab63fa",
                      "#FFA15A",
                      "#19d3f3",
                      "#FF6692",
                      "#B6E880",
                      "#FF97FF",
                      "#FECB52"
                    ],
                    "font": {
                      "color": "#2a3f5f"
                    },
                    "geo": {
                      "bgcolor": "white",
                      "lakecolor": "white",
                      "landcolor": "#E5ECF6",
                      "showlakes": true,
                      "showland": true,
                      "subunitcolor": "white"
                    },
                    "hoverlabel": {
                      "align": "left"
                    },
                    "hovermode": "closest",
                    "mapbox": {
                      "style": "light"
                    },
                    "paper_bgcolor": "white",
                    "plot_bgcolor": "#E5ECF6",
                    "polar": {
                      "angularaxis": {
                        "gridcolor": "white",
                        "linecolor": "white",
                        "ticks": ""
                      },
                      "bgcolor": "#E5ECF6",
                      "radialaxis": {
                        "gridcolor": "white",
                        "linecolor": "white",
                        "ticks": ""
                      }
                    },
                    "scene": {
                      "xaxis": {
                        "backgroundcolor": "#E5ECF6",
                        "gridcolor": "white",
                        "gridwidth": 2,
                        "linecolor": "white",
                        "showbackground": true,
                        "ticks": "",
                        "zerolinecolor": "white"
                      },
                      "yaxis": {
                        "backgroundcolor": "#E5ECF6",
                        "gridcolor": "white",
                        "gridwidth": 2,
                        "linecolor": "white",
                        "showbackground": true,
                        "ticks": "",
                        "zerolinecolor": "white"
                      },
                      "zaxis": {
                        "backgroundcolor": "#E5ECF6",
                        "gridcolor": "white",
                        "gridwidth": 2,
                        "linecolor": "white",
                        "showbackground": true,
                        "ticks": "",
                        "zerolinecolor": "white"
                      }
                    },
                    "shapedefaults": {
                      "line": {
                        "color": "#2a3f5f"
                      }
                    },
                    "ternary": {
                      "aaxis": {
                        "gridcolor": "white",
                        "linecolor": "white",
                        "ticks": ""
                      },
                      "baxis": {
                        "gridcolor": "white",
                        "linecolor": "white",
                        "ticks": ""
                      },
                      "bgcolor": "#E5ECF6",
                      "caxis": {
                        "gridcolor": "white",
                        "linecolor": "white",
                        "ticks": ""
                      }
                    },
                    "title": {
                      "x": 0.05
                    },
                    "xaxis": {
                      "automargin": true,
                      "gridcolor": "white",
                      "linecolor": "white",
                      "ticks": "",
                      "title": {
                        "standoff": 15
                      },
                      "zerolinecolor": "white",
                      "zerolinewidth": 2
                    },
                    "yaxis": {
                      "automargin": true,
                      "gridcolor": "white",
                      "linecolor": "white",
                      "ticks": "",
                      "title": {
                        "standoff": 15
                      },
                      "zerolinecolor": "white",
                      "zerolinewidth": 2
                    }
                  }
                },
                "title": {
                  "font": {
                    "size": 24
                  },
                  "text": "Clusters auteur Layer 10"
                },
                "width": 1200,
                "xaxis": {
                  "anchor": "y",
                  "domain": [
                    0,
                    1
                  ],
                  "title": {
                    "text": "dim 1"
                  }
                },
                "yaxis": {
                  "anchor": "x",
                  "domain": [
                    0,
                    1
                  ],
                  "title": {
                    "text": "dim 2"
                  }
                }
              }
            }
          },
          "metadata": {},
          "output_type": "display_data"
        }
      ],
      "source": [
        "import pandas as pd\n",
        "import numpy as np\n",
        "from sklearn.decomposition import PCA\n",
        "from sklearn.cluster import KMeans\n",
        "from sklearn.metrics import silhouette_score\n",
        "import matplotlib.pyplot as plt\n",
        "from sklearn.cluster import KMeans\n",
        "import plotly.express as px\n",
        "from csv import writer\n",
        "from scipy.spatial.distance import pdist\n",
        "\n",
        "layers = ['10','11','12']\n",
        "\n",
        "for word in words:\n",
        "\n",
        "  w_df = pd.read_pickle('Results/Results_Pickles/'+word+'_'+language+'_'+model_name+'.pkl') #N.B. pickle files not included due to file size\n",
        "\n",
        "  for layer in layers:\n",
        "      X = np.array(w_df['embeddings_layer_'+layer].tolist()) # word_embeddings\n",
        "\n",
        "      pca = PCA(2)\n",
        "      df = pca.fit_transform(X)\n",
        "\n",
        "      word_embeddings = df\n",
        "\n",
        "      # Compute silhouette scores for different numbers of clusters\n",
        "      min_clusters = 2\n",
        "      max_clusters = 10\n",
        "      silhouette_scores = []\n",
        "\n",
        "      for k in range(min_clusters, max_clusters + 1):\n",
        "          kmeans = KMeans(n_clusters=k, random_state=0, n_init=10)\n",
        "          clusters = kmeans.fit_predict(word_embeddings)\n",
        "          score = silhouette_score(word_embeddings, clusters)\n",
        "          silhouette_scores.append(score)\n",
        "\n",
        "      # Compute within-cluster sum of squares (WCSS) for different numbers of clusters\n",
        "      min_clusters = 2\n",
        "      max_clusters = 6\n",
        "      wcss = []\n",
        "\n",
        "      for k in range(min_clusters, max_clusters + 1):\n",
        "          kmeans = KMeans(n_clusters=k, random_state=0,n_init=10)\n",
        "          kmeans.fit(word_embeddings)\n",
        "          wcss.append(kmeans.inertia_)\n",
        "\n",
        "      # saving the wcss to plot elbow plots\n",
        "      with open('Results/Other_Results/'+layer+'_en.csv','a') as elbow_csv:\n",
        "        el_writer = writer(elbow_csv)\n",
        "        el_writer.writerow([word,wcss])\n",
        "\n",
        "\n",
        "      # Create text annotations for each point\n",
        "      annotations = w_df['original'].tolist()\n",
        "\n",
        "      max_silhouette_clusters = silhouette_scores.index(max(silhouette_scores))+2\n",
        "\n",
        "      kmeans = KMeans(n_clusters = max_silhouette_clusters,n_init=10, random_state =0 )\n",
        "      clusters = kmeans.fit_predict(df)\n",
        "\n",
        "      # Plotting\n",
        "      # Creating a dataframe with embeddings and sentences\n",
        "      data = {'x': df[:, 0], 'y': df[:, 1], 'cluster': clusters, 'word': annotations}\n",
        "      sentence_df = pd.DataFrame(data)\n",
        "\n",
        "      # Create a scatter plot with hover annotations using Plotly\n",
        "      fig = px.scatter(sentence_df, x='x', y='y', color='cluster', hover_data=['word'], labels={'x': 'dim 1', 'y': 'dim 2'},width=1200, height=600)\n",
        "      fig.update_traces(marker=dict(size=10))\n",
        "\n",
        "      fig.update_layout(\n",
        "          title=\"Clusters \"+word+' Layer '+layer,\n",
        "          title_font_size=24,  # You can adjust the font size if needed\n",
        "          )\n",
        "\n",
        "      # Display the plot\n",
        "      fig.show()\n",
        "\n",
        "      # computing cosine distances for embeddings\n",
        "\n",
        "      # calculate cosine distances using pairwise distances\n",
        "      distances = pdist(X, metric='cosine')\n",
        "\n",
        "      # calculate the standard deviation\n",
        "      std_dev = np.std(distances)\n",
        "\n",
        "      # calculate mean distance\n",
        "      av = np.mean(distances)\n",
        "\n",
        "       # save results for each layer in different file, e.g. layer 10 one file, layer 11 another file etc., each csv\n",
        "      with open('Results/Other_Results/'+language+'_'+model_name+'_'+layer+'.csv','a') as cluster_data:\n",
        "        cluster_writer = writer(cluster_data)\n",
        "        cluster_writer.writerow([word, silhouette_scores, wcss, distances, std_dev, av])\n",
        "\n",
        "      # save cluster data to csv and excel for qualitative analysis\n",
        "      w_df['cluster'] = clusters\n",
        "      clusters = w_df.drop(columns = ['embeddings_layer_12','embeddings_layer_11','embeddings_layer_10','sentence_no'])\n",
        "      clusters.to_excel('Results/Other_Results/'+word+'_'+language+model_name+layer+'_cl.xlsx', index=False)"
      ]
    }
  ],
  "metadata": {
    "colab": {
      "provenance": []
    },
    "kernelspec": {
      "display_name": "Python 3",
      "name": "python3"
    },
    "language_info": {
      "codemirror_mode": {
        "name": "ipython",
        "version": 3
      },
      "file_extension": ".py",
      "mimetype": "text/x-python",
      "name": "python",
      "nbconvert_exporter": "python",
      "pygments_lexer": "ipython3",
      "version": "3.9.12"
    },
    "widgets": {
      "application/vnd.jupyter.widget-state+json": {
        "086148dc14574ee79fb616f64cf39c8e": {
          "model_module": "@jupyter-widgets/controls",
          "model_module_version": "1.5.0",
          "model_name": "HBoxModel",
          "state": {
            "_dom_classes": [],
            "_model_module": "@jupyter-widgets/controls",
            "_model_module_version": "1.5.0",
            "_model_name": "HBoxModel",
            "_view_count": null,
            "_view_module": "@jupyter-widgets/controls",
            "_view_module_version": "1.5.0",
            "_view_name": "HBoxView",
            "box_style": "",
            "children": [
              "IPY_MODEL_84e1c409294048d7ba8a8aad6634c41b",
              "IPY_MODEL_860d2bb297aa484b9a41a888274c10ca",
              "IPY_MODEL_9873fc1406d64227bebe9d5d9e39629a"
            ],
            "layout": "IPY_MODEL_eec1ddead6a74bf8b78f2e525727b27f"
          }
        },
        "12cec832b86349f482bdf56b90d74dfd": {
          "model_module": "@jupyter-widgets/controls",
          "model_module_version": "1.5.0",
          "model_name": "ProgressStyleModel",
          "state": {
            "_model_module": "@jupyter-widgets/controls",
            "_model_module_version": "1.5.0",
            "_model_name": "ProgressStyleModel",
            "_view_count": null,
            "_view_module": "@jupyter-widgets/base",
            "_view_module_version": "1.2.0",
            "_view_name": "StyleView",
            "bar_color": null,
            "description_width": ""
          }
        },
        "197cdaad0d7c42eb831cd363165994bc": {
          "model_module": "@jupyter-widgets/controls",
          "model_module_version": "1.5.0",
          "model_name": "DescriptionStyleModel",
          "state": {
            "_model_module": "@jupyter-widgets/controls",
            "_model_module_version": "1.5.0",
            "_model_name": "DescriptionStyleModel",
            "_view_count": null,
            "_view_module": "@jupyter-widgets/base",
            "_view_module_version": "1.2.0",
            "_view_name": "StyleView",
            "description_width": ""
          }
        },
        "20b25005eceb4e619dd68e56ac4c7df5": {
          "model_module": "@jupyter-widgets/base",
          "model_module_version": "1.2.0",
          "model_name": "LayoutModel",
          "state": {
            "_model_module": "@jupyter-widgets/base",
            "_model_module_version": "1.2.0",
            "_model_name": "LayoutModel",
            "_view_count": null,
            "_view_module": "@jupyter-widgets/base",
            "_view_module_version": "1.2.0",
            "_view_name": "LayoutView",
            "align_content": null,
            "align_items": null,
            "align_self": null,
            "border": null,
            "bottom": null,
            "display": null,
            "flex": null,
            "flex_flow": null,
            "grid_area": null,
            "grid_auto_columns": null,
            "grid_auto_flow": null,
            "grid_auto_rows": null,
            "grid_column": null,
            "grid_gap": null,
            "grid_row": null,
            "grid_template_areas": null,
            "grid_template_columns": null,
            "grid_template_rows": null,
            "height": null,
            "justify_content": null,
            "justify_items": null,
            "left": null,
            "margin": null,
            "max_height": null,
            "max_width": null,
            "min_height": null,
            "min_width": null,
            "object_fit": null,
            "object_position": null,
            "order": null,
            "overflow": null,
            "overflow_x": null,
            "overflow_y": null,
            "padding": null,
            "right": null,
            "top": null,
            "visibility": null,
            "width": null
          }
        },
        "2b01309c717d4dbab8bb8844fa9fb55c": {
          "model_module": "@jupyter-widgets/controls",
          "model_module_version": "1.5.0",
          "model_name": "DescriptionStyleModel",
          "state": {
            "_model_module": "@jupyter-widgets/controls",
            "_model_module_version": "1.5.0",
            "_model_name": "DescriptionStyleModel",
            "_view_count": null,
            "_view_module": "@jupyter-widgets/base",
            "_view_module_version": "1.2.0",
            "_view_name": "StyleView",
            "description_width": ""
          }
        },
        "2d829ff998e9421d951b13fc6b56d19b": {
          "model_module": "@jupyter-widgets/base",
          "model_module_version": "1.2.0",
          "model_name": "LayoutModel",
          "state": {
            "_model_module": "@jupyter-widgets/base",
            "_model_module_version": "1.2.0",
            "_model_name": "LayoutModel",
            "_view_count": null,
            "_view_module": "@jupyter-widgets/base",
            "_view_module_version": "1.2.0",
            "_view_name": "LayoutView",
            "align_content": null,
            "align_items": null,
            "align_self": null,
            "border": null,
            "bottom": null,
            "display": null,
            "flex": null,
            "flex_flow": null,
            "grid_area": null,
            "grid_auto_columns": null,
            "grid_auto_flow": null,
            "grid_auto_rows": null,
            "grid_column": null,
            "grid_gap": null,
            "grid_row": null,
            "grid_template_areas": null,
            "grid_template_columns": null,
            "grid_template_rows": null,
            "height": null,
            "justify_content": null,
            "justify_items": null,
            "left": null,
            "margin": null,
            "max_height": null,
            "max_width": null,
            "min_height": null,
            "min_width": null,
            "object_fit": null,
            "object_position": null,
            "order": null,
            "overflow": null,
            "overflow_x": null,
            "overflow_y": null,
            "padding": null,
            "right": null,
            "top": null,
            "visibility": null,
            "width": null
          }
        },
        "2f9b3f3d0b864427b43e9ff9252368e2": {
          "model_module": "@jupyter-widgets/base",
          "model_module_version": "1.2.0",
          "model_name": "LayoutModel",
          "state": {
            "_model_module": "@jupyter-widgets/base",
            "_model_module_version": "1.2.0",
            "_model_name": "LayoutModel",
            "_view_count": null,
            "_view_module": "@jupyter-widgets/base",
            "_view_module_version": "1.2.0",
            "_view_name": "LayoutView",
            "align_content": null,
            "align_items": null,
            "align_self": null,
            "border": null,
            "bottom": null,
            "display": null,
            "flex": null,
            "flex_flow": null,
            "grid_area": null,
            "grid_auto_columns": null,
            "grid_auto_flow": null,
            "grid_auto_rows": null,
            "grid_column": null,
            "grid_gap": null,
            "grid_row": null,
            "grid_template_areas": null,
            "grid_template_columns": null,
            "grid_template_rows": null,
            "height": null,
            "justify_content": null,
            "justify_items": null,
            "left": null,
            "margin": null,
            "max_height": null,
            "max_width": null,
            "min_height": null,
            "min_width": null,
            "object_fit": null,
            "object_position": null,
            "order": null,
            "overflow": null,
            "overflow_x": null,
            "overflow_y": null,
            "padding": null,
            "right": null,
            "top": null,
            "visibility": null,
            "width": null
          }
        },
        "39878ddacae64b99a62a13978300d9cc": {
          "model_module": "@jupyter-widgets/controls",
          "model_module_version": "1.5.0",
          "model_name": "ProgressStyleModel",
          "state": {
            "_model_module": "@jupyter-widgets/controls",
            "_model_module_version": "1.5.0",
            "_model_name": "ProgressStyleModel",
            "_view_count": null,
            "_view_module": "@jupyter-widgets/base",
            "_view_module_version": "1.2.0",
            "_view_name": "StyleView",
            "bar_color": null,
            "description_width": ""
          }
        },
        "39cdf9b2bf6849eca2e8a4e9716f7003": {
          "model_module": "@jupyter-widgets/base",
          "model_module_version": "1.2.0",
          "model_name": "LayoutModel",
          "state": {
            "_model_module": "@jupyter-widgets/base",
            "_model_module_version": "1.2.0",
            "_model_name": "LayoutModel",
            "_view_count": null,
            "_view_module": "@jupyter-widgets/base",
            "_view_module_version": "1.2.0",
            "_view_name": "LayoutView",
            "align_content": null,
            "align_items": null,
            "align_self": null,
            "border": null,
            "bottom": null,
            "display": null,
            "flex": null,
            "flex_flow": null,
            "grid_area": null,
            "grid_auto_columns": null,
            "grid_auto_flow": null,
            "grid_auto_rows": null,
            "grid_column": null,
            "grid_gap": null,
            "grid_row": null,
            "grid_template_areas": null,
            "grid_template_columns": null,
            "grid_template_rows": null,
            "height": null,
            "justify_content": null,
            "justify_items": null,
            "left": null,
            "margin": null,
            "max_height": null,
            "max_width": null,
            "min_height": null,
            "min_width": null,
            "object_fit": null,
            "object_position": null,
            "order": null,
            "overflow": null,
            "overflow_x": null,
            "overflow_y": null,
            "padding": null,
            "right": null,
            "top": null,
            "visibility": null,
            "width": null
          }
        },
        "3b41336a85654c49a5912a78d3150a0f": {
          "model_module": "@jupyter-widgets/controls",
          "model_module_version": "1.5.0",
          "model_name": "DescriptionStyleModel",
          "state": {
            "_model_module": "@jupyter-widgets/controls",
            "_model_module_version": "1.5.0",
            "_model_name": "DescriptionStyleModel",
            "_view_count": null,
            "_view_module": "@jupyter-widgets/base",
            "_view_module_version": "1.2.0",
            "_view_name": "StyleView",
            "description_width": ""
          }
        },
        "406fb4fbe9224e1a84fce348906be6e9": {
          "model_module": "@jupyter-widgets/controls",
          "model_module_version": "1.5.0",
          "model_name": "FloatProgressModel",
          "state": {
            "_dom_classes": [],
            "_model_module": "@jupyter-widgets/controls",
            "_model_module_version": "1.5.0",
            "_model_name": "FloatProgressModel",
            "_view_count": null,
            "_view_module": "@jupyter-widgets/controls",
            "_view_module_version": "1.5.0",
            "_view_name": "ProgressView",
            "bar_style": "success",
            "description": "",
            "description_tooltip": null,
            "layout": "IPY_MODEL_20b25005eceb4e619dd68e56ac4c7df5",
            "max": 871891,
            "min": 0,
            "orientation": "horizontal",
            "style": "IPY_MODEL_dc8edfd08bc54c43b0651de2d8621bc2",
            "value": 871891
          }
        },
        "46cfbb6b0fbd46d8b015124d7171104e": {
          "model_module": "@jupyter-widgets/controls",
          "model_module_version": "1.5.0",
          "model_name": "HTMLModel",
          "state": {
            "_dom_classes": [],
            "_model_module": "@jupyter-widgets/controls",
            "_model_module_version": "1.5.0",
            "_model_name": "HTMLModel",
            "_view_count": null,
            "_view_module": "@jupyter-widgets/controls",
            "_view_module_version": "1.5.0",
            "_view_name": "HTMLView",
            "description": "",
            "description_tooltip": null,
            "layout": "IPY_MODEL_7c0bf10984114a748231e643814fec44",
            "placeholder": "​",
            "style": "IPY_MODEL_2b01309c717d4dbab8bb8844fa9fb55c",
            "value": "Downloading model.safetensors: 100%"
          }
        },
        "4d0540f632ed4463bef23469b7c48fc5": {
          "model_module": "@jupyter-widgets/base",
          "model_module_version": "1.2.0",
          "model_name": "LayoutModel",
          "state": {
            "_model_module": "@jupyter-widgets/base",
            "_model_module_version": "1.2.0",
            "_model_name": "LayoutModel",
            "_view_count": null,
            "_view_module": "@jupyter-widgets/base",
            "_view_module_version": "1.2.0",
            "_view_name": "LayoutView",
            "align_content": null,
            "align_items": null,
            "align_self": null,
            "border": null,
            "bottom": null,
            "display": null,
            "flex": null,
            "flex_flow": null,
            "grid_area": null,
            "grid_auto_columns": null,
            "grid_auto_flow": null,
            "grid_auto_rows": null,
            "grid_column": null,
            "grid_gap": null,
            "grid_row": null,
            "grid_template_areas": null,
            "grid_template_columns": null,
            "grid_template_rows": null,
            "height": null,
            "justify_content": null,
            "justify_items": null,
            "left": null,
            "margin": null,
            "max_height": null,
            "max_width": null,
            "min_height": null,
            "min_width": null,
            "object_fit": null,
            "object_position": null,
            "order": null,
            "overflow": null,
            "overflow_x": null,
            "overflow_y": null,
            "padding": null,
            "right": null,
            "top": null,
            "visibility": null,
            "width": null
          }
        },
        "5a00d0e9534c4b3caaa8ebd4e25be0f0": {
          "model_module": "@jupyter-widgets/controls",
          "model_module_version": "1.5.0",
          "model_name": "ProgressStyleModel",
          "state": {
            "_model_module": "@jupyter-widgets/controls",
            "_model_module_version": "1.5.0",
            "_model_name": "ProgressStyleModel",
            "_view_count": null,
            "_view_module": "@jupyter-widgets/base",
            "_view_module_version": "1.2.0",
            "_view_name": "StyleView",
            "bar_color": null,
            "description_width": ""
          }
        },
        "5d2041638a7243c29d71464fbd3f96cf": {
          "model_module": "@jupyter-widgets/base",
          "model_module_version": "1.2.0",
          "model_name": "LayoutModel",
          "state": {
            "_model_module": "@jupyter-widgets/base",
            "_model_module_version": "1.2.0",
            "_model_name": "LayoutModel",
            "_view_count": null,
            "_view_module": "@jupyter-widgets/base",
            "_view_module_version": "1.2.0",
            "_view_name": "LayoutView",
            "align_content": null,
            "align_items": null,
            "align_self": null,
            "border": null,
            "bottom": null,
            "display": null,
            "flex": null,
            "flex_flow": null,
            "grid_area": null,
            "grid_auto_columns": null,
            "grid_auto_flow": null,
            "grid_auto_rows": null,
            "grid_column": null,
            "grid_gap": null,
            "grid_row": null,
            "grid_template_areas": null,
            "grid_template_columns": null,
            "grid_template_rows": null,
            "height": null,
            "justify_content": null,
            "justify_items": null,
            "left": null,
            "margin": null,
            "max_height": null,
            "max_width": null,
            "min_height": null,
            "min_width": null,
            "object_fit": null,
            "object_position": null,
            "order": null,
            "overflow": null,
            "overflow_x": null,
            "overflow_y": null,
            "padding": null,
            "right": null,
            "top": null,
            "visibility": null,
            "width": null
          }
        },
        "6138de7bfc994d2c978d783371a7c710": {
          "model_module": "@jupyter-widgets/base",
          "model_module_version": "1.2.0",
          "model_name": "LayoutModel",
          "state": {
            "_model_module": "@jupyter-widgets/base",
            "_model_module_version": "1.2.0",
            "_model_name": "LayoutModel",
            "_view_count": null,
            "_view_module": "@jupyter-widgets/base",
            "_view_module_version": "1.2.0",
            "_view_name": "LayoutView",
            "align_content": null,
            "align_items": null,
            "align_self": null,
            "border": null,
            "bottom": null,
            "display": null,
            "flex": null,
            "flex_flow": null,
            "grid_area": null,
            "grid_auto_columns": null,
            "grid_auto_flow": null,
            "grid_auto_rows": null,
            "grid_column": null,
            "grid_gap": null,
            "grid_row": null,
            "grid_template_areas": null,
            "grid_template_columns": null,
            "grid_template_rows": null,
            "height": null,
            "justify_content": null,
            "justify_items": null,
            "left": null,
            "margin": null,
            "max_height": null,
            "max_width": null,
            "min_height": null,
            "min_width": null,
            "object_fit": null,
            "object_position": null,
            "order": null,
            "overflow": null,
            "overflow_x": null,
            "overflow_y": null,
            "padding": null,
            "right": null,
            "top": null,
            "visibility": null,
            "width": null
          }
        },
        "61b94dfe49314f598f3563f9d9548af7": {
          "model_module": "@jupyter-widgets/controls",
          "model_module_version": "1.5.0",
          "model_name": "HTMLModel",
          "state": {
            "_dom_classes": [],
            "_model_module": "@jupyter-widgets/controls",
            "_model_module_version": "1.5.0",
            "_model_name": "HTMLModel",
            "_view_count": null,
            "_view_module": "@jupyter-widgets/controls",
            "_view_module_version": "1.5.0",
            "_view_name": "HTMLView",
            "description": "",
            "description_tooltip": null,
            "layout": "IPY_MODEL_e41f7984378b42b09a8707ce3c50e152",
            "placeholder": "​",
            "style": "IPY_MODEL_97903cf0d35b4d2eba463dc42650be46",
            "value": "Downloading (…)lve/main/config.json: 100%"
          }
        },
        "70470d7015c44732828103f876f0c29b": {
          "model_module": "@jupyter-widgets/controls",
          "model_module_version": "1.5.0",
          "model_name": "DescriptionStyleModel",
          "state": {
            "_model_module": "@jupyter-widgets/controls",
            "_model_module_version": "1.5.0",
            "_model_name": "DescriptionStyleModel",
            "_view_count": null,
            "_view_module": "@jupyter-widgets/base",
            "_view_module_version": "1.2.0",
            "_view_name": "StyleView",
            "description_width": ""
          }
        },
        "7c0bf10984114a748231e643814fec44": {
          "model_module": "@jupyter-widgets/base",
          "model_module_version": "1.2.0",
          "model_name": "LayoutModel",
          "state": {
            "_model_module": "@jupyter-widgets/base",
            "_model_module_version": "1.2.0",
            "_model_name": "LayoutModel",
            "_view_count": null,
            "_view_module": "@jupyter-widgets/base",
            "_view_module_version": "1.2.0",
            "_view_name": "LayoutView",
            "align_content": null,
            "align_items": null,
            "align_self": null,
            "border": null,
            "bottom": null,
            "display": null,
            "flex": null,
            "flex_flow": null,
            "grid_area": null,
            "grid_auto_columns": null,
            "grid_auto_flow": null,
            "grid_auto_rows": null,
            "grid_column": null,
            "grid_gap": null,
            "grid_row": null,
            "grid_template_areas": null,
            "grid_template_columns": null,
            "grid_template_rows": null,
            "height": null,
            "justify_content": null,
            "justify_items": null,
            "left": null,
            "margin": null,
            "max_height": null,
            "max_width": null,
            "min_height": null,
            "min_width": null,
            "object_fit": null,
            "object_position": null,
            "order": null,
            "overflow": null,
            "overflow_x": null,
            "overflow_y": null,
            "padding": null,
            "right": null,
            "top": null,
            "visibility": null,
            "width": null
          }
        },
        "7e8d7f3301e04d2eb46adc44947cd955": {
          "model_module": "@jupyter-widgets/controls",
          "model_module_version": "1.5.0",
          "model_name": "FloatProgressModel",
          "state": {
            "_dom_classes": [],
            "_model_module": "@jupyter-widgets/controls",
            "_model_module_version": "1.5.0",
            "_model_name": "FloatProgressModel",
            "_view_count": null,
            "_view_module": "@jupyter-widgets/controls",
            "_view_module_version": "1.5.0",
            "_view_name": "ProgressView",
            "bar_style": "success",
            "description": "",
            "description_tooltip": null,
            "layout": "IPY_MODEL_c0f49003ac114d66962c8955f29b1c0c",
            "max": 672247920,
            "min": 0,
            "orientation": "horizontal",
            "style": "IPY_MODEL_12cec832b86349f482bdf56b90d74dfd",
            "value": 672247920
          }
        },
        "84e1c409294048d7ba8a8aad6634c41b": {
          "model_module": "@jupyter-widgets/controls",
          "model_module_version": "1.5.0",
          "model_name": "HTMLModel",
          "state": {
            "_dom_classes": [],
            "_model_module": "@jupyter-widgets/controls",
            "_model_module_version": "1.5.0",
            "_model_name": "HTMLModel",
            "_view_count": null,
            "_view_module": "@jupyter-widgets/controls",
            "_view_module_version": "1.5.0",
            "_view_name": "HTMLView",
            "description": "",
            "description_tooltip": null,
            "layout": "IPY_MODEL_5d2041638a7243c29d71464fbd3f96cf",
            "placeholder": "​",
            "style": "IPY_MODEL_cb068f9f316f446ab89a14821c42b006",
            "value": "Downloading (…)okenizer_config.json: 100%"
          }
        },
        "860d2bb297aa484b9a41a888274c10ca": {
          "model_module": "@jupyter-widgets/controls",
          "model_module_version": "1.5.0",
          "model_name": "FloatProgressModel",
          "state": {
            "_dom_classes": [],
            "_model_module": "@jupyter-widgets/controls",
            "_model_module_version": "1.5.0",
            "_model_name": "FloatProgressModel",
            "_view_count": null,
            "_view_module": "@jupyter-widgets/controls",
            "_view_module_version": "1.5.0",
            "_view_name": "ProgressView",
            "bar_style": "success",
            "description": "",
            "description_tooltip": null,
            "layout": "IPY_MODEL_a8edb8b8fd0e4117943801c5c6fb9343",
            "max": 28,
            "min": 0,
            "orientation": "horizontal",
            "style": "IPY_MODEL_5a00d0e9534c4b3caaa8ebd4e25be0f0",
            "value": 28
          }
        },
        "861dca6ec6b74017bad2d12b5ea3efad": {
          "model_module": "@jupyter-widgets/controls",
          "model_module_version": "1.5.0",
          "model_name": "HTMLModel",
          "state": {
            "_dom_classes": [],
            "_model_module": "@jupyter-widgets/controls",
            "_model_module_version": "1.5.0",
            "_model_name": "HTMLModel",
            "_view_count": null,
            "_view_module": "@jupyter-widgets/controls",
            "_view_module_version": "1.5.0",
            "_view_name": "HTMLView",
            "description": "",
            "description_tooltip": null,
            "layout": "IPY_MODEL_4d0540f632ed4463bef23469b7c48fc5",
            "placeholder": "​",
            "style": "IPY_MODEL_3b41336a85654c49a5912a78d3150a0f",
            "value": " 872k/872k [00:00&lt;00:00, 12.0MB/s]"
          }
        },
        "8a09c404074f4daabe22f8c663a5afbc": {
          "model_module": "@jupyter-widgets/base",
          "model_module_version": "1.2.0",
          "model_name": "LayoutModel",
          "state": {
            "_model_module": "@jupyter-widgets/base",
            "_model_module_version": "1.2.0",
            "_model_name": "LayoutModel",
            "_view_count": null,
            "_view_module": "@jupyter-widgets/base",
            "_view_module_version": "1.2.0",
            "_view_name": "LayoutView",
            "align_content": null,
            "align_items": null,
            "align_self": null,
            "border": null,
            "bottom": null,
            "display": null,
            "flex": null,
            "flex_flow": null,
            "grid_area": null,
            "grid_auto_columns": null,
            "grid_auto_flow": null,
            "grid_auto_rows": null,
            "grid_column": null,
            "grid_gap": null,
            "grid_row": null,
            "grid_template_areas": null,
            "grid_template_columns": null,
            "grid_template_rows": null,
            "height": null,
            "justify_content": null,
            "justify_items": null,
            "left": null,
            "margin": null,
            "max_height": null,
            "max_width": null,
            "min_height": null,
            "min_width": null,
            "object_fit": null,
            "object_position": null,
            "order": null,
            "overflow": null,
            "overflow_x": null,
            "overflow_y": null,
            "padding": null,
            "right": null,
            "top": null,
            "visibility": null,
            "width": null
          }
        },
        "8fd92311c3604e1387ad24b31b606a21": {
          "model_module": "@jupyter-widgets/controls",
          "model_module_version": "1.5.0",
          "model_name": "DescriptionStyleModel",
          "state": {
            "_model_module": "@jupyter-widgets/controls",
            "_model_module_version": "1.5.0",
            "_model_name": "DescriptionStyleModel",
            "_view_count": null,
            "_view_module": "@jupyter-widgets/base",
            "_view_module_version": "1.2.0",
            "_view_name": "StyleView",
            "description_width": ""
          }
        },
        "95ec90577eca4f6b8146eed1201952df": {
          "model_module": "@jupyter-widgets/controls",
          "model_module_version": "1.5.0",
          "model_name": "HBoxModel",
          "state": {
            "_dom_classes": [],
            "_model_module": "@jupyter-widgets/controls",
            "_model_module_version": "1.5.0",
            "_model_name": "HBoxModel",
            "_view_count": null,
            "_view_module": "@jupyter-widgets/controls",
            "_view_module_version": "1.5.0",
            "_view_name": "HBoxView",
            "box_style": "",
            "children": [
              "IPY_MODEL_46cfbb6b0fbd46d8b015124d7171104e",
              "IPY_MODEL_7e8d7f3301e04d2eb46adc44947cd955",
              "IPY_MODEL_c0c6ded698d04d978d966cfe7ccd0081"
            ],
            "layout": "IPY_MODEL_6138de7bfc994d2c978d783371a7c710"
          }
        },
        "97903cf0d35b4d2eba463dc42650be46": {
          "model_module": "@jupyter-widgets/controls",
          "model_module_version": "1.5.0",
          "model_name": "DescriptionStyleModel",
          "state": {
            "_model_module": "@jupyter-widgets/controls",
            "_model_module_version": "1.5.0",
            "_model_name": "DescriptionStyleModel",
            "_view_count": null,
            "_view_module": "@jupyter-widgets/base",
            "_view_module_version": "1.2.0",
            "_view_name": "StyleView",
            "description_width": ""
          }
        },
        "9873fc1406d64227bebe9d5d9e39629a": {
          "model_module": "@jupyter-widgets/controls",
          "model_module_version": "1.5.0",
          "model_name": "HTMLModel",
          "state": {
            "_dom_classes": [],
            "_model_module": "@jupyter-widgets/controls",
            "_model_module_version": "1.5.0",
            "_model_name": "HTMLModel",
            "_view_count": null,
            "_view_module": "@jupyter-widgets/controls",
            "_view_module_version": "1.5.0",
            "_view_name": "HTMLView",
            "description": "",
            "description_tooltip": null,
            "layout": "IPY_MODEL_39cdf9b2bf6849eca2e8a4e9716f7003",
            "placeholder": "​",
            "style": "IPY_MODEL_8fd92311c3604e1387ad24b31b606a21",
            "value": " 28.0/28.0 [00:00&lt;00:00, 715B/s]"
          }
        },
        "9e6440cf4348402084a51a9bd6de71f8": {
          "model_module": "@jupyter-widgets/controls",
          "model_module_version": "1.5.0",
          "model_name": "HBoxModel",
          "state": {
            "_dom_classes": [],
            "_model_module": "@jupyter-widgets/controls",
            "_model_module_version": "1.5.0",
            "_model_name": "HBoxModel",
            "_view_count": null,
            "_view_module": "@jupyter-widgets/controls",
            "_view_module_version": "1.5.0",
            "_view_name": "HBoxView",
            "box_style": "",
            "children": [
              "IPY_MODEL_ccd2d8b380994230bbf18a49de3203e5",
              "IPY_MODEL_406fb4fbe9224e1a84fce348906be6e9",
              "IPY_MODEL_861dca6ec6b74017bad2d12b5ea3efad"
            ],
            "layout": "IPY_MODEL_2f9b3f3d0b864427b43e9ff9252368e2"
          }
        },
        "9f9578311a0548b2a0d588bf104c6f23": {
          "model_module": "@jupyter-widgets/controls",
          "model_module_version": "1.5.0",
          "model_name": "DescriptionStyleModel",
          "state": {
            "_model_module": "@jupyter-widgets/controls",
            "_model_module_version": "1.5.0",
            "_model_name": "DescriptionStyleModel",
            "_view_count": null,
            "_view_module": "@jupyter-widgets/base",
            "_view_module_version": "1.2.0",
            "_view_name": "StyleView",
            "description_width": ""
          }
        },
        "a8edb8b8fd0e4117943801c5c6fb9343": {
          "model_module": "@jupyter-widgets/base",
          "model_module_version": "1.2.0",
          "model_name": "LayoutModel",
          "state": {
            "_model_module": "@jupyter-widgets/base",
            "_model_module_version": "1.2.0",
            "_model_name": "LayoutModel",
            "_view_count": null,
            "_view_module": "@jupyter-widgets/base",
            "_view_module_version": "1.2.0",
            "_view_name": "LayoutView",
            "align_content": null,
            "align_items": null,
            "align_self": null,
            "border": null,
            "bottom": null,
            "display": null,
            "flex": null,
            "flex_flow": null,
            "grid_area": null,
            "grid_auto_columns": null,
            "grid_auto_flow": null,
            "grid_auto_rows": null,
            "grid_column": null,
            "grid_gap": null,
            "grid_row": null,
            "grid_template_areas": null,
            "grid_template_columns": null,
            "grid_template_rows": null,
            "height": null,
            "justify_content": null,
            "justify_items": null,
            "left": null,
            "margin": null,
            "max_height": null,
            "max_width": null,
            "min_height": null,
            "min_width": null,
            "object_fit": null,
            "object_position": null,
            "order": null,
            "overflow": null,
            "overflow_x": null,
            "overflow_y": null,
            "padding": null,
            "right": null,
            "top": null,
            "visibility": null,
            "width": null
          }
        },
        "afd12bd05d284c34970e1ad2da964c2e": {
          "model_module": "@jupyter-widgets/controls",
          "model_module_version": "1.5.0",
          "model_name": "HTMLModel",
          "state": {
            "_dom_classes": [],
            "_model_module": "@jupyter-widgets/controls",
            "_model_module_version": "1.5.0",
            "_model_name": "HTMLModel",
            "_view_count": null,
            "_view_module": "@jupyter-widgets/controls",
            "_view_module_version": "1.5.0",
            "_view_name": "HTMLView",
            "description": "",
            "description_tooltip": null,
            "layout": "IPY_MODEL_bc7543fcf8cd49aeb632f868d09809ae",
            "placeholder": "​",
            "style": "IPY_MODEL_70470d7015c44732828103f876f0c29b",
            "value": " 625/625 [00:00&lt;00:00, 20.5kB/s]"
          }
        },
        "b1802dd74210449f831c4840bb82de01": {
          "model_module": "@jupyter-widgets/controls",
          "model_module_version": "1.5.0",
          "model_name": "HBoxModel",
          "state": {
            "_dom_classes": [],
            "_model_module": "@jupyter-widgets/controls",
            "_model_module_version": "1.5.0",
            "_model_name": "HBoxModel",
            "_view_count": null,
            "_view_module": "@jupyter-widgets/controls",
            "_view_module_version": "1.5.0",
            "_view_name": "HBoxView",
            "box_style": "",
            "children": [
              "IPY_MODEL_61b94dfe49314f598f3563f9d9548af7",
              "IPY_MODEL_e48cb8915c2e4d09bf1936891bd290d7",
              "IPY_MODEL_afd12bd05d284c34970e1ad2da964c2e"
            ],
            "layout": "IPY_MODEL_bbb64a06df97422fbdf7ef95d368727d"
          }
        },
        "bbb64a06df97422fbdf7ef95d368727d": {
          "model_module": "@jupyter-widgets/base",
          "model_module_version": "1.2.0",
          "model_name": "LayoutModel",
          "state": {
            "_model_module": "@jupyter-widgets/base",
            "_model_module_version": "1.2.0",
            "_model_name": "LayoutModel",
            "_view_count": null,
            "_view_module": "@jupyter-widgets/base",
            "_view_module_version": "1.2.0",
            "_view_name": "LayoutView",
            "align_content": null,
            "align_items": null,
            "align_self": null,
            "border": null,
            "bottom": null,
            "display": null,
            "flex": null,
            "flex_flow": null,
            "grid_area": null,
            "grid_auto_columns": null,
            "grid_auto_flow": null,
            "grid_auto_rows": null,
            "grid_column": null,
            "grid_gap": null,
            "grid_row": null,
            "grid_template_areas": null,
            "grid_template_columns": null,
            "grid_template_rows": null,
            "height": null,
            "justify_content": null,
            "justify_items": null,
            "left": null,
            "margin": null,
            "max_height": null,
            "max_width": null,
            "min_height": null,
            "min_width": null,
            "object_fit": null,
            "object_position": null,
            "order": null,
            "overflow": null,
            "overflow_x": null,
            "overflow_y": null,
            "padding": null,
            "right": null,
            "top": null,
            "visibility": null,
            "width": null
          }
        },
        "bc7543fcf8cd49aeb632f868d09809ae": {
          "model_module": "@jupyter-widgets/base",
          "model_module_version": "1.2.0",
          "model_name": "LayoutModel",
          "state": {
            "_model_module": "@jupyter-widgets/base",
            "_model_module_version": "1.2.0",
            "_model_name": "LayoutModel",
            "_view_count": null,
            "_view_module": "@jupyter-widgets/base",
            "_view_module_version": "1.2.0",
            "_view_name": "LayoutView",
            "align_content": null,
            "align_items": null,
            "align_self": null,
            "border": null,
            "bottom": null,
            "display": null,
            "flex": null,
            "flex_flow": null,
            "grid_area": null,
            "grid_auto_columns": null,
            "grid_auto_flow": null,
            "grid_auto_rows": null,
            "grid_column": null,
            "grid_gap": null,
            "grid_row": null,
            "grid_template_areas": null,
            "grid_template_columns": null,
            "grid_template_rows": null,
            "height": null,
            "justify_content": null,
            "justify_items": null,
            "left": null,
            "margin": null,
            "max_height": null,
            "max_width": null,
            "min_height": null,
            "min_width": null,
            "object_fit": null,
            "object_position": null,
            "order": null,
            "overflow": null,
            "overflow_x": null,
            "overflow_y": null,
            "padding": null,
            "right": null,
            "top": null,
            "visibility": null,
            "width": null
          }
        },
        "c0c6ded698d04d978d966cfe7ccd0081": {
          "model_module": "@jupyter-widgets/controls",
          "model_module_version": "1.5.0",
          "model_name": "HTMLModel",
          "state": {
            "_dom_classes": [],
            "_model_module": "@jupyter-widgets/controls",
            "_model_module_version": "1.5.0",
            "_model_name": "HTMLModel",
            "_view_count": null,
            "_view_module": "@jupyter-widgets/controls",
            "_view_module_version": "1.5.0",
            "_view_name": "HTMLView",
            "description": "",
            "description_tooltip": null,
            "layout": "IPY_MODEL_8a09c404074f4daabe22f8c663a5afbc",
            "placeholder": "​",
            "style": "IPY_MODEL_9f9578311a0548b2a0d588bf104c6f23",
            "value": " 672M/672M [00:02&lt;00:00, 231MB/s]"
          }
        },
        "c0f49003ac114d66962c8955f29b1c0c": {
          "model_module": "@jupyter-widgets/base",
          "model_module_version": "1.2.0",
          "model_name": "LayoutModel",
          "state": {
            "_model_module": "@jupyter-widgets/base",
            "_model_module_version": "1.2.0",
            "_model_name": "LayoutModel",
            "_view_count": null,
            "_view_module": "@jupyter-widgets/base",
            "_view_module_version": "1.2.0",
            "_view_name": "LayoutView",
            "align_content": null,
            "align_items": null,
            "align_self": null,
            "border": null,
            "bottom": null,
            "display": null,
            "flex": null,
            "flex_flow": null,
            "grid_area": null,
            "grid_auto_columns": null,
            "grid_auto_flow": null,
            "grid_auto_rows": null,
            "grid_column": null,
            "grid_gap": null,
            "grid_row": null,
            "grid_template_areas": null,
            "grid_template_columns": null,
            "grid_template_rows": null,
            "height": null,
            "justify_content": null,
            "justify_items": null,
            "left": null,
            "margin": null,
            "max_height": null,
            "max_width": null,
            "min_height": null,
            "min_width": null,
            "object_fit": null,
            "object_position": null,
            "order": null,
            "overflow": null,
            "overflow_x": null,
            "overflow_y": null,
            "padding": null,
            "right": null,
            "top": null,
            "visibility": null,
            "width": null
          }
        },
        "cb068f9f316f446ab89a14821c42b006": {
          "model_module": "@jupyter-widgets/controls",
          "model_module_version": "1.5.0",
          "model_name": "DescriptionStyleModel",
          "state": {
            "_model_module": "@jupyter-widgets/controls",
            "_model_module_version": "1.5.0",
            "_model_name": "DescriptionStyleModel",
            "_view_count": null,
            "_view_module": "@jupyter-widgets/base",
            "_view_module_version": "1.2.0",
            "_view_name": "StyleView",
            "description_width": ""
          }
        },
        "ccd2d8b380994230bbf18a49de3203e5": {
          "model_module": "@jupyter-widgets/controls",
          "model_module_version": "1.5.0",
          "model_name": "HTMLModel",
          "state": {
            "_dom_classes": [],
            "_model_module": "@jupyter-widgets/controls",
            "_model_module_version": "1.5.0",
            "_model_name": "HTMLModel",
            "_view_count": null,
            "_view_module": "@jupyter-widgets/controls",
            "_view_module_version": "1.5.0",
            "_view_name": "HTMLView",
            "description": "",
            "description_tooltip": null,
            "layout": "IPY_MODEL_2d829ff998e9421d951b13fc6b56d19b",
            "placeholder": "​",
            "style": "IPY_MODEL_197cdaad0d7c42eb831cd363165994bc",
            "value": "Downloading (…)solve/main/vocab.txt: 100%"
          }
        },
        "d1676345df794ec1860d22cfa09a9520": {
          "model_module": "@jupyter-widgets/base",
          "model_module_version": "1.2.0",
          "model_name": "LayoutModel",
          "state": {
            "_model_module": "@jupyter-widgets/base",
            "_model_module_version": "1.2.0",
            "_model_name": "LayoutModel",
            "_view_count": null,
            "_view_module": "@jupyter-widgets/base",
            "_view_module_version": "1.2.0",
            "_view_name": "LayoutView",
            "align_content": null,
            "align_items": null,
            "align_self": null,
            "border": null,
            "bottom": null,
            "display": null,
            "flex": null,
            "flex_flow": null,
            "grid_area": null,
            "grid_auto_columns": null,
            "grid_auto_flow": null,
            "grid_auto_rows": null,
            "grid_column": null,
            "grid_gap": null,
            "grid_row": null,
            "grid_template_areas": null,
            "grid_template_columns": null,
            "grid_template_rows": null,
            "height": null,
            "justify_content": null,
            "justify_items": null,
            "left": null,
            "margin": null,
            "max_height": null,
            "max_width": null,
            "min_height": null,
            "min_width": null,
            "object_fit": null,
            "object_position": null,
            "order": null,
            "overflow": null,
            "overflow_x": null,
            "overflow_y": null,
            "padding": null,
            "right": null,
            "top": null,
            "visibility": null,
            "width": null
          }
        },
        "dc8edfd08bc54c43b0651de2d8621bc2": {
          "model_module": "@jupyter-widgets/controls",
          "model_module_version": "1.5.0",
          "model_name": "ProgressStyleModel",
          "state": {
            "_model_module": "@jupyter-widgets/controls",
            "_model_module_version": "1.5.0",
            "_model_name": "ProgressStyleModel",
            "_view_count": null,
            "_view_module": "@jupyter-widgets/base",
            "_view_module_version": "1.2.0",
            "_view_name": "StyleView",
            "bar_color": null,
            "description_width": ""
          }
        },
        "e41f7984378b42b09a8707ce3c50e152": {
          "model_module": "@jupyter-widgets/base",
          "model_module_version": "1.2.0",
          "model_name": "LayoutModel",
          "state": {
            "_model_module": "@jupyter-widgets/base",
            "_model_module_version": "1.2.0",
            "_model_name": "LayoutModel",
            "_view_count": null,
            "_view_module": "@jupyter-widgets/base",
            "_view_module_version": "1.2.0",
            "_view_name": "LayoutView",
            "align_content": null,
            "align_items": null,
            "align_self": null,
            "border": null,
            "bottom": null,
            "display": null,
            "flex": null,
            "flex_flow": null,
            "grid_area": null,
            "grid_auto_columns": null,
            "grid_auto_flow": null,
            "grid_auto_rows": null,
            "grid_column": null,
            "grid_gap": null,
            "grid_row": null,
            "grid_template_areas": null,
            "grid_template_columns": null,
            "grid_template_rows": null,
            "height": null,
            "justify_content": null,
            "justify_items": null,
            "left": null,
            "margin": null,
            "max_height": null,
            "max_width": null,
            "min_height": null,
            "min_width": null,
            "object_fit": null,
            "object_position": null,
            "order": null,
            "overflow": null,
            "overflow_x": null,
            "overflow_y": null,
            "padding": null,
            "right": null,
            "top": null,
            "visibility": null,
            "width": null
          }
        },
        "e48cb8915c2e4d09bf1936891bd290d7": {
          "model_module": "@jupyter-widgets/controls",
          "model_module_version": "1.5.0",
          "model_name": "FloatProgressModel",
          "state": {
            "_dom_classes": [],
            "_model_module": "@jupyter-widgets/controls",
            "_model_module_version": "1.5.0",
            "_model_name": "FloatProgressModel",
            "_view_count": null,
            "_view_module": "@jupyter-widgets/controls",
            "_view_module_version": "1.5.0",
            "_view_name": "ProgressView",
            "bar_style": "success",
            "description": "",
            "description_tooltip": null,
            "layout": "IPY_MODEL_d1676345df794ec1860d22cfa09a9520",
            "max": 625,
            "min": 0,
            "orientation": "horizontal",
            "style": "IPY_MODEL_39878ddacae64b99a62a13978300d9cc",
            "value": 625
          }
        },
        "eec1ddead6a74bf8b78f2e525727b27f": {
          "model_module": "@jupyter-widgets/base",
          "model_module_version": "1.2.0",
          "model_name": "LayoutModel",
          "state": {
            "_model_module": "@jupyter-widgets/base",
            "_model_module_version": "1.2.0",
            "_model_name": "LayoutModel",
            "_view_count": null,
            "_view_module": "@jupyter-widgets/base",
            "_view_module_version": "1.2.0",
            "_view_name": "LayoutView",
            "align_content": null,
            "align_items": null,
            "align_self": null,
            "border": null,
            "bottom": null,
            "display": null,
            "flex": null,
            "flex_flow": null,
            "grid_area": null,
            "grid_auto_columns": null,
            "grid_auto_flow": null,
            "grid_auto_rows": null,
            "grid_column": null,
            "grid_gap": null,
            "grid_row": null,
            "grid_template_areas": null,
            "grid_template_columns": null,
            "grid_template_rows": null,
            "height": null,
            "justify_content": null,
            "justify_items": null,
            "left": null,
            "margin": null,
            "max_height": null,
            "max_width": null,
            "min_height": null,
            "min_width": null,
            "object_fit": null,
            "object_position": null,
            "order": null,
            "overflow": null,
            "overflow_x": null,
            "overflow_y": null,
            "padding": null,
            "right": null,
            "top": null,
            "visibility": null,
            "width": null
          }
        }
      }
    }
  },
  "nbformat": 4,
  "nbformat_minor": 0
}
