{
  "cells": [
    {
      "cell_type": "markdown",
      "metadata": {},
      "source": [
        "### Code to plot comparison clusters of words on one graph"
      ]
    },
    {
      "cell_type": "code",
      "execution_count": 1,
      "metadata": {
        "colab": {
          "base_uri": "https://localhost:8080/"
        },
        "id": "4AG_WwbDdvT0",
        "outputId": "daaa3e41-6348-4941-d9de-79da1fd84d7a"
      },
      "outputs": [],
      "source": [
        "# from google.colab import drive\n",
        "# drive.mount('/drive')"
      ]
    },
    {
      "cell_type": "code",
      "execution_count": 2,
      "metadata": {
        "id": "jfHieNgUebgn"
      },
      "outputs": [],
      "source": [
        "word = 'chanson'\n",
        "translation = 'song'\n",
        "# extra = 'tune'\n",
        "# extra2 = 'melody'\n",
        "data_length = 500\n",
        "language = 'en'\n",
        "layer = '12'\n",
        "model_name = 'bert-base-uncased'\n",
        "model_size = 512"
      ]
    },
    {
      "cell_type": "code",
      "execution_count": 3,
      "metadata": {
        "id": "zxb5nbFr0sHq"
      },
      "outputs": [],
      "source": [
        "# cr loanwords = ['chanson','auteur','a la mode','académie','après','bourgeois','burlesque','depanneur','detente','ennui','faux pas','fete','fin de siecle','gite','jongleur','lycee','peloton','proletariat','rendezvous']\n",
        "# fr-en loanwords = ['aplomb','beige','brochure','cafe','camaraderie','cliche','clique','concierge','coup','debacle','detour','elite','ensemble','etiquette','facade','fine','foyer','naive','nuance','physique','rapport','reservoir']\n",
        "# literal translations = ['academy','after','author','boredom','cottage','end of century','fashionable','high school','misstep','mockery','pack','party','relaxation','repairman','room','song','minstrel','working class','meeting','middle class']\n",
        "# non-borrowed words = ['fire','nose','water','tongue','blood','bone','rain','name','louse','sweet','fly','night','ear','house','bitter','salt','knee','new','old','thick','long']"
      ]
    },
    {
      "cell_type": "code",
      "execution_count": 4,
      "metadata": {
        "id": "v5wF2QYMekq0"
      },
      "outputs": [
        {
          "name": "stdout",
          "output_type": "stream",
          "text": [
            "Intel MKL WARNING: Support of Intel(R) Streaming SIMD Extensions 4.2 (Intel(R) SSE4.2) enabled only processors has been deprecated. Intel oneAPI Math Kernel Library 2025.0 will require Intel(R) Advanced Vector Extensions (Intel(R) AVX) instructions.\n",
            "Intel MKL WARNING: Support of Intel(R) Streaming SIMD Extensions 4.2 (Intel(R) SSE4.2) enabled only processors has been deprecated. Intel oneAPI Math Kernel Library 2025.0 will require Intel(R) Advanced Vector Extensions (Intel(R) AVX) instructions.\n"
          ]
        }
      ],
      "source": [
        "import pandas as pd\n",
        "word_df = pd.read_pickle('Results/Results_Pickles/'+word+'_'+language+'_'+model_name+'.pkl') # pickle files not stored locally due to their size\n",
        "translation_df = pd.read_pickle('Results/Results_Pickles/'+translation+'_'+language+'_'+model_name+'.pkl')\n",
        "# extra_df = pd.read_pickle('/drive/My Drive/Colab Notebooks/EN_Clustering/'+extra+'_'+language+'_'+model_name+'.pkl')\n",
        "# extra2_df = pd.read_pickle('/drive/My Drive/Colab Notebooks/EN_Clustering/'+extra2+'_'+language+'_'+model_name+'.pkl')\n",
        "\n",
        "w_df = pd.concat([word_df,translation_df])\n"
      ]
    },
    {
      "cell_type": "code",
      "execution_count": 5,
      "metadata": {
        "id": "obXCgqlLiHb6"
      },
      "outputs": [],
      "source": [
        "if layer == '12':\n",
        "  layer_key = 'embeddings_layer_12'\n",
        "elif layer == '11':\n",
        "  layer_key = 'embeddings_layer_11'\n",
        "elif layer == '10':\n",
        "  layer_key = 'embeddings_layer_10'"
      ]
    },
    {
      "cell_type": "code",
      "execution_count": 6,
      "metadata": {
        "id": "2u9lmS5Zex01"
      },
      "outputs": [
        {
          "name": "stdout",
          "output_type": "stream",
          "text": [
            "Intel MKL WARNING: Support of Intel(R) Streaming SIMD Extensions 4.2 (Intel(R) SSE4.2) enabled only processors has been deprecated. Intel oneAPI Math Kernel Library 2025.0 will require Intel(R) Advanced Vector Extensions (Intel(R) AVX) instructions.\n",
            "Intel MKL WARNING: Support of Intel(R) Streaming SIMD Extensions 4.2 (Intel(R) SSE4.2) enabled only processors has been deprecated. Intel oneAPI Math Kernel Library 2025.0 will require Intel(R) Advanced Vector Extensions (Intel(R) AVX) instructions.\n",
            "Intel MKL WARNING: Support of Intel(R) Streaming SIMD Extensions 4.2 (Intel(R) SSE4.2) enabled only processors has been deprecated. Intel oneAPI Math Kernel Library 2025.0 will require Intel(R) Advanced Vector Extensions (Intel(R) AVX) instructions.\n",
            "Intel MKL WARNING: Support of Intel(R) Streaming SIMD Extensions 4.2 (Intel(R) SSE4.2) enabled only processors has been deprecated. Intel oneAPI Math Kernel Library 2025.0 will require Intel(R) Advanced Vector Extensions (Intel(R) AVX) instructions.\n",
            "Intel MKL WARNING: Support of Intel(R) Streaming SIMD Extensions 4.2 (Intel(R) SSE4.2) enabled only processors has been deprecated. Intel oneAPI Math Kernel Library 2025.0 will require Intel(R) Advanced Vector Extensions (Intel(R) AVX) instructions.\n",
            "Intel MKL WARNING: Support of Intel(R) Streaming SIMD Extensions 4.2 (Intel(R) SSE4.2) enabled only processors has been deprecated. Intel oneAPI Math Kernel Library 2025.0 will require Intel(R) Advanced Vector Extensions (Intel(R) AVX) instructions.\n",
            "Intel MKL WARNING: Support of Intel(R) Streaming SIMD Extensions 4.2 (Intel(R) SSE4.2) enabled only processors has been deprecated. Intel oneAPI Math Kernel Library 2025.0 will require Intel(R) Advanced Vector Extensions (Intel(R) AVX) instructions.\n",
            "Intel MKL WARNING: Support of Intel(R) Streaming SIMD Extensions 4.2 (Intel(R) SSE4.2) enabled only processors has been deprecated. Intel oneAPI Math Kernel Library 2025.0 will require Intel(R) Advanced Vector Extensions (Intel(R) AVX) instructions.\n",
            "Intel MKL WARNING: Support of Intel(R) Streaming SIMD Extensions 4.2 (Intel(R) SSE4.2) enabled only processors has been deprecated. Intel oneAPI Math Kernel Library 2025.0 will require Intel(R) Advanced Vector Extensions (Intel(R) AVX) instructions.\n",
            "Intel MKL WARNING: Support of Intel(R) Streaming SIMD Extensions 4.2 (Intel(R) SSE4.2) enabled only processors has been deprecated. Intel oneAPI Math Kernel Library 2025.0 will require Intel(R) Advanced Vector Extensions (Intel(R) AVX) instructions.\n",
            "Intel MKL WARNING: Support of Intel(R) Streaming SIMD Extensions 4.2 (Intel(R) SSE4.2) enabled only processors has been deprecated. Intel oneAPI Math Kernel Library 2025.0 will require Intel(R) Advanced Vector Extensions (Intel(R) AVX) instructions.\n",
            "Intel MKL WARNING: Support of Intel(R) Streaming SIMD Extensions 4.2 (Intel(R) SSE4.2) enabled only processors has been deprecated. Intel oneAPI Math Kernel Library 2025.0 will require Intel(R) Advanced Vector Extensions (Intel(R) AVX) instructions.\n",
            "Intel MKL WARNING: Support of Intel(R) Streaming SIMD Extensions 4.2 (Intel(R) SSE4.2) enabled only processors has been deprecated. Intel oneAPI Math Kernel Library 2025.0 will require Intel(R) Advanced Vector Extensions (Intel(R) AVX) instructions.\n",
            "Intel MKL WARNING: Support of Intel(R) Streaming SIMD Extensions 4.2 (Intel(R) SSE4.2) enabled only processors has been deprecated. Intel oneAPI Math Kernel Library 2025.0 will require Intel(R) Advanced Vector Extensions (Intel(R) AVX) instructions.\n",
            "Intel MKL WARNING: Support of Intel(R) Streaming SIMD Extensions 4.2 (Intel(R) SSE4.2) enabled only processors has been deprecated. Intel oneAPI Math Kernel Library 2025.0 will require Intel(R) Advanced Vector Extensions (Intel(R) AVX) instructions.\n",
            "Intel MKL WARNING: Support of Intel(R) Streaming SIMD Extensions 4.2 (Intel(R) SSE4.2) enabled only processors has been deprecated. Intel oneAPI Math Kernel Library 2025.0 will require Intel(R) Advanced Vector Extensions (Intel(R) AVX) instructions.\n",
            "Intel MKL WARNING: Support of Intel(R) Streaming SIMD Extensions 4.2 (Intel(R) SSE4.2) enabled only processors has been deprecated. Intel oneAPI Math Kernel Library 2025.0 will require Intel(R) Advanced Vector Extensions (Intel(R) AVX) instructions.\n",
            "Intel MKL WARNING: Support of Intel(R) Streaming SIMD Extensions 4.2 (Intel(R) SSE4.2) enabled only processors has been deprecated. Intel oneAPI Math Kernel Library 2025.0 will require Intel(R) Advanced Vector Extensions (Intel(R) AVX) instructions.\n",
            "Intel MKL WARNING: Support of Intel(R) Streaming SIMD Extensions 4.2 (Intel(R) SSE4.2) enabled only processors has been deprecated. Intel oneAPI Math Kernel Library 2025.0 will require Intel(R) Advanced Vector Extensions (Intel(R) AVX) instructions.\n",
            "Intel MKL WARNING: Support of Intel(R) Streaming SIMD Extensions 4.2 (Intel(R) SSE4.2) enabled only processors has been deprecated. Intel oneAPI Math Kernel Library 2025.0 will require Intel(R) Advanced Vector Extensions (Intel(R) AVX) instructions.\n",
            "Intel MKL WARNING: Support of Intel(R) Streaming SIMD Extensions 4.2 (Intel(R) SSE4.2) enabled only processors has been deprecated. Intel oneAPI Math Kernel Library 2025.0 will require Intel(R) Advanced Vector Extensions (Intel(R) AVX) instructions.\n",
            "Intel MKL WARNING: Support of Intel(R) Streaming SIMD Extensions 4.2 (Intel(R) SSE4.2) enabled only processors has been deprecated. Intel oneAPI Math Kernel Library 2025.0 will require Intel(R) Advanced Vector Extensions (Intel(R) AVX) instructions.\n"
          ]
        }
      ],
      "source": [
        "import numpy as np\n",
        "from sklearn.decomposition import PCA\n",
        "X = np.array(w_df[layer_key].tolist()) # word_embeddings\n",
        "\n",
        "pca = PCA(2)\n",
        "df = pca.fit_transform(X)"
      ]
    },
    {
      "cell_type": "code",
      "execution_count": 7,
      "metadata": {
        "colab": {
          "base_uri": "https://localhost:8080/",
          "height": 472
        },
        "id": "VThU9p_Ce5oE",
        "outputId": "f8ae879a-251d-4398-e473-77b25b574ecf"
      },
      "outputs": [],
      "source": [
        "from sklearn.cluster import KMeans\n",
        "from sklearn.metrics import silhouette_score\n",
        "import matplotlib.pyplot as plt\n",
        "\n",
        "word_embeddings = df\n",
        "\n",
        "# Compute silhouette coefficients for different numbers of clusters\n",
        "min_clusters = 2\n",
        "max_clusters = 10\n",
        "silhouette_scores = []\n",
        "\n",
        "for k in range(min_clusters, max_clusters + 1):\n",
        "    kmeans = KMeans(n_clusters=k, random_state=0, n_init=10)\n",
        "    clusters = kmeans.fit_predict(word_embeddings)\n",
        "    score = silhouette_score(word_embeddings, clusters)\n",
        "    silhouette_scores.append(score)\n",
        "\n",
        "# Plot the silhouette scores\n",
        "plt.plot(range(min_clusters, max_clusters + 1), silhouette_scores, marker='o')\n",
        "plt.xlabel('Number of Clusters (k)')\n",
        "plt.ylabel('Silhouette Coefficient')\n",
        "plt.title('Silhouette Coefficient for Different Numbers of Clusters')\n",
        "plt.grid(True)\n",
        "plt.show()"
      ]
    },
    {
      "cell_type": "code",
      "execution_count": null,
      "metadata": {
        "colab": {
          "base_uri": "https://localhost:8080/",
          "height": 472
        },
        "id": "la2brbBkfFy-",
        "outputId": "42153185-2909-4f9b-cfc5-200a9116d486"
      },
      "outputs": [
        {
          "data": {
            "image/png": "[encoded data removed]",
            "text/plain": [
              "<Figure size 640x480 with 1 Axes>"
            ]
          },
          "metadata": {},
          "output_type": "display_data"
        }
      ],
      "source": [
        "# Compute within-cluster sum of squares (WCSS) for different numbers of clusters\n",
        "min_clusters = 2\n",
        "max_clusters = 6\n",
        "wcss = []\n",
        "\n",
        "for k in range(min_clusters, max_clusters + 1):\n",
        "    kmeans = KMeans(n_clusters=k, random_state=0,n_init=10)\n",
        "    kmeans.fit(word_embeddings)\n",
        "    wcss.append(kmeans.inertia_)\n",
        "\n",
        "# Plot the within-cluster sum of squares (WCSS)\n",
        "plt.plot(range(min_clusters, max_clusters + 1), wcss, marker='o')\n",
        "plt.xlabel('Number of Clusters (k)')\n",
        "plt.ylabel('Within-Cluster Sum of Squares (WCSS)')\n",
        "plt.title('WCSS for Different Numbers of Clusters')\n",
        "plt.grid(True)\n",
        "plt.show()"
      ]
    },
    {
      "cell_type": "code",
      "execution_count": 7,
      "metadata": {
        "colab": {
          "base_uri": "https://localhost:8080/",
          "height": 617
        },
        "id": "fOVsJiaUfKgn",
        "outputId": "4c0849ab-857f-43d8-9338-2bbf1e26ab69"
      },
      "outputs": [],
      "source": [
        "from sklearn.cluster import KMeans\n",
        "import plotly.express as px\n",
        "\n",
        "# Create text annotations for each point\n",
        "words = w_df['original'].tolist()\n",
        "\n",
        "kmeans = KMeans(n_clusters = 2,n_init=10, random_state =0 )\n",
        "clusters = kmeans.fit_predict(df)\n",
        "\n",
        "# Creating a dataframe with embeddings and sentences\n",
        "data = {'x': df[:, 0], 'y': df[:, 1], 'cluster': clusters, 'word': words}\n",
        "sentence_df = pd.DataFrame(data)\n",
        "\n",
        "\n",
        "# Create a scatter plot with hover annotations using Plotly\n",
        "fig = px.scatter(\n",
        "    sentence_df,\n",
        "    x='x',\n",
        "    y='y',\n",
        "    color='cluster',\n",
        "    color_continuous_scale=px.colors.qualitative.Plotly,\n",
        "    hover_data=['word'],\n",
        "    width=1200,\n",
        "    height=600\n",
        ")\n",
        "fig.update_traces(marker=dict(size=10))\n",
        "\n",
        "# Removing the title\n",
        "fig.update_layout(title_text='')\n",
        "\n",
        "# Removing the gradient scale of cluster colors\n",
        "# fig.update_coloraxes(colorscale='')\n",
        "\n",
        "# Increasing the font size of the ticks\n",
        "fig.update_layout(\n",
        "    xaxis=dict(tickfont=dict(size=14)),\n",
        "    yaxis=dict(tickfont=dict(size=14))\n",
        ")\n",
        "\n",
        "# Display the plot\n",
        "fig.show()"
      ]
    },
    {
      "cell_type": "code",
      "execution_count": null,
      "metadata": {
        "id": "ecoPnZMffZEq"
      },
      "outputs": [],
      "source": [
        "# computing cosine distances for embeddings\n",
        "\n",
        "from scipy.spatial.distance import pdist\n",
        "\n",
        "word_embeddings = X\n",
        "\n",
        "# Calculate cosine distances using pairwise distances\n",
        "distances = pdist(word_embeddings, metric='cosine')"
      ]
    },
    {
      "cell_type": "code",
      "execution_count": null,
      "metadata": {
        "colab": {
          "base_uri": "https://localhost:8080/"
        },
        "id": "IFb1F0OLfa6d",
        "outputId": "7acbc492-05e3-4564-9c55-e1989f241a5e"
      },
      "outputs": [
        {
          "name": "stdout",
          "output_type": "stream",
          "text": [
            "Mean distance:  0.5459173126796343\n"
          ]
        }
      ],
      "source": [
        "import numpy as np\n",
        "av = np.mean(distances)\n",
        "print(\"Mean distance: \",av)"
      ]
    },
    {
      "cell_type": "code",
      "execution_count": null,
      "metadata": {
        "colab": {
          "base_uri": "https://localhost:8080/"
        },
        "id": "T3cEM4uffbZX",
        "outputId": "f35c2562-6ab6-4de1-cb12-4788966b9b8c"
      },
      "outputs": [
        {
          "name": "stdout",
          "output_type": "stream",
          "text": [
            "Standard Deviation: 0.21958897114501014\n"
          ]
        }
      ],
      "source": [
        "import numpy as np\n",
        "\n",
        "# Calculate the standard deviation\n",
        "std_dev = np.std(distances)\n",
        "\n",
        "# Print the standard deviation\n",
        "print(\"Standard Deviation:\", std_dev)\n"
      ]
    }
  ],
  "metadata": {
    "colab": {
      "provenance": []
    },
    "kernelspec": {
      "display_name": "Python 3",
      "name": "python3"
    },
    "language_info": {
      "codemirror_mode": {
        "name": "ipython",
        "version": 3
      },
      "file_extension": ".py",
      "mimetype": "text/x-python",
      "name": "python",
      "nbconvert_exporter": "python",
      "pygments_lexer": "ipython3",
      "version": "3.9.12"
    }
  },
  "nbformat": 4,
  "nbformat_minor": 0
}
